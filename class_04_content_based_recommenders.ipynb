{
 "cells": [
  {
   "cell_type": "code",
   "execution_count": 16,
   "id": "exciting-specific",
   "metadata": {
    "pycharm": {
     "name": "#%%\n"
    }
   },
   "outputs": [
    {
     "name": "stdout",
     "output_type": "stream",
     "text": [
      "The autoreload extension is already loaded. To reload it, use:\n",
      "  %reload_ext autoreload\n"
     ]
    }
   ],
   "source": [
    "%matplotlib inline\n",
    "%load_ext autoreload\n",
    "%autoreload 2\n",
    "\n",
    "import numpy as np\n",
    "import pandas as pd\n",
    "import matplotlib.pyplot as plt\n",
    "import seaborn as sns\n",
    "from IPython.display import Markdown, display, HTML\n",
    "from collections import defaultdict\n",
    "from sklearn.model_selection import KFold\n",
    "from sklearn.feature_extraction.text import TfidfVectorizer\n",
    "import time\n",
    "\n",
    "pd.set_option('display.max_columns', 50)\n",
    "\n",
    "from evaluation_and_testing.testing import evaluate_train_test_split_explicit\n",
    "from evaluation_and_testing.testing import evaluate_leave_one_out_explicit\n",
    "from evaluation_and_testing.testing import evaluate_train_test_split_implicit\n",
    "from evaluation_and_testing.testing import evaluate_leave_one_out_implicit\n",
    "\n",
    "from recommenders.recommender import Recommender\n",
    "\n",
    "# Fix the dying kernel problem (only a problem in some installations - you can remove it, if it works without it)\n",
    "import os\n",
    "os.environ['KMP_DUPLICATE_LIB_OK'] = 'True'"
   ]
  },
  {
   "cell_type": "markdown",
   "id": "administrative-charleston",
   "metadata": {
    "pycharm": {
     "name": "#%% md\n"
    }
   },
   "source": [
    "# Load the data"
   ]
  },
  {
   "cell_type": "code",
   "execution_count": 17,
   "id": "architectural-andrews",
   "metadata": {
    "pycharm": {
     "name": "#%%\n"
    }
   },
   "outputs": [
    {
     "data": {
      "text/plain": "   item_id                               title  \\\n0        1                    Toy Story (1995)   \n1        2                      Jumanji (1995)   \n2        3             Grumpier Old Men (1995)   \n3        4            Waiting to Exhale (1995)   \n4        5  Father of the Bride Part II (1995)   \n5        6                         Heat (1995)   \n6        7                      Sabrina (1995)   \n7        8                 Tom and Huck (1995)   \n8        9                 Sudden Death (1995)   \n9       10                    GoldenEye (1995)   \n\n                                        genres  \n0  Adventure|Animation|Children|Comedy|Fantasy  \n1                   Adventure|Children|Fantasy  \n2                               Comedy|Romance  \n3                         Comedy|Drama|Romance  \n4                                       Comedy  \n5                        Action|Crime|Thriller  \n6                               Comedy|Romance  \n7                           Adventure|Children  \n8                                       Action  \n9                    Action|Adventure|Thriller  ",
      "text/html": "<div>\n<style scoped>\n    .dataframe tbody tr th:only-of-type {\n        vertical-align: middle;\n    }\n\n    .dataframe tbody tr th {\n        vertical-align: top;\n    }\n\n    .dataframe thead th {\n        text-align: right;\n    }\n</style>\n<table border=\"1\" class=\"dataframe\">\n  <thead>\n    <tr style=\"text-align: right;\">\n      <th></th>\n      <th>item_id</th>\n      <th>title</th>\n      <th>genres</th>\n    </tr>\n  </thead>\n  <tbody>\n    <tr>\n      <th>0</th>\n      <td>1</td>\n      <td>Toy Story (1995)</td>\n      <td>Adventure|Animation|Children|Comedy|Fantasy</td>\n    </tr>\n    <tr>\n      <th>1</th>\n      <td>2</td>\n      <td>Jumanji (1995)</td>\n      <td>Adventure|Children|Fantasy</td>\n    </tr>\n    <tr>\n      <th>2</th>\n      <td>3</td>\n      <td>Grumpier Old Men (1995)</td>\n      <td>Comedy|Romance</td>\n    </tr>\n    <tr>\n      <th>3</th>\n      <td>4</td>\n      <td>Waiting to Exhale (1995)</td>\n      <td>Comedy|Drama|Romance</td>\n    </tr>\n    <tr>\n      <th>4</th>\n      <td>5</td>\n      <td>Father of the Bride Part II (1995)</td>\n      <td>Comedy</td>\n    </tr>\n    <tr>\n      <th>5</th>\n      <td>6</td>\n      <td>Heat (1995)</td>\n      <td>Action|Crime|Thriller</td>\n    </tr>\n    <tr>\n      <th>6</th>\n      <td>7</td>\n      <td>Sabrina (1995)</td>\n      <td>Comedy|Romance</td>\n    </tr>\n    <tr>\n      <th>7</th>\n      <td>8</td>\n      <td>Tom and Huck (1995)</td>\n      <td>Adventure|Children</td>\n    </tr>\n    <tr>\n      <th>8</th>\n      <td>9</td>\n      <td>Sudden Death (1995)</td>\n      <td>Action</td>\n    </tr>\n    <tr>\n      <th>9</th>\n      <td>10</td>\n      <td>GoldenEye (1995)</td>\n      <td>Action|Adventure|Thriller</td>\n    </tr>\n  </tbody>\n</table>\n</div>"
     },
     "metadata": {},
     "output_type": "display_data"
    },
    {
     "name": "stdout",
     "output_type": "stream",
     "text": [
      "Number of chosen interactions: 9692\n"
     ]
    },
    {
     "data": {
      "text/plain": "     user_id  item_id  rating   timestamp                       title  \\\n572        1       50     5.0   964982931  Usual Suspects, The (1995)   \n573        5       50     4.0   847434881  Usual Suspects, The (1995)   \n574        6       50     1.0   845553381  Usual Suspects, The (1995)   \n575        7       50     4.5  1106635993  Usual Suspects, The (1995)   \n576        8       50     5.0   839463644  Usual Suspects, The (1995)   \n577       16       50     4.0  1377476781  Usual Suspects, The (1995)   \n578       17       50     4.5  1305697013  Usual Suspects, The (1995)   \n579       18       50     5.0  1455049343  Usual Suspects, The (1995)   \n580       23       50     4.0  1107163741  Usual Suspects, The (1995)   \n581       24       50     4.0  1458942023  Usual Suspects, The (1995)   \n\n                     genres  \n572  Crime|Mystery|Thriller  \n573  Crime|Mystery|Thriller  \n574  Crime|Mystery|Thriller  \n575  Crime|Mystery|Thriller  \n576  Crime|Mystery|Thriller  \n577  Crime|Mystery|Thriller  \n578  Crime|Mystery|Thriller  \n579  Crime|Mystery|Thriller  \n580  Crime|Mystery|Thriller  \n581  Crime|Mystery|Thriller  ",
      "text/html": "<div>\n<style scoped>\n    .dataframe tbody tr th:only-of-type {\n        vertical-align: middle;\n    }\n\n    .dataframe tbody tr th {\n        vertical-align: top;\n    }\n\n    .dataframe thead th {\n        text-align: right;\n    }\n</style>\n<table border=\"1\" class=\"dataframe\">\n  <thead>\n    <tr style=\"text-align: right;\">\n      <th></th>\n      <th>user_id</th>\n      <th>item_id</th>\n      <th>rating</th>\n      <th>timestamp</th>\n      <th>title</th>\n      <th>genres</th>\n    </tr>\n  </thead>\n  <tbody>\n    <tr>\n      <th>572</th>\n      <td>1</td>\n      <td>50</td>\n      <td>5.0</td>\n      <td>964982931</td>\n      <td>Usual Suspects, The (1995)</td>\n      <td>Crime|Mystery|Thriller</td>\n    </tr>\n    <tr>\n      <th>573</th>\n      <td>5</td>\n      <td>50</td>\n      <td>4.0</td>\n      <td>847434881</td>\n      <td>Usual Suspects, The (1995)</td>\n      <td>Crime|Mystery|Thriller</td>\n    </tr>\n    <tr>\n      <th>574</th>\n      <td>6</td>\n      <td>50</td>\n      <td>1.0</td>\n      <td>845553381</td>\n      <td>Usual Suspects, The (1995)</td>\n      <td>Crime|Mystery|Thriller</td>\n    </tr>\n    <tr>\n      <th>575</th>\n      <td>7</td>\n      <td>50</td>\n      <td>4.5</td>\n      <td>1106635993</td>\n      <td>Usual Suspects, The (1995)</td>\n      <td>Crime|Mystery|Thriller</td>\n    </tr>\n    <tr>\n      <th>576</th>\n      <td>8</td>\n      <td>50</td>\n      <td>5.0</td>\n      <td>839463644</td>\n      <td>Usual Suspects, The (1995)</td>\n      <td>Crime|Mystery|Thriller</td>\n    </tr>\n    <tr>\n      <th>577</th>\n      <td>16</td>\n      <td>50</td>\n      <td>4.0</td>\n      <td>1377476781</td>\n      <td>Usual Suspects, The (1995)</td>\n      <td>Crime|Mystery|Thriller</td>\n    </tr>\n    <tr>\n      <th>578</th>\n      <td>17</td>\n      <td>50</td>\n      <td>4.5</td>\n      <td>1305697013</td>\n      <td>Usual Suspects, The (1995)</td>\n      <td>Crime|Mystery|Thriller</td>\n    </tr>\n    <tr>\n      <th>579</th>\n      <td>18</td>\n      <td>50</td>\n      <td>5.0</td>\n      <td>1455049343</td>\n      <td>Usual Suspects, The (1995)</td>\n      <td>Crime|Mystery|Thriller</td>\n    </tr>\n    <tr>\n      <th>580</th>\n      <td>23</td>\n      <td>50</td>\n      <td>4.0</td>\n      <td>1107163741</td>\n      <td>Usual Suspects, The (1995)</td>\n      <td>Crime|Mystery|Thriller</td>\n    </tr>\n    <tr>\n      <th>581</th>\n      <td>24</td>\n      <td>50</td>\n      <td>4.0</td>\n      <td>1458942023</td>\n      <td>Usual Suspects, The (1995)</td>\n      <td>Crime|Mystery|Thriller</td>\n    </tr>\n  </tbody>\n</table>\n</div>"
     },
     "metadata": {},
     "output_type": "display_data"
    }
   ],
   "source": [
    "ml_ratings_df = pd.read_csv(os.path.join(\"data\", \"movielens_small\", \"ratings.csv\")).rename(columns={'userId': 'user_id', 'movieId': 'item_id'})\n",
    "ml_movies_df = pd.read_csv(os.path.join(\"data\", \"movielens_small\", \"movies.csv\")).rename(columns={'movieId': 'item_id'})\n",
    "ml_df = pd.merge(ml_ratings_df, ml_movies_df, on='item_id')\n",
    "\n",
    "display(ml_movies_df.head(10))\n",
    "\n",
    "# Filter the data to reduce the number of movies\n",
    "seed = 6789\n",
    "rng = np.random.RandomState(seed=seed)\n",
    "left_ids = rng.choice(ml_movies_df['item_id'], size=1000, replace=False)\n",
    "\n",
    "ml_ratings_df = ml_ratings_df.loc[ml_ratings_df['item_id'].isin(left_ids)]\n",
    "ml_movies_df = ml_movies_df.loc[ml_movies_df['item_id'].isin(left_ids)]\n",
    "ml_df = ml_df.loc[ml_df['item_id'].isin(left_ids)]\n",
    "\n",
    "print(\"Number of chosen interactions: {}\".format(len(ml_ratings_df)))\n",
    "\n",
    "display(ml_df.head(10))"
   ]
  },
  {
   "cell_type": "markdown",
   "id": "bottom-grill",
   "metadata": {
    "pycharm": {
     "name": "#%% md\n"
    }
   },
   "source": [
    "# Baseline recommenders"
   ]
  },
  {
   "cell_type": "markdown",
   "id": "controlled-phoenix",
   "metadata": {
    "pycharm": {
     "name": "#%% md\n"
    }
   },
   "source": [
    "**Task 1.** Implement the MostPopularRecommender (check the slides for class 1), evaluate it with leave-one-out procedure for implicit feedback, print HR@1, HR@3, HR@5, HR@10, NDCG@1, NDCG@3, NDCG@5, NDCG@10."
   ]
  },
  {
   "cell_type": "code",
   "execution_count": 55,
   "id": "sixth-basketball",
   "metadata": {
    "pycharm": {
     "name": "#%%\n"
    }
   },
   "outputs": [
    {
     "name": "stdout",
     "output_type": "stream",
     "text": [
      "Recommendations\n"
     ]
    },
    {
     "data": {
      "text/plain": "<IPython.core.display.HTML object>",
      "text/html": "<table border=\"1\" class=\"dataframe\">\n  <thead>\n    <tr style=\"text-align: right;\">\n      <th></th>\n      <th>user_id</th>\n      <th>item_id</th>\n      <th>score</th>\n      <th>title</th>\n      <th>genres</th>\n    </tr>\n  </thead>\n  <tbody>\n    <tr>\n      <th>0</th>\n      <td>1</td>\n      <td>50</td>\n      <td>1.000000</td>\n      <td>Usual Suspects, The (1995)</td>\n      <td>Crime|Mystery|Thriller</td>\n    </tr>\n    <tr>\n      <th>1</th>\n      <td>1</td>\n      <td>780</td>\n      <td>0.500000</td>\n      <td>Independence Day (a.k.a. ID4) (1996)</td>\n      <td>Action|Adventure|Sci-Fi|Thriller</td>\n    </tr>\n    <tr>\n      <th>2</th>\n      <td>1</td>\n      <td>858</td>\n      <td>0.333333</td>\n      <td>Godfather, The (1972)</td>\n      <td>Crime|Drama</td>\n    </tr>\n    <tr>\n      <th>3</th>\n      <td>1</td>\n      <td>595</td>\n      <td>0.250000</td>\n      <td>Beauty and the Beast (1991)</td>\n      <td>Animation|Children|Fantasy|Musical|Romance|IMAX</td>\n    </tr>\n    <tr>\n      <th>4</th>\n      <td>1</td>\n      <td>1704</td>\n      <td>0.200000</td>\n      <td>Good Will Hunting (1997)</td>\n      <td>Drama|Romance</td>\n    </tr>\n    <tr>\n      <th>5</th>\n      <td>1</td>\n      <td>1213</td>\n      <td>0.166667</td>\n      <td>Goodfellas (1990)</td>\n      <td>Crime|Drama</td>\n    </tr>\n    <tr>\n      <th>6</th>\n      <td>1</td>\n      <td>2716</td>\n      <td>0.142857</td>\n      <td>Ghostbusters (a.k.a. Ghost Busters) (1984)</td>\n      <td>Action|Comedy|Sci-Fi</td>\n    </tr>\n    <tr>\n      <th>7</th>\n      <td>1</td>\n      <td>586</td>\n      <td>0.125000</td>\n      <td>Home Alone (1990)</td>\n      <td>Children|Comedy</td>\n    </tr>\n    <tr>\n      <th>8</th>\n      <td>1</td>\n      <td>208</td>\n      <td>0.111111</td>\n      <td>Waterworld (1995)</td>\n      <td>Action|Adventure|Sci-Fi</td>\n    </tr>\n    <tr>\n      <th>9</th>\n      <td>1</td>\n      <td>7438</td>\n      <td>0.100000</td>\n      <td>Kill Bill: Vol. 2 (2004)</td>\n      <td>Action|Drama|Thriller</td>\n    </tr>\n    <tr>\n      <th>10</th>\n      <td>2</td>\n      <td>50</td>\n      <td>1.000000</td>\n      <td>Usual Suspects, The (1995)</td>\n      <td>Crime|Mystery|Thriller</td>\n    </tr>\n    <tr>\n      <th>11</th>\n      <td>2</td>\n      <td>780</td>\n      <td>0.500000</td>\n      <td>Independence Day (a.k.a. ID4) (1996)</td>\n      <td>Action|Adventure|Sci-Fi|Thriller</td>\n    </tr>\n    <tr>\n      <th>12</th>\n      <td>2</td>\n      <td>858</td>\n      <td>0.333333</td>\n      <td>Godfather, The (1972)</td>\n      <td>Crime|Drama</td>\n    </tr>\n    <tr>\n      <th>13</th>\n      <td>2</td>\n      <td>595</td>\n      <td>0.250000</td>\n      <td>Beauty and the Beast (1991)</td>\n      <td>Animation|Children|Fantasy|Musical|Romance|IMAX</td>\n    </tr>\n    <tr>\n      <th>14</th>\n      <td>2</td>\n      <td>1704</td>\n      <td>0.200000</td>\n      <td>Good Will Hunting (1997)</td>\n      <td>Drama|Romance</td>\n    </tr>\n    <tr>\n      <th>15</th>\n      <td>2</td>\n      <td>1213</td>\n      <td>0.166667</td>\n      <td>Goodfellas (1990)</td>\n      <td>Crime|Drama</td>\n    </tr>\n    <tr>\n      <th>16</th>\n      <td>2</td>\n      <td>2716</td>\n      <td>0.142857</td>\n      <td>Ghostbusters (a.k.a. Ghost Busters) (1984)</td>\n      <td>Action|Comedy|Sci-Fi</td>\n    </tr>\n    <tr>\n      <th>17</th>\n      <td>2</td>\n      <td>586</td>\n      <td>0.125000</td>\n      <td>Home Alone (1990)</td>\n      <td>Children|Comedy</td>\n    </tr>\n    <tr>\n      <th>18</th>\n      <td>2</td>\n      <td>208</td>\n      <td>0.111111</td>\n      <td>Waterworld (1995)</td>\n      <td>Action|Adventure|Sci-Fi</td>\n    </tr>\n    <tr>\n      <th>19</th>\n      <td>2</td>\n      <td>7438</td>\n      <td>0.100000</td>\n      <td>Kill Bill: Vol. 2 (2004)</td>\n      <td>Action|Drama|Thriller</td>\n    </tr>\n    <tr>\n      <th>20</th>\n      <td>6</td>\n      <td>50</td>\n      <td>1.000000</td>\n      <td>Usual Suspects, The (1995)</td>\n      <td>Crime|Mystery|Thriller</td>\n    </tr>\n    <tr>\n      <th>21</th>\n      <td>6</td>\n      <td>780</td>\n      <td>0.500000</td>\n      <td>Independence Day (a.k.a. ID4) (1996)</td>\n      <td>Action|Adventure|Sci-Fi|Thriller</td>\n    </tr>\n    <tr>\n      <th>22</th>\n      <td>6</td>\n      <td>858</td>\n      <td>0.333333</td>\n      <td>Godfather, The (1972)</td>\n      <td>Crime|Drama</td>\n    </tr>\n    <tr>\n      <th>23</th>\n      <td>6</td>\n      <td>595</td>\n      <td>0.250000</td>\n      <td>Beauty and the Beast (1991)</td>\n      <td>Animation|Children|Fantasy|Musical|Romance|IMAX</td>\n    </tr>\n    <tr>\n      <th>24</th>\n      <td>6</td>\n      <td>1704</td>\n      <td>0.200000</td>\n      <td>Good Will Hunting (1997)</td>\n      <td>Drama|Romance</td>\n    </tr>\n    <tr>\n      <th>25</th>\n      <td>6</td>\n      <td>1213</td>\n      <td>0.166667</td>\n      <td>Goodfellas (1990)</td>\n      <td>Crime|Drama</td>\n    </tr>\n    <tr>\n      <th>26</th>\n      <td>6</td>\n      <td>2716</td>\n      <td>0.142857</td>\n      <td>Ghostbusters (a.k.a. Ghost Busters) (1984)</td>\n      <td>Action|Comedy|Sci-Fi</td>\n    </tr>\n    <tr>\n      <th>27</th>\n      <td>6</td>\n      <td>586</td>\n      <td>0.125000</td>\n      <td>Home Alone (1990)</td>\n      <td>Children|Comedy</td>\n    </tr>\n    <tr>\n      <th>28</th>\n      <td>6</td>\n      <td>208</td>\n      <td>0.111111</td>\n      <td>Waterworld (1995)</td>\n      <td>Action|Adventure|Sci-Fi</td>\n    </tr>\n    <tr>\n      <th>29</th>\n      <td>6</td>\n      <td>7438</td>\n      <td>0.100000</td>\n      <td>Kill Bill: Vol. 2 (2004)</td>\n      <td>Action|Drama|Thriller</td>\n    </tr>\n  </tbody>\n</table>"
     },
     "metadata": {},
     "output_type": "display_data"
    },
    {
     "data": {
      "text/plain": "<IPython.core.display.HTML object>",
      "text/html": "<table border=\"1\" class=\"dataframe\">\n  <thead>\n    <tr style=\"text-align: right;\">\n      <th></th>\n      <th>Recommender</th>\n      <th>HR@1</th>\n      <th>HR@3</th>\n      <th>HR@5</th>\n      <th>HR@10</th>\n      <th>NDCG@1</th>\n      <th>NDCG@3</th>\n      <th>NDCG@5</th>\n      <th>NDCG@10</th>\n    </tr>\n  </thead>\n  <tbody>\n    <tr>\n      <th>0</th>\n      <td>MostPopularRecommender</td>\n      <td>0.026667</td>\n      <td>0.05</td>\n      <td>0.083333</td>\n      <td>0.163333</td>\n      <td>0.026667</td>\n      <td>0.040079</td>\n      <td>0.053997</td>\n      <td>0.079749</td>\n    </tr>\n  </tbody>\n</table>"
     },
     "metadata": {},
     "output_type": "display_data"
    }
   ],
   "source": [
    "class MostPopularRecommender(Recommender):\n",
    "    \"\"\"\n",
    "    Base recommender class.\n",
    "    \"\"\"\n",
    "    \n",
    "    def __init__(self):\n",
    "        \"\"\"\n",
    "        Initialize base recommender params and variables.\n",
    "        \"\"\"\n",
    "        # Write your code here\n",
    "        self.most_popular_items = None\n",
    "        self.recommendations = None\n",
    "    \n",
    "    def fit(self, interactions_df, users_df, items_df):\n",
    "        \"\"\"\n",
    "        Training of the recommender.\n",
    "        \n",
    "        :param pd.DataFrame interactions_df: DataFrame with recorded interactions between users and items \n",
    "            defined by user_id, item_id and features of the interaction.\n",
    "        :param pd.DataFrame users_df: DataFrame with users and their features defined by user_id and the user feature columns.\n",
    "        :param pd.DataFrame items_df: DataFrame with items and their features defined by item_id and the item feature columns.\n",
    "        \"\"\"\n",
    "        # Write your code here\n",
    "        most_popular = interactions_df.loc[:, [\"item_id\", \"user_id\"]].groupby(\"item_id\").count()\n",
    "        self.most_popular_items = most_popular.rename(columns={\"user_id\": \"popularity\"}).sort_values(\"popularity\", ascending=False)\n",
    "    \n",
    "    def recommend(self, users_df, items_df, n_recommendations=1):\n",
    "        \"\"\"\n",
    "        Serving of recommendations. Scores items in items_df for each user in users_df and returns \n",
    "        top n_recommendations for each user.\n",
    "        \n",
    "        :param pd.DataFrame users_df: DataFrame with users and their features for which recommendations should be generated.\n",
    "        :param pd.DataFrame items_df: DataFrame with items and their features which should be scored.\n",
    "        :param int n_recommendations: Number of recommendations to be returned for each user.\n",
    "        :return: DataFrame with user_id, item_id and score as columns returning n_recommendations top recommendations \n",
    "            for each user.\n",
    "        :rtype: pd.DataFrame\n",
    "        \"\"\"\n",
    "        \n",
    "        # Write your code here\n",
    "        self.recommendations = pd.DataFrame(columns=[\"user_id\", \"item_id\", \"score\"])\n",
    "        for user in users_df[\"user_id\"].values:\n",
    "            user_recommendations = pd.DataFrame({\"user_id\": [user]*n_recommendations, \"item_id\": self.most_popular_items.index[:n_recommendations], \"score\": 1/(np.arange(n_recommendations)+1)})\n",
    "\n",
    "            self.recommendations = pd.concat([self.recommendations, user_recommendations])\n",
    "        return self.recommendations.reset_index().drop([\"index\"], axis=1)\n",
    "# Quick test of the recommender\n",
    "\n",
    "most_popular_recommender = MostPopularRecommender()\n",
    "most_popular_recommender.fit(ml_ratings_df, None, ml_movies_df)\n",
    "recommendations = most_popular_recommender.recommend(pd.DataFrame([[1], [2], [6]], columns=['user_id']), ml_movies_df, 10)\n",
    "\n",
    "recommendations = pd.merge(recommendations, ml_movies_df, on='item_id', how='left')\n",
    "print(\"Recommendations\")\n",
    "display(HTML(recommendations.to_html()))\n",
    "\n",
    "most_popular_recommender = MostPopularRecommender()\n",
    "\n",
    "most_popular_results = [['MostPopularRecommender'] + list(evaluate_leave_one_out_implicit(\n",
    "    most_popular_recommender, ml_ratings_df.loc[:, ['user_id', 'item_id']], ml_movies_df, max_evals=300, seed=6789))]\n",
    "\n",
    "most_popular_results = pd.DataFrame(\n",
    "    most_popular_results, \n",
    "    columns=['Recommender', 'HR@1', 'HR@3', 'HR@5', 'HR@10', 'NDCG@1', 'NDCG@3', 'NDCG@5', 'NDCG@10'])\n",
    "\n",
    "display(HTML(most_popular_results.to_html()))"
   ]
  },
  {
   "cell_type": "markdown",
   "id": "endangered-designer",
   "metadata": {
    "pycharm": {
     "name": "#%% md\n"
    }
   },
   "source": [
    "**Task 2.** Implement the HighestRatedRecommender (check the slides for class 1), but recommend only those movies which got at least 50 ratings. Evaluate it with leave-one-out procedure for implicit feedback, print HR@1, HR@3, HR@5, HR@10, NDCG@1, NDCG@3, NDCG@5, NDCG@10."
   ]
  },
  {
   "cell_type": "code",
   "execution_count": 19,
   "outputs": [
    {
     "data": {
      "text/plain": "     item_id  rating\n892   126088     5.0\n93      1151     5.0\n424     5468     5.0\n976   171749     5.0\n725    64501     5.0\n..       ...     ...\n947   151745     0.5\n979   173307     0.5\n697    54768     0.5\n930   144352     0.5\n489     6557     0.5\n\n[999 rows x 2 columns]",
      "text/html": "<div>\n<style scoped>\n    .dataframe tbody tr th:only-of-type {\n        vertical-align: middle;\n    }\n\n    .dataframe tbody tr th {\n        vertical-align: top;\n    }\n\n    .dataframe thead th {\n        text-align: right;\n    }\n</style>\n<table border=\"1\" class=\"dataframe\">\n  <thead>\n    <tr style=\"text-align: right;\">\n      <th></th>\n      <th>item_id</th>\n      <th>rating</th>\n    </tr>\n  </thead>\n  <tbody>\n    <tr>\n      <th>892</th>\n      <td>126088</td>\n      <td>5.0</td>\n    </tr>\n    <tr>\n      <th>93</th>\n      <td>1151</td>\n      <td>5.0</td>\n    </tr>\n    <tr>\n      <th>424</th>\n      <td>5468</td>\n      <td>5.0</td>\n    </tr>\n    <tr>\n      <th>976</th>\n      <td>171749</td>\n      <td>5.0</td>\n    </tr>\n    <tr>\n      <th>725</th>\n      <td>64501</td>\n      <td>5.0</td>\n    </tr>\n    <tr>\n      <th>...</th>\n      <td>...</td>\n      <td>...</td>\n    </tr>\n    <tr>\n      <th>947</th>\n      <td>151745</td>\n      <td>0.5</td>\n    </tr>\n    <tr>\n      <th>979</th>\n      <td>173307</td>\n      <td>0.5</td>\n    </tr>\n    <tr>\n      <th>697</th>\n      <td>54768</td>\n      <td>0.5</td>\n    </tr>\n    <tr>\n      <th>930</th>\n      <td>144352</td>\n      <td>0.5</td>\n    </tr>\n    <tr>\n      <th>489</th>\n      <td>6557</td>\n      <td>0.5</td>\n    </tr>\n  </tbody>\n</table>\n<p>999 rows × 2 columns</p>\n</div>"
     },
     "execution_count": 19,
     "metadata": {},
     "output_type": "execute_result"
    }
   ],
   "source": [
    "ml_ratings_df.groupby(\"item_id\")[\"rating\"].mean().reset_index().sort_values(by=\"rating\", ascending=False)"
   ],
   "metadata": {
    "collapsed": false,
    "pycharm": {
     "name": "#%%\n"
    }
   }
  },
  {
   "cell_type": "code",
   "execution_count": 36,
   "id": "robust-agenda",
   "metadata": {
    "pycharm": {
     "name": "#%%\n"
    }
   },
   "outputs": [
    {
     "name": "stdout",
     "output_type": "stream",
     "text": [
      "Recommendations\n"
     ]
    },
    {
     "data": {
      "text/plain": "<IPython.core.display.HTML object>",
      "text/html": "<table border=\"1\" class=\"dataframe\">\n  <thead>\n    <tr style=\"text-align: right;\">\n      <th></th>\n      <th>index</th>\n      <th>user_id</th>\n      <th>item_id</th>\n      <th>score</th>\n      <th>title</th>\n      <th>genres</th>\n    </tr>\n  </thead>\n  <tbody>\n    <tr>\n      <th>0</th>\n      <td>858</td>\n      <td>1</td>\n      <td>858</td>\n      <td>4.289062</td>\n      <td>Godfather, The (1972)</td>\n      <td>Crime|Drama</td>\n    </tr>\n    <tr>\n      <th>1</th>\n      <td>750</td>\n      <td>1</td>\n      <td>750</td>\n      <td>4.268041</td>\n      <td>Dr. Strangelove or: How I Learned to Stop Worrying and Love the Bomb (1964)</td>\n      <td>Comedy|War</td>\n    </tr>\n    <tr>\n      <th>2</th>\n      <td>1213</td>\n      <td>1</td>\n      <td>1213</td>\n      <td>4.250000</td>\n      <td>Goodfellas (1990)</td>\n      <td>Crime|Drama</td>\n    </tr>\n    <tr>\n      <th>3</th>\n      <td>50</td>\n      <td>1</td>\n      <td>50</td>\n      <td>4.237745</td>\n      <td>Usual Suspects, The (1995)</td>\n      <td>Crime|Mystery|Thriller</td>\n    </tr>\n    <tr>\n      <th>4</th>\n      <td>1225</td>\n      <td>1</td>\n      <td>1225</td>\n      <td>4.184211</td>\n      <td>Amadeus (1984)</td>\n      <td>Drama</td>\n    </tr>\n    <tr>\n      <th>5</th>\n      <td>1203</td>\n      <td>1</td>\n      <td>1203</td>\n      <td>4.149123</td>\n      <td>12 Angry Men (1957)</td>\n      <td>Drama</td>\n    </tr>\n    <tr>\n      <th>6</th>\n      <td>2502</td>\n      <td>1</td>\n      <td>2502</td>\n      <td>4.090426</td>\n      <td>Office Space (1999)</td>\n      <td>Comedy|Crime</td>\n    </tr>\n    <tr>\n      <th>7</th>\n      <td>1704</td>\n      <td>1</td>\n      <td>1704</td>\n      <td>4.078014</td>\n      <td>Good Will Hunting (1997)</td>\n      <td>Drama|Romance</td>\n    </tr>\n    <tr>\n      <th>8</th>\n      <td>2692</td>\n      <td>1</td>\n      <td>2692</td>\n      <td>4.000000</td>\n      <td>Run Lola Run (Lola rennt) (1998)</td>\n      <td>Action|Crime</td>\n    </tr>\n    <tr>\n      <th>9</th>\n      <td>6502</td>\n      <td>1</td>\n      <td>6502</td>\n      <td>3.974138</td>\n      <td>28 Days Later (2002)</td>\n      <td>Action|Horror|Sci-Fi</td>\n    </tr>\n    <tr>\n      <th>10</th>\n      <td>858</td>\n      <td>2</td>\n      <td>858</td>\n      <td>4.289062</td>\n      <td>Godfather, The (1972)</td>\n      <td>Crime|Drama</td>\n    </tr>\n    <tr>\n      <th>11</th>\n      <td>750</td>\n      <td>2</td>\n      <td>750</td>\n      <td>4.268041</td>\n      <td>Dr. Strangelove or: How I Learned to Stop Worrying and Love the Bomb (1964)</td>\n      <td>Comedy|War</td>\n    </tr>\n    <tr>\n      <th>12</th>\n      <td>1213</td>\n      <td>2</td>\n      <td>1213</td>\n      <td>4.250000</td>\n      <td>Goodfellas (1990)</td>\n      <td>Crime|Drama</td>\n    </tr>\n    <tr>\n      <th>13</th>\n      <td>50</td>\n      <td>2</td>\n      <td>50</td>\n      <td>4.237745</td>\n      <td>Usual Suspects, The (1995)</td>\n      <td>Crime|Mystery|Thriller</td>\n    </tr>\n    <tr>\n      <th>14</th>\n      <td>1225</td>\n      <td>2</td>\n      <td>1225</td>\n      <td>4.184211</td>\n      <td>Amadeus (1984)</td>\n      <td>Drama</td>\n    </tr>\n    <tr>\n      <th>15</th>\n      <td>1203</td>\n      <td>2</td>\n      <td>1203</td>\n      <td>4.149123</td>\n      <td>12 Angry Men (1957)</td>\n      <td>Drama</td>\n    </tr>\n    <tr>\n      <th>16</th>\n      <td>2502</td>\n      <td>2</td>\n      <td>2502</td>\n      <td>4.090426</td>\n      <td>Office Space (1999)</td>\n      <td>Comedy|Crime</td>\n    </tr>\n    <tr>\n      <th>17</th>\n      <td>1704</td>\n      <td>2</td>\n      <td>1704</td>\n      <td>4.078014</td>\n      <td>Good Will Hunting (1997)</td>\n      <td>Drama|Romance</td>\n    </tr>\n    <tr>\n      <th>18</th>\n      <td>2692</td>\n      <td>2</td>\n      <td>2692</td>\n      <td>4.000000</td>\n      <td>Run Lola Run (Lola rennt) (1998)</td>\n      <td>Action|Crime</td>\n    </tr>\n    <tr>\n      <th>19</th>\n      <td>6502</td>\n      <td>2</td>\n      <td>6502</td>\n      <td>3.974138</td>\n      <td>28 Days Later (2002)</td>\n      <td>Action|Horror|Sci-Fi</td>\n    </tr>\n    <tr>\n      <th>20</th>\n      <td>858</td>\n      <td>6</td>\n      <td>858</td>\n      <td>4.289062</td>\n      <td>Godfather, The (1972)</td>\n      <td>Crime|Drama</td>\n    </tr>\n    <tr>\n      <th>21</th>\n      <td>750</td>\n      <td>6</td>\n      <td>750</td>\n      <td>4.268041</td>\n      <td>Dr. Strangelove or: How I Learned to Stop Worrying and Love the Bomb (1964)</td>\n      <td>Comedy|War</td>\n    </tr>\n    <tr>\n      <th>22</th>\n      <td>1213</td>\n      <td>6</td>\n      <td>1213</td>\n      <td>4.250000</td>\n      <td>Goodfellas (1990)</td>\n      <td>Crime|Drama</td>\n    </tr>\n    <tr>\n      <th>23</th>\n      <td>50</td>\n      <td>6</td>\n      <td>50</td>\n      <td>4.237745</td>\n      <td>Usual Suspects, The (1995)</td>\n      <td>Crime|Mystery|Thriller</td>\n    </tr>\n    <tr>\n      <th>24</th>\n      <td>1225</td>\n      <td>6</td>\n      <td>1225</td>\n      <td>4.184211</td>\n      <td>Amadeus (1984)</td>\n      <td>Drama</td>\n    </tr>\n    <tr>\n      <th>25</th>\n      <td>1203</td>\n      <td>6</td>\n      <td>1203</td>\n      <td>4.149123</td>\n      <td>12 Angry Men (1957)</td>\n      <td>Drama</td>\n    </tr>\n    <tr>\n      <th>26</th>\n      <td>2502</td>\n      <td>6</td>\n      <td>2502</td>\n      <td>4.090426</td>\n      <td>Office Space (1999)</td>\n      <td>Comedy|Crime</td>\n    </tr>\n    <tr>\n      <th>27</th>\n      <td>1704</td>\n      <td>6</td>\n      <td>1704</td>\n      <td>4.078014</td>\n      <td>Good Will Hunting (1997)</td>\n      <td>Drama|Romance</td>\n    </tr>\n    <tr>\n      <th>28</th>\n      <td>2692</td>\n      <td>6</td>\n      <td>2692</td>\n      <td>4.000000</td>\n      <td>Run Lola Run (Lola rennt) (1998)</td>\n      <td>Action|Crime</td>\n    </tr>\n    <tr>\n      <th>29</th>\n      <td>6502</td>\n      <td>6</td>\n      <td>6502</td>\n      <td>3.974138</td>\n      <td>28 Days Later (2002)</td>\n      <td>Action|Horror|Sci-Fi</td>\n    </tr>\n  </tbody>\n</table>"
     },
     "metadata": {},
     "output_type": "display_data"
    },
    {
     "data": {
      "text/plain": "<IPython.core.display.HTML object>",
      "text/html": "<table border=\"1\" class=\"dataframe\">\n  <thead>\n    <tr style=\"text-align: right;\">\n      <th></th>\n      <th>Recommender</th>\n      <th>HR@1</th>\n      <th>HR@3</th>\n      <th>HR@5</th>\n      <th>HR@10</th>\n      <th>NDCG@1</th>\n      <th>NDCG@3</th>\n      <th>NDCG@5</th>\n      <th>NDCG@10</th>\n    </tr>\n  </thead>\n  <tbody>\n    <tr>\n      <th>0</th>\n      <td>HighestRatedRecommender</td>\n      <td>0.013333</td>\n      <td>0.04</td>\n      <td>0.073333</td>\n      <td>0.113333</td>\n      <td>0.013333</td>\n      <td>0.02754</td>\n      <td>0.041603</td>\n      <td>0.054395</td>\n    </tr>\n  </tbody>\n</table>"
     },
     "metadata": {},
     "output_type": "display_data"
    }
   ],
   "source": [
    "class HighestRatedRecommender(Recommender):\n",
    "    \"\"\"\n",
    "    Base recommender class.\n",
    "    \"\"\"\n",
    "    \n",
    "    def __init__(self):\n",
    "        \"\"\"\n",
    "        Initialize base recommender params and variables.\n",
    "        \"\"\"\n",
    "        self.highest_rated_items = None\n",
    "    \n",
    "    def fit(self, interactions_df, users_df, items_df):\n",
    "        \"\"\"\n",
    "        Training of the recommender.\n",
    "        \n",
    "        :param pd.DataFrame interactions_df: DataFrame with recorded interactions between users and items \n",
    "            defined by user_id, item_id and features of the interaction.\n",
    "        :param pd.DataFrame users_df: DataFrame with users and their features defined by user_id and the user feature columns.\n",
    "        :param pd.DataFrame items_df: DataFrame with items and their features defined by item_id and the item feature columns.\n",
    "        \"\"\"\n",
    "        ratings = interactions_df.loc[:, ['item_id', 'rating']].groupby(by='item_id').mean()\n",
    "        ratings_count = interactions_df.loc[:, ['item_id', 'rating']].groupby('item_id').count()\n",
    "        ratings = ratings.loc[ratings_count['rating'] >= 50]\n",
    "        self.highest_rated_items = ratings.sort_values('rating', ascending=False)\n",
    "        # print(self.highest_rated_items)\n",
    "    \n",
    "    def recommend(self, users_df, items_df, n_recommendations=1):\n",
    "        \"\"\"\n",
    "        Serving of recommendations. Scores items in items_df for each user in users_df and returns \n",
    "        top n_recommendations for each user.\n",
    "        \n",
    "        :param pd.DataFrame users_df: DataFrame with users and their features for which recommendations should be generated.\n",
    "        :param pd.DataFrame items_df: DataFrame with items and their features which should be scored.\n",
    "        :param int n_recommendations: Number of recommendations to be returned for each user.\n",
    "        :return: DataFrame with user_id, item_id and score as columns returning n_recommendations top recommendations \n",
    "            for each user.\n",
    "        :rtype: pd.DataFrame\n",
    "        \"\"\"\n",
    "        \n",
    "        recommendations = pd.DataFrame(columns=['user_id', 'item_id', 'score'])\n",
    "\n",
    "        for ix, user in users_df.iterrows():\n",
    "            # Write your code here\n",
    "\n",
    "            user_recommendations = pd.DataFrame({\n",
    "                'user_id':  user['user_id'],\n",
    "                'item_id': self.highest_rated_items.index[:n_recommendations],\n",
    "                'score': self.highest_rated_items.rating[:n_recommendations]\n",
    "\n",
    "            })\n",
    "            recommendations = pd.concat([recommendations, user_recommendations])\n",
    "        return recommendations.reset_index()\n",
    "    \n",
    "# Quick test of the recommender\n",
    "\n",
    "highest_rated_recommender = HighestRatedRecommender()\n",
    "highest_rated_recommender.fit(ml_ratings_df, None, ml_movies_df)\n",
    "recommendations = highest_rated_recommender.recommend(pd.DataFrame([[1], [2], [6]], columns=['user_id']), ml_movies_df, 10)\n",
    "\n",
    "recommendations = pd.merge(recommendations, ml_movies_df, on='item_id', how='left')\n",
    "print(\"Recommendations\")\n",
    "display(HTML(recommendations.to_html()))\n",
    "\n",
    "highest_rated_recommender = HighestRatedRecommender()\n",
    "\n",
    "highest_rated_results = [['HighestRatedRecommender'] + list(evaluate_leave_one_out_implicit(\n",
    "    highest_rated_recommender, ml_ratings_df.loc[:, ['user_id', 'item_id', 'rating']], ml_movies_df, max_evals=300, seed=6789))]\n",
    "\n",
    "highest_rated_results = pd.DataFrame(\n",
    "    highest_rated_results, \n",
    "    columns=['Recommender', 'HR@1', 'HR@3', 'HR@5', 'HR@10', 'NDCG@1', 'NDCG@3', 'NDCG@5', 'NDCG@10'])\n",
    "\n",
    "display(HTML(highest_rated_results.to_html()))"
   ]
  },
  {
   "cell_type": "markdown",
   "id": "valid-malaysia",
   "metadata": {
    "pycharm": {
     "name": "#%% md\n"
    }
   },
   "source": [
    "**Task 3.** Implement the RandomRecommender (check the slides for class 1), evaluate it with leave-one-out procedure for implicit feedback, print HR@1, HR@3, HR@5, HR@10, NDCG@1, NDCG@3, NDCG@5, NDCG@10."
   ]
  },
  {
   "cell_type": "code",
   "execution_count": null,
   "id": "french-multiple",
   "metadata": {
    "pycharm": {
     "name": "#%%\n"
    }
   },
   "outputs": [],
   "source": [
    "class RandomRecommender(Recommender):\n",
    "    \"\"\"\n",
    "    Base recommender class.\n",
    "    \"\"\"\n",
    "    \n",
    "    def __init__(self, seed=0):\n",
    "        \"\"\"\n",
    "        Initialize base recommender params and variables.\n",
    "        \n",
    "        :param int seed: Seed for the random number generator.\n",
    "        \"\"\"\n",
    "        self.seed = seed\n",
    "        self.rng = np.random.RandomState(seed=seed)\n",
    "        self.recommendations_random = None\n",
    "    \n",
    "    def fit(self, interactions_df, users_df, items_df):\n",
    "        \"\"\"\n",
    "        Training of the recommender.\n",
    "        \n",
    "        :param pd.DataFrame interactions_df: DataFrame with recorded interactions between users and items \n",
    "            defined by user_id, item_id and features of the interaction.\n",
    "        :param pd.DataFrame users_df: DataFrame with users and their features defined by user_id and the user feature columns.\n",
    "        :param pd.DataFrame items_df: DataFrame with items and their features defined by item_id and the item feature columns.\n",
    "        \"\"\"\n",
    "        # Write your code here\n",
    "    \n",
    "    def recommend(self, users_df, items_df, n_recommendations=1):\n",
    "        \"\"\"\n",
    "        Serving of recommendations. Scores items in items_df for each user in users_df and returns \n",
    "        top n_recommendations for each user.\n",
    "        \n",
    "        :param pd.DataFrame users_df: DataFrame with users and their features for which recommendations should be generated.\n",
    "        :param pd.DataFrame items_df: DataFrame with items and their features which should be scored.\n",
    "        :param int n_recommendations: Number of recommendations to be returned for each user.\n",
    "        :return: DataFrame with user_id, item_id and score as columns returning n_recommendations top recommendations \n",
    "            for each user.\n",
    "        :rtype: pd.DataFrame\n",
    "        \"\"\"\n",
    "        \n",
    "        # Write your code here\n",
    "    \n",
    "# Quick test of the recommender\n",
    "\n",
    "random_recommender = RandomRecommender(seed=6789)\n",
    "random_recommender.fit(ml_ratings_df, None, ml_movies_df)\n",
    "recommendations = random_recommender.recommend(pd.DataFrame([[1], [2], [6]], columns=['user_id']), ml_movies_df, 10)\n",
    "\n",
    "recommendations = recommendations.merge(ml_movies_df, on='item_id', how='left')\n",
    "print(\"Recommendations\")\n",
    "display(HTML(recommendations.to_html()))\n",
    "\n",
    "random_recommender = RandomRecommender(seed=seed)\n",
    "\n",
    "random_results = [['RandomRecommender'] + list(evaluate_leave_one_out_implicit(\n",
    "    random_recommender, ml_ratings_df.loc[:, ['user_id', 'item_id', 'rating']], ml_movies_df, max_evals=300, seed=seed))]\n",
    "\n",
    "random_results = pd.DataFrame(\n",
    "    random_results, \n",
    "    columns=['Recommender', 'HR@1', 'HR@3', 'HR@5', 'HR@10', 'NDCG@1', 'NDCG@3', 'NDCG@5', 'NDCG@10'])\n",
    "\n",
    "display(HTML(random_results.to_html()))"
   ]
  },
  {
   "cell_type": "markdown",
   "id": "optional-chain",
   "metadata": {
    "pycharm": {
     "name": "#%% md\n"
    }
   },
   "source": [
    "# Linear Regression Recommender\n",
    "\n",
    "For every movie we transform its genres into one-hot encoded features and we normalize them, for every user we count percentages for all genres how often do they appear among films watched by the user, we multiply both vectors (for the item and the user) to obtain explanatory variables, and then we fit a linear regression model to those features and actual ratings."
   ]
  },
  {
   "cell_type": "markdown",
   "id": "spanish-employee",
   "metadata": {
    "pycharm": {
     "name": "#%% md\n"
    }
   },
   "source": [
    "**Task 4.** Implement the calculate_user_genres method for calculating a DataFrame with one row per user and columns corresponding to genres (e.g. 'user_action', 'user_drama') with values calculated as follows:\n",
    "\n",
    "- count the number of times a given user watched a given genre,\n",
    "- apply a natural logarithm to this value plus one,\n",
    "- normalize those values so that the sum of them over all columns within a row is equal to 1.\n",
    "\n",
    "Implement the calculate_item_genres method for replacing the 'genres' column with one column per genre (e.g. 'action', 'drama') with values calculated as follows:\n",
    "\n",
    "- place 1 in every column for which the genre appears in genres,\n",
    "- normalize those values so that the sum of them over all genre columns within a row is equal to 1.\n",
    "\n",
    "If item_features is None, then first find all genres and prepare a list of them. If item_features is not None, then create columns based on this list. Return both the transformed DataFrame and the list of genres.  Do not use MultiLabelBinarizer.\n",
    "\n",
    "Note that in this second method you have to preserve the remaining structure of the DataFrame.\n",
    "\n",
    "Evaluate the LinearRegressionRecommender with it using leave-one-out procedure for implicit feedback, print HR@1, HR@3, HR@5, HR@10, NDCG@1, NDCG@3, NDCG@5, NDCG@10."
   ]
  },
  {
   "cell_type": "code",
   "execution_count": null,
   "id": "fifth-battery",
   "metadata": {
    "pycharm": {
     "name": "#%%\n"
    }
   },
   "outputs": [],
   "source": [
    "# Prepare data for tests\n",
    "interactions_df = pd.merge(ml_ratings_df, ml_movies_df, on='item_id')\n",
    "interactions_df.loc[:, 'genres'] = interactions_df['genres'].str.replace(\"-\", \"_\", regex=False)\n",
    "interactions_df.loc[:, 'genres'] = interactions_df['genres'].str.replace(\" \", \"_\", regex=False)\n",
    "interactions_df.loc[:, 'genres'] = interactions_df['genres'].str.replace(\"(\", \"\", regex=False)\n",
    "interactions_df.loc[:, 'genres'] = interactions_df['genres'].str.replace(\")\", \"\", regex=False)\n",
    "interactions_df.loc[:, 'genres'] = interactions_df['genres'].str.lower()\n",
    "interactions_df.loc[:, 'genres'] = interactions_df['genres'].str.split(\"|\")"
   ]
  },
  {
   "cell_type": "code",
   "execution_count": null,
   "id": "pressing-domain",
   "metadata": {
    "pycharm": {
     "name": "#%%\n"
    }
   },
   "outputs": [],
   "source": [
    "def calculate_user_genres(interactions_df):\n",
    "    # Write your code here\n",
    "    \n",
    "    return users_df"
   ]
  },
  {
   "cell_type": "code",
   "execution_count": null,
   "id": "appropriate-administration",
   "metadata": {
    "pycharm": {
     "name": "#%%\n"
    }
   },
   "outputs": [],
   "source": [
    "# Test the calculate_user_genres method\n",
    "display(calculate_user_genres(interactions_df))"
   ]
  },
  {
   "cell_type": "code",
   "execution_count": null,
   "id": "excited-scott",
   "metadata": {
    "pycharm": {
     "name": "#%%\n"
    }
   },
   "outputs": [],
   "source": [
    "from sklearn.preprocessing import MultiLabelBinarizer\n",
    "\n",
    "def calculate_item_genres(item_genres, item_features=None):\n",
    "    # Write your code here\n",
    "    \n",
    "    return item_genres, item_features"
   ]
  },
  {
   "cell_type": "code",
   "execution_count": null,
   "id": "academic-daughter",
   "metadata": {
    "scrolled": false,
    "pycharm": {
     "name": "#%%\n"
    }
   },
   "outputs": [],
   "source": [
    "# Test the method\n",
    "\n",
    "item_genres, item_features = calculate_item_genres(interactions_df)\n",
    "display(item_genres)\n",
    "print(item_features)\n",
    "\n",
    "item_genres, item_features = calculate_item_genres(interactions_df, ['comedy', 'crime', 'drama', 'horror', 'test_category'])\n",
    "display(item_genres)\n",
    "print(item_features)"
   ]
  },
  {
   "cell_type": "code",
   "execution_count": null,
   "id": "sonic-horror",
   "metadata": {
    "pycharm": {
     "name": "#%%\n"
    }
   },
   "outputs": [],
   "source": [
    "from sklearn.linear_model import LinearRegression\n",
    "from sklearn.preprocessing import MultiLabelBinarizer\n",
    "\n",
    "from recommenders.recommender import Recommender\n",
    "\n",
    "class LinearRegressionRecommender(Recommender):\n",
    "    \"\"\"\n",
    "    Linear regression recommender class.\n",
    "    \"\"\"\n",
    "    \n",
    "    def __init__(self):\n",
    "        \"\"\"\n",
    "        Initialize recommender params and variables.\n",
    "        \"\"\"\n",
    "        self.model = None\n",
    "        self.mlb = None\n",
    "        self.users_dict = None\n",
    "        self.user_features = None\n",
    "        \n",
    "        self.uses_dot_product = True\n",
    "    \n",
    "    def fit(self, interactions_df, users_df, items_df):\n",
    "        \"\"\"\n",
    "        Training of the recommender.\n",
    "        \n",
    "        :param pd.DataFrame interactions_df: DataFrame with recorded interactions between users and items \n",
    "            defined by user_id, item_id and features of the interaction.\n",
    "        :param pd.DataFrame users_df: DataFrame with users and their features defined by user_id and the user feature columns.\n",
    "        :param pd.DataFrame items_df: DataFrame with items and their features defined by item_id and the item feature columns.\n",
    "        \"\"\"\n",
    "        \n",
    "        # Transform genres to a more code-friendly form\n",
    "        \n",
    "        interactions_df = pd.merge(interactions_df, items_df, on='item_id')\n",
    "        interactions_df = self._transform_genres(interactions_df)\n",
    "        \n",
    "        # Prepare user features\n",
    "        \n",
    "        users_df = interactions_df[['user_id', 'genres']].copy()\n",
    "        users_df = users_df.explode('genres')\n",
    "        users_df['val'] = 1\n",
    "        users_df = users_df.pivot_table(index='user_id', columns='genres', values='val', aggfunc='count')\n",
    "        users_df = users_df / users_df.sum(axis=1).values.reshape(-1, 1)\n",
    "        users_df = users_df.rename_axis(None, axis=1).fillna(0)\n",
    "        users_df = users_df.add_prefix('user_')\n",
    "#         display(users_df.head(10))\n",
    "        \n",
    "        self.users_dict = users_df.to_dict('index')\n",
    "        \n",
    "        self.user_features = users_df.columns.tolist()\n",
    "        \n",
    "        interactions_df = interactions_df.merge(users_df, on='user_id')\n",
    "#         display(interactions_df.head(10))\n",
    "                \n",
    "        # Prepare item features\n",
    "        \n",
    "        # Transform genres into binary values\n",
    "        \n",
    "        self.mlb = MultiLabelBinarizer()\n",
    "        interactions_df = interactions_df.join(\n",
    "            pd.DataFrame(self.mlb.fit_transform(interactions_df.pop('genres')),\n",
    "                         columns=self.mlb.classes_,\n",
    "                         index=interactions_df.index))\n",
    "        \n",
    "        # Normalize the values so that each movie's genres sum up to 1\n",
    "        \n",
    "        interactions_df[self.mlb.classes_] = interactions_df[self.mlb.classes_] \\\n",
    "            / interactions_df[self.mlb.classes_].sum(axis=1).values.reshape(-1, 1)\n",
    "        \n",
    "#         display(interactions_df.loc[:, self.mlb.classes_].head(10))\n",
    "\n",
    "        # Prepare input data and fit the model\n",
    "    \n",
    "        # Dot product for personalization\n",
    "        if self.uses_dot_product:\n",
    "            interactions_df[self.mlb.classes_] = interactions_df[self.mlb.classes_] \\\n",
    "                * interactions_df[self.user_features].values\n",
    "    \n",
    "#         display(interactions_df.head(10))\n",
    "        \n",
    "        if self.uses_dot_product:  # Personalized\n",
    "            x = interactions_df.loc[:, self.mlb.classes_].values\n",
    "        else:  # Non-personalized\n",
    "            x = interactions_df.loc[:, list(self.mlb.classes_) + self.user_features].values\n",
    "        \n",
    "        y = interactions_df['rating'].values\n",
    "    \n",
    "        self.model = LinearRegression().fit(x, y)\n",
    "    \n",
    "    def recommend(self, users_df, items_df, n_recommendations=1):\n",
    "        \"\"\"\n",
    "        Serving of recommendations. Scores items in items_df for each user in users_df and returns \n",
    "        top n_recommendations for each user.\n",
    "        \n",
    "        :param pd.DataFrame users_df: DataFrame with users and their features for which recommendations should be generated.\n",
    "        :param pd.DataFrame items_df: DataFrame with items and their features which should be scored.\n",
    "        :param int n_recommendations: Number of recommendations to be returned for each user.\n",
    "        :return: DataFrame with user_id, item_id and score as columns returning n_recommendations top recommendations \n",
    "            for each user.\n",
    "        :rtype: pd.DataFrame\n",
    "        \"\"\"\n",
    "        \n",
    "        # Transform the item to be scored into proper features\n",
    "        \n",
    "        items_df = items_df.copy()\n",
    "        items_df = self._transform_genres(items_df)\n",
    "        \n",
    "        items_df = items_df.join(\n",
    "            pd.DataFrame(self.mlb.transform(items_df.pop('genres')),\n",
    "                         columns=self.mlb.classes_,\n",
    "                         index=items_df.index))\n",
    "        \n",
    "        items_df[self.mlb.classes_] = items_df[self.mlb.classes_] \\\n",
    "            / items_df[self.mlb.classes_].sum(axis=1).values.reshape(-1, 1)\n",
    "\n",
    "        # Score the item\n",
    "    \n",
    "        recommendations = pd.DataFrame(columns=['user_id', 'item_id', 'score'])\n",
    "        \n",
    "        for ix, user in users_df.iterrows():\n",
    "            if user['user_id'] in self.users_dict:\n",
    "                user_df = pd.DataFrame.from_dict({user['user_id']: self.users_dict[user['user_id']]}, orient='index')\n",
    "            else:\n",
    "                user_df = pd.DataFrame.from_dict(\n",
    "                    {user['user_id']: [1 / len(self.user_features)]*len(self.user_features)}, orient='index')\n",
    "                user_df.columns = self.user_features\n",
    "#             display(user_df)\n",
    "#             display(items_df)\n",
    "            input_df = items_df.copy()\n",
    "            \n",
    "            if self.uses_dot_product:\n",
    "                input_df[self.mlb.classes_] = items_df[self.mlb.classes_] * user_df.values\n",
    "#                 display(input_df)\n",
    "                scores = self.model.predict(input_df.loc[:, self.mlb.classes_].values)\n",
    "            else:\n",
    "                input_df = input_df.merge(user_df, how='cross')\n",
    "#                 display(input_df)\n",
    "                scores = self.model.predict(input_df.loc[:, list(self.mlb.classes_) + self.user_features].values)\n",
    "    \n",
    "            chosen_pos = np.argsort(-scores)[:n_recommendations]\n",
    "        \n",
    "            user_recommendations = []\n",
    "            for item_pos in chosen_pos:\n",
    "                user_recommendations.append(\n",
    "                    {\n",
    "                        'user_id': user['user_id'],\n",
    "                        'item_id': input_df.iloc[item_pos]['item_id'],\n",
    "                        'score': scores[item_pos]\n",
    "                    }\n",
    "                )\n",
    "                \n",
    "            user_recommendations = pd.DataFrame(user_recommendations)\n",
    "\n",
    "            recommendations = pd.concat([recommendations, user_recommendations])\n",
    "\n",
    "        return recommendations\n",
    "    \n",
    "    def _transform_genres(self, df):\n",
    "        \"\"\"\n",
    "        Transforms a string with genres into a list of cleaned genre names.\n",
    "        \n",
    "        :param pd.DataFrame df: A DataFrame with 'genres' column.\n",
    "        \"\"\"\n",
    "        df.loc[:, 'genres'] = df['genres'].str.replace(\"-\", \"_\", regex=False)\n",
    "        df.loc[:, 'genres'] = df['genres'].str.replace(\" \", \"_\", regex=False)\n",
    "        df.loc[:, 'genres'] = df['genres'].str.replace(\"(\", \"\", regex=False)\n",
    "        df.loc[:, 'genres'] = df['genres'].str.replace(\")\", \"\", regex=False)\n",
    "        df.loc[:, 'genres'] = df['genres'].str.lower()\n",
    "        df.loc[:, 'genres'] = df['genres'].str.split(\"|\")\n",
    "        return df"
   ]
  },
  {
   "cell_type": "code",
   "execution_count": null,
   "id": "colored-favorite",
   "metadata": {
    "scrolled": false,
    "pycharm": {
     "name": "#%%\n"
    }
   },
   "outputs": [],
   "source": [
    "# Quick test of the recommender\n",
    "\n",
    "lr_recommender = LinearRegressionRecommender()\n",
    "lr_recommender.fit(ml_ratings_df, None, ml_movies_df)\n",
    "recommendations = lr_recommender.recommend(pd.DataFrame([[3], [5], [39]], columns=['user_id']), ml_movies_df, 10)\n",
    "\n",
    "recommendations = pd.merge(recommendations, ml_movies_df, on='item_id', how='left')\n",
    "display(recommendations)"
   ]
  },
  {
   "cell_type": "markdown",
   "id": "usual-archives",
   "metadata": {
    "pycharm": {
     "name": "#%% md\n"
    }
   },
   "source": [
    "### Train-test split test"
   ]
  },
  {
   "cell_type": "code",
   "execution_count": null,
   "id": "bound-offer",
   "metadata": {
    "pycharm": {
     "name": "#%%\n"
    }
   },
   "outputs": [],
   "source": [
    "lr_recommender = LinearRegressionRecommender()\n",
    "\n",
    "t0 = time.time()\n",
    "\n",
    "results = [['LinearRegressionRecommender'] + list(evaluate_train_test_split_explicit(\n",
    "    lr_recommender, ml_ratings_df.loc[:, ['user_id', 'item_id', 'rating']], ml_movies_df, seed=seed))]\n",
    "\n",
    "results = pd.DataFrame(results, \n",
    "                       columns=['Recommender', 'RMSE', 'MRE', 'TRE'])\n",
    "\n",
    "display(results)\n",
    "\n",
    "print('Total evaluation time: {}'.format(time.time() - t0))"
   ]
  },
  {
   "cell_type": "markdown",
   "id": "immediate-warehouse",
   "metadata": {
    "pycharm": {
     "name": "#%% md\n"
    }
   },
   "source": [
    "### Leave-one-out test"
   ]
  },
  {
   "cell_type": "code",
   "execution_count": null,
   "id": "national-sight",
   "metadata": {
    "pycharm": {
     "name": "#%%\n"
    }
   },
   "outputs": [],
   "source": [
    "lr_recommender = LinearRegressionRecommender()\n",
    "\n",
    "t0 = time.time()\n",
    "\n",
    "results = [['LinearRegressionRecommender'] + list(evaluate_leave_one_out_explicit(\n",
    "    lr_recommender, ml_ratings_df.loc[:, ['user_id', 'item_id', 'rating']], ml_movies_df, seed=seed))]\n",
    "\n",
    "results = pd.DataFrame(results, \n",
    "                       columns=['Recommender', 'RMSE', 'MRE', 'TRE'])\n",
    "\n",
    "display(results)\n",
    "\n",
    "print('Total evaluation time: {}'.format(time.time() - t0))"
   ]
  },
  {
   "cell_type": "markdown",
   "id": "static-mozambique",
   "metadata": {
    "pycharm": {
     "name": "#%% md\n"
    }
   },
   "source": [
    "# TF-IDF Recommender\n",
    "TF-IDF stands for term frequency–inverse document frequency. Typically Tf-IDF method is used to assign keywords (words describing the gist of a document) to documents in a corpus of documents.\n",
    "\n",
    "In our case we will treat users as documents and genres as words.\n",
    "\n",
    "Term-frequency is given by the following formula:\n",
    "<center>\n",
    "$$\n",
    "    \\text{tf}(g, u) = f_{g, u}\n",
    "$$\n",
    "</center>\n",
    "where $f_{g, i}$ is the number of times genre $g$ appear for movies watched by user $u$.\n",
    "\n",
    "Inverse document frequency is defined as follows:\n",
    "<center>\n",
    "$$\n",
    "    \\text{idf}(g) = \\log \\frac{N}{n_g}\n",
    "$$\n",
    "</center>\n",
    "where $N$ is the number of users and $n_g$ is the number of users with $g$ in their genres list.\n",
    "\n",
    "Finally, tf-idf is defined as follows:\n",
    "<center>\n",
    "$$\n",
    "    \\text{tfidf}(g, u) = \\text{tf}(g, u) \\cdot \\text{idf}(g)\n",
    "$$\n",
    "</center>\n",
    "\n",
    "In our case we will measure how often a given genre appears for movies watched by a given user vs how often it appears for all users. To obtain a movie score we will take the average of its genres' scores for this user."
   ]
  },
  {
   "cell_type": "markdown",
   "id": "authentic-cursor",
   "metadata": {
    "pycharm": {
     "name": "#%% md\n"
    }
   },
   "source": [
    "**Task 5.** Implement the following method for calculating a TF-IDF scores in a form of a dict (use defaultdict):\n",
    "\n",
    "`{(1, 'action'): 0.45306430692185395, (1, 'adventure'): 0.39370003643934415, (1, 'animation'): 0.20886242957049514, ...}`\n",
    "\n",
    "without using TfidfVectorizer (you can use loops).\n",
    "\n",
    "Evaluate the TFIDFRecommender with it using leave-one-out procedure for implicit feedback, print HR@1, HR@3, HR@5, HR@10, NDCG@1, NDCG@3, NDCG@5, NDCG@10."
   ]
  },
  {
   "cell_type": "code",
   "execution_count": null,
   "id": "frank-active",
   "metadata": {
    "pycharm": {
     "name": "#%%\n"
    }
   },
   "outputs": [],
   "source": [
    "def calculate_tf_idf_scores(interactions_df):\n",
    "    # Write your code here\n",
    "    \n",
    "    return tfidf_scores"
   ]
  },
  {
   "cell_type": "code",
   "execution_count": null,
   "id": "retained-traffic",
   "metadata": {
    "pycharm": {
     "name": "#%%\n"
    }
   },
   "outputs": [],
   "source": [
    "# Test the method\n",
    "interactions_df = pd.merge(ml_ratings_df, ml_movies_df, on='item_id')\n",
    "interactions_df.loc[:, 'genres'] = interactions_df['genres'].str.replace(\"-\", \"_\", regex=False)\n",
    "interactions_df.loc[:, 'genres'] = interactions_df['genres'].str.replace(\" \", \"_\", regex=False)\n",
    "interactions_df.loc[:, 'genres'] = interactions_df['genres'].str.replace(\"(\", \"\", regex=False)\n",
    "interactions_df.loc[:, 'genres'] = interactions_df['genres'].str.replace(\")\", \"\", regex=False)\n",
    "interactions_df.loc[:, 'genres'] = interactions_df['genres'].str.lower()\n",
    "        \n",
    "tfidf_scores = calculate_tf_idf_scores(interactions_df)\n",
    "print(tfidf_scores)"
   ]
  },
  {
   "cell_type": "code",
   "execution_count": null,
   "id": "infrared-southwest",
   "metadata": {
    "pycharm": {
     "name": "#%%\n"
    }
   },
   "outputs": [],
   "source": [
    "class TFIDFRecommender(Recommender):\n",
    "    \"\"\"\n",
    "    Recommender based on the TF-IDF method.\n",
    "    \"\"\"\n",
    "    \n",
    "    def __init__(self):\n",
    "        \"\"\"\n",
    "        Initialize base recommender params and variables.\n",
    "        \"\"\"\n",
    "        self.tfidf_scores = None\n",
    "    \n",
    "    def fit(self, interactions_df, users_df, items_df):\n",
    "        \"\"\"\n",
    "        Training of the recommender.\n",
    "        \n",
    "        :param pd.DataFrame interactions_df: DataFrame with recorded interactions between users and items \n",
    "            defined by user_id, item_id and features of the interaction.\n",
    "        :param pd.DataFrame users_df: DataFrame with users and their features defined by user_id and the user feature columns.\n",
    "        :param pd.DataFrame items_df: DataFrame with items and their features defined by item_id and the item feature columns.\n",
    "        \"\"\"\n",
    "        \n",
    "        self.tfidf_scores = defaultdict(lambda: 0.0)\n",
    "\n",
    "        # Prepare the corpus for tfidf calculation\n",
    "        \n",
    "        interactions_df = pd.merge(interactions_df, items_df, on='item_id')\n",
    "        interactions_df.loc[:, 'genres'] = interactions_df['genres'].str.replace(\"-\", \"_\", regex=False)\n",
    "        interactions_df.loc[:, 'genres'] = interactions_df['genres'].str.replace(\" \", \"_\", regex=False)\n",
    "        interactions_df.loc[:, 'genres'] = interactions_df['genres'].str.lower()\n",
    "                \n",
    "        self.tfidf_scores = calculate_tf_idf_scores(interactions_df)\n",
    "    \n",
    "    def recommend(self, users_df, items_df, n_recommendations=1):\n",
    "        \"\"\"\n",
    "        Serving of recommendations. Scores items in items_df for each user in users_df and returns \n",
    "        top n_recommendations for each user.\n",
    "        \n",
    "        :param pd.DataFrame users_df: DataFrame with users and their features for which recommendations should be generated.\n",
    "        :param pd.DataFrame items_df: DataFrame with items and their features which should be scored.\n",
    "        :param int n_recommendations: Number of recommendations to be returned for each user.\n",
    "        :return: DataFrame with user_id, item_id and score as columns returning n_recommendations top recommendations \n",
    "            for each user.\n",
    "        :rtype: pd.DataFrame\n",
    "        \"\"\"\n",
    "        \n",
    "        recommendations = pd.DataFrame(columns=['user_id', 'item_id', 'score'])\n",
    "        \n",
    "        # Transform genres to a unified form used by the vectorizer\n",
    "        \n",
    "        items_df = items_df.copy()\n",
    "        items_df.loc[:, 'genres'] = items_df['genres'].str.replace(\"-\", \"_\", regex=False)\n",
    "        items_df.loc[:, 'genres'] = items_df['genres'].str.replace(\" \", \"_\", regex=False)\n",
    "        items_df.loc[:, 'genres'] = items_df['genres'].str.lower()\n",
    "        items_df.loc[:, 'genres'] = items_df['genres'].str.split(\"|\")\n",
    "                \n",
    "        # Score items    \n",
    "        \n",
    "        for uix, user in users_df.iterrows():\n",
    "            items = []\n",
    "            for iix, item in items_df.iterrows():\n",
    "                score = 0.0\n",
    "                for genre in item['genres']:\n",
    "                    score += self.tfidf_scores[(user['user_id'], genre)]\n",
    "                score /= len(item['genres'])\n",
    "                items.append((item['item_id'], score))\n",
    "                \n",
    "            items = sorted(items, key=lambda x: x[1], reverse=True)\n",
    "            user_recommendations = pd.DataFrame({'user_id': user['user_id'],\n",
    "                                                 'item_id': [item[0] for item in items][:n_recommendations],\n",
    "                                                 'score': [item[1] for item in items][:n_recommendations]})\n",
    "\n",
    "            recommendations = pd.concat([recommendations, user_recommendations])\n",
    "\n",
    "        return recommendations"
   ]
  },
  {
   "cell_type": "code",
   "execution_count": null,
   "id": "sorted-alcohol",
   "metadata": {
    "pycharm": {
     "name": "#%%\n"
    }
   },
   "outputs": [],
   "source": [
    "# Print movies watched by user 3, 5, 39\n",
    "\n",
    "active_user_movies = ml_df.loc[(ml_df['user_id'] == 3) | (ml_df['user_id'] == 5) | (ml_df['user_id'] == 39)]\n",
    "print(\"Active users history\")\n",
    "display(active_user_movies)"
   ]
  },
  {
   "cell_type": "code",
   "execution_count": null,
   "id": "oriented-service",
   "metadata": {
    "pycharm": {
     "name": "#%%\n"
    }
   },
   "outputs": [],
   "source": [
    "# Quick test of the recommender\n",
    "\n",
    "tfidf_recommender = TFIDFRecommender()\n",
    "tfidf_recommender.fit(ml_ratings_df, None, ml_movies_df)\n",
    "recommendations = tfidf_recommender.recommend(pd.DataFrame([[3], [5], [39]], columns=['user_id']), ml_movies_df, 10)\n",
    "\n",
    "recommendations = pd.merge(recommendations, ml_movies_df, on='item_id', how='left')\n",
    "print(\"Recommendations\")\n",
    "display(recommendations)"
   ]
  },
  {
   "cell_type": "markdown",
   "id": "sealed-liberty",
   "metadata": {
    "pycharm": {
     "name": "#%% md\n"
    }
   },
   "source": [
    "### Train-test split test"
   ]
  },
  {
   "cell_type": "code",
   "execution_count": null,
   "id": "identified-destination",
   "metadata": {
    "pycharm": {
     "name": "#%%\n"
    }
   },
   "outputs": [],
   "source": [
    "tfidf_recommender = TFIDFRecommender()\n",
    "\n",
    "t0 = time.time()\n",
    "\n",
    "results = [['TFIDFRecommender'] + list(evaluate_train_test_split_implicit(\n",
    "    tfidf_recommender, ml_ratings_df.loc[:, ['user_id', 'item_id']], ml_movies_df))]\n",
    "\n",
    "results = pd.DataFrame(results, \n",
    "                       columns=['Recommender', 'HR@1', 'HR@3', 'HR@5', 'HR@10', 'NDCG@1', 'NDCG@3', 'NDCG@5', 'NDCG@10'])\n",
    "\n",
    "display(results)\n",
    "\n",
    "print('Total evaluation time: {}'.format(time.time() - t0))"
   ]
  },
  {
   "cell_type": "markdown",
   "id": "creative-beast",
   "metadata": {
    "pycharm": {
     "name": "#%% md\n"
    }
   },
   "source": [
    "### Leave-one-out test"
   ]
  },
  {
   "cell_type": "code",
   "execution_count": null,
   "id": "qualified-westminster",
   "metadata": {
    "pycharm": {
     "name": "#%%\n"
    }
   },
   "outputs": [],
   "source": [
    "tfidf_recommender = TFIDFRecommender()\n",
    "\n",
    "t0 = time.time()\n",
    "\n",
    "results = [['TFIDFRecommender'] + list(evaluate_leave_one_out_implicit(\n",
    "    tfidf_recommender, ml_ratings_df.loc[:, ['user_id', 'item_id']], ml_movies_df, max_evals=300, seed=6789))]\n",
    "\n",
    "results = pd.DataFrame(results, \n",
    "                       columns=['Recommender', 'HR@1', 'HR@3', 'HR@5', 'HR@10', 'NDCG@1', 'NDCG@3', 'NDCG@5', 'NDCG@10'])\n",
    "\n",
    "display(results)\n",
    "\n",
    "print('Total evaluation time: {}'.format(time.time() - t0))"
   ]
  },
  {
   "cell_type": "markdown",
   "id": "visible-burlington",
   "metadata": {
    "pycharm": {
     "name": "#%% md\n"
    }
   },
   "source": [
    "**Task 6\\*.** Implement an SVRRecommender by replacing the LinearRegression model with the SVR model (`from sklearn.svm import SVR`). Use separate features for users and items, not the dot product.\n",
    "\n",
    "Tune params of the SVR model to obtain as good results as you can. \n",
    "\n",
    "To do tuning properly:\n",
    "\n",
    "- divide the set into training, validation and test sets (randomly divide the dataset in proportions 60%-20%-20%),\n",
    "- train the model with different sets of tunable parameters on the training set, \n",
    "- choose the best tunable params based on results on the validation set, \n",
    "- provide the final evaluation metrics on the test set for the best model obtained during tuning.\n",
    "\n",
    "Recommended method of tuning: use hyperopt. Install the package using the following command: `pip install hyperopt`\n",
    "    \n",
    "Print the RMSE, MAPE and TRE on the test set. Use seed 6789."
   ]
  },
  {
   "cell_type": "code",
   "execution_count": null,
   "id": "promotional-gregory",
   "metadata": {
    "scrolled": false,
    "pycharm": {
     "name": "#%%\n"
    }
   },
   "outputs": [],
   "source": [
    "from sklearn.svm import SVR\n",
    "from sklearn.preprocessing import MultiLabelBinarizer\n",
    "\n",
    "    \n",
    "class SVRRecommender(Recommender):\n",
    "    \"\"\"\n",
    "    SVR recommender class.\n",
    "    \"\"\"\n",
    "\n",
    "    def __init__(self, kernel='rbf', c=1.0, epsilon=0.1):\n",
    "        \"\"\"\n",
    "        Initialize base recommender params and variables.\n",
    "        \"\"\"\n",
    "        super().__init__()\n",
    "        self.model = None\n",
    "        self.mlb = None\n",
    "        self.kernel = kernel\n",
    "        self.c = c\n",
    "        self.epsilon = epsilon\n",
    "        self.mlb = None\n",
    "        self.users_dict = None\n",
    "        self.user_features = None\n",
    "        self.uses_dot_product = False\n",
    "\n",
    "    def fit(self, interactions_df, users_df, items_df):\n",
    "        \"\"\"\n",
    "        Training of the recommender.\n",
    "\n",
    "        :param pd.DataFrame interactions_df: DataFrame with recorded interactions between users and items\n",
    "            defined by user_id, item_id and features of the interaction.\n",
    "        :param pd.DataFrame users_df: DataFrame with users and their features defined by user_id\n",
    "            and the user feature columns.\n",
    "        :param pd.DataFrame items_df: DataFrame with items and their features defined by item_id\n",
    "            and the item feature columns.\n",
    "        \"\"\"\n",
    "\n",
    "        # Write your code here\n",
    "\n",
    "    def recommend(self, users_df, items_df, n_recommendations=1):\n",
    "        \"\"\"\n",
    "        Serving of recommendations. Scores items in items_df for each user in users_df and returns\n",
    "        top n_recommendations for each user.\n",
    "\n",
    "        :param pd.DataFrame users_df: DataFrame with users and their features for which recommendations\n",
    "            should be generated.\n",
    "        :param pd.DataFrame items_df: DataFrame with items and their features which should be scored.\n",
    "        :param int n_recommendations: Number of recommendations to be returned for each user.\n",
    "        :return: DataFrame with user_id, item_id and score as columns returning n_recommendations top recommendations\n",
    "            for each user.\n",
    "        :rtype: pd.DataFrame\n",
    "        \"\"\"\n",
    "\n",
    "        # Write your code here\n",
    "\n",
    "    @staticmethod\n",
    "    def _transform_genres(df):\n",
    "        \"\"\"\n",
    "        Transforms a string with genres into a list of cleaned genre names.\n",
    "\n",
    "        :param pd.DataFrame df: A DataFrame with 'genres' column.\n",
    "        \"\"\"\n",
    "        df.loc[:, 'genres'] = df['genres'].str.replace(\"-\", \"_\", regex=False)\n",
    "        df.loc[:, 'genres'] = df['genres'].str.replace(\" \", \"_\", regex=False)\n",
    "        df.loc[:, 'genres'] = df['genres'].str.replace(\"(\", \"\", regex=False)\n",
    "        df.loc[:, 'genres'] = df['genres'].str.replace(\")\", \"\", regex=False)\n",
    "        df.loc[:, 'genres'] = df['genres'].str.lower()\n",
    "        df.loc[:, 'genres'] = df['genres'].str.split(\"|\")\n",
    "        return df\n",
    "    \n",
    "    \n",
    "# Quick test of the recommender\n",
    "\n",
    "svr_recommender = SVRRecommender()\n",
    "svr_recommender.fit(ml_ratings_df, None, ml_movies_df)\n",
    "recommendations = svr_recommender.recommend(pd.DataFrame([[1], [2], [6]], columns=['user_id']), ml_movies_df, 10)\n",
    "\n",
    "recommendations = pd.merge(recommendations, ml_movies_df, on='item_id', how='left')\n",
    "print(\"Recommendations\")\n",
    "display(HTML(recommendations.to_html()))"
   ]
  },
  {
   "cell_type": "code",
   "execution_count": null,
   "id": "second-teach",
   "metadata": {
    "scrolled": false,
    "pycharm": {
     "name": "#%%\n"
    }
   },
   "outputs": [],
   "source": [
    "svr_recommender = SVRRecommender(kernel='rbf', c=5.9672721141155, epsilon=0.8583733904374324)\n",
    "\n",
    "results = [['SVRRecommender'] + list(evaluate_train_test_split_explicit(\n",
    "    svr_recommender, ml_ratings_df.loc[:, ['user_id', 'item_id', 'rating']], ml_movies_df, seed=seed))]\n",
    "\n",
    "results = pd.DataFrame(results, \n",
    "                       columns=['Recommender', 'RMSE', 'MRE', 'TRE'])\n",
    "\n",
    "display(results)"
   ]
  },
  {
   "cell_type": "code",
   "execution_count": null,
   "id": "ambient-brother",
   "metadata": {
    "pycharm": {
     "name": "#%%\n"
    }
   },
   "outputs": [],
   "source": [
    "from hyperopt import hp, fmin, tpe, Trials\n",
    "import traceback\n",
    "\n",
    "# Split into train_validation and test sets\n",
    "\n",
    "shuffle = np.arange(len(ml_ratings_df))\n",
    "rng.shuffle(shuffle)\n",
    "shuffle = list(shuffle)\n",
    "\n",
    "train_test_split = 0.8\n",
    "split_index = int(len(ml_ratings_df) * train_test_split)\n",
    "\n",
    "train_validation = ml_ratings_df.iloc[shuffle[:split_index]].loc[:, ['user_id', 'item_id', 'rating']]\n",
    "test = ml_ratings_df.iloc[shuffle[split_index:]].loc[:, ['user_id', 'item_id', 'rating']]\n",
    "\n",
    "# Tune\n",
    "\n",
    "def loss(tuned_params):\n",
    "    svr_recommender = SVRRecommender(kernel='rbf', c=tuned_params['C'], epsilon=tuned_params['epsilon'])\n",
    "    rmse, mre, tre = evaluate_train_test_split_explicit(\n",
    "        svr_recommender, train_validation, ml_movies_df, seed=seed)\n",
    "    return rmse\n",
    "\n",
    "# Define the search space for hyperopt\n",
    "# Write your code here\n",
    "\n",
    "\n",
    "succeded = False\n",
    "n_tries = 3\n",
    "t = 0\n",
    "while not succeded and t < n_tries:\n",
    "    try:\n",
    "        trials = Trials()\n",
    "        best_param_set = fmin(loss, space=space, algo=tpe.suggest, max_evals=100, show_progressbar=True, trials=trials)\n",
    "        succeded = True\n",
    "    except:\n",
    "        t += 1\n",
    "        traceback.print_exc()\n",
    "\n",
    "# Best params\n",
    "\n",
    "print(\"C = {}\".format(best_param_set['C']))\n",
    "print(\"epsilon = {}\".format(best_param_set['epsilon']))\n",
    "    \n",
    "# Test\n",
    "\n",
    "C = 0.8078294657404328\n",
    "epsilon = 0.3898720771476633\n",
    "\n",
    "svr_recommender = SVRRecommender(C=best_param_set['C'], epsilon=best_param_set['epsilon'])\n",
    "\n",
    "results = [['SVRRecommender'] + list(evaluate_train_test_split_explicit(\n",
    "    svr_recommender, {'train': train_validation, 'test': test}, ml_movies_df, seed=seed))]\n",
    "\n",
    "results = pd.DataFrame(results, \n",
    "                       columns=['Recommender', 'RMSE', 'MRE', 'TRE'])\n",
    "\n",
    "display(HTML(results.to_html()))"
   ]
  },
  {
   "cell_type": "markdown",
   "id": "commercial-gathering",
   "metadata": {
    "pycharm": {
     "name": "#%% md\n"
    }
   },
   "source": [
    "**Task 7.** Gather the results for LinearRegressionRecommender, SVRRecommender, TFIDFRecommender, MostPopularRecommender, HighestRatedRecommender, RandomRecommender from the evaluate_train_test_split_implicit method and print them as a single DataFrame."
   ]
  },
  {
   "cell_type": "code",
   "execution_count": null,
   "id": "intermediate-captain",
   "metadata": {
    "pycharm": {
     "name": "#%%\n"
    }
   },
   "outputs": [],
   "source": [
    "# Write your code here"
   ]
  }
 ],
 "metadata": {
  "kernelspec": {
   "display_name": "Python 3",
   "language": "python",
   "name": "python3"
  },
  "language_info": {
   "codemirror_mode": {
    "name": "ipython",
    "version": 3
   },
   "file_extension": ".py",
   "mimetype": "text/x-python",
   "name": "python",
   "nbconvert_exporter": "python",
   "pygments_lexer": "ipython3",
   "version": "3.8.8"
  }
 },
 "nbformat": 4,
 "nbformat_minor": 5
}