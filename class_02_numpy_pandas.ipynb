{
 "cells": [
  {
   "cell_type": "code",
   "execution_count": 1,
   "id": "spread-happiness",
   "metadata": {
    "pycharm": {
     "name": "#%%\n"
    }
   },
   "outputs": [],
   "source": [
    "%matplotlib inline\n",
    "%load_ext autoreload\n",
    "%autoreload 2\n",
    "\n",
    "import numpy as np\n",
    "import pandas as pd\n",
    "import matplotlib.pyplot as plt\n",
    "import seaborn as sns\n",
    "from IPython.display import Markdown, display, HTML\n",
    "\n",
    "# Fix the dying kernel problem (only a problem in some installations - you can remove it, if it works without it)\n",
    "import os\n",
    "os.environ['KMP_DUPLICATE_LIB_OK'] = 'True'"
   ]
  },
  {
   "cell_type": "markdown",
   "id": "approximate-classic",
   "metadata": {
    "pycharm": {
     "name": "#%% md\n"
    }
   },
   "source": [
    "# Numpy tasks\n",
    "\n",
    "For a detailed reference check out: https://numpy.org/doc/stable/reference/arrays.indexing.html."
   ]
  },
  {
   "cell_type": "markdown",
   "id": "regular-niger",
   "metadata": {
    "pycharm": {
     "name": "#%% md\n"
    }
   },
   "source": [
    "**Task 1.** Calculate the sigmoid (logistic) function on every element of the following numpy array [0.3, 1.2, -1.4, 0.2, -0.1, 0.1, 0.8, -0.25] and print the last 5 elements. Use only vector operations."
   ]
  },
  {
   "cell_type": "code",
   "execution_count": 2,
   "id": "agreed-single",
   "metadata": {
    "pycharm": {
     "name": "#%%\n"
    }
   },
   "outputs": [
    {
     "name": "stdout",
     "output_type": "stream",
     "text": [
      "[0.549834   0.47502081 0.52497919 0.68997448 0.4378235 ]\n"
     ]
    }
   ],
   "source": [
    "# Write your code here\n",
    "x = np.array([0.3, 1.2, -1.4, 0.2, -0.1, 0.1, 0.8, -0.25])\n",
    "def sig(x):\n",
    " return 1/(1 + np.exp(-x))\n",
    "print(sig(x)[-5:])"
   ]
  },
  {
   "cell_type": "markdown",
   "id": "another-catch",
   "metadata": {
    "pycharm": {
     "name": "#%% md\n"
    }
   },
   "source": [
    "**Task 2.** Calculate the dot product of the following two vectors:<br/>\n",
    "$x = [3, 1, 4, 2, 6, 1, 4, 8]$<br/>\n",
    "$y = [5, 2, 3, 12, 2, 4, 17, 11]$<br/>\n",
    "a) by using element-wise mutliplication and np.sum,<br/>\n",
    "b) by using np.dot,<br/>\n",
    "b) by using np.matmul and transposition (y.reshape(-1, 1), the alternative y.T will not work because T does not work on 1D arrays)."
   ]
  },
  {
   "cell_type": "code",
   "execution_count": 3,
   "id": "forbidden-journalism",
   "metadata": {
    "pycharm": {
     "name": "#%%\n"
    }
   },
   "outputs": [
    {
     "name": "stdout",
     "output_type": "stream",
     "text": [
      "225\n",
      "225\n",
      "225\n"
     ]
    }
   ],
   "source": [
    "# Write your code here\n",
    "x = np.array([3, 1, 4, 2, 6, 1, 4, 8])\n",
    "y = np.array([5, 2, 3, 12, 2, 4, 17, 11])\n",
    "\n",
    "# 1\n",
    "print(np.sum(x*y))\n",
    "# 2\n",
    "print(np.dot(x,y))\n",
    "# 3\n",
    "print(np.matmul(x, y.reshape(-1,1))[0])"
   ]
  },
  {
   "cell_type": "markdown",
   "id": "acute-amber",
   "metadata": {
    "pycharm": {
     "name": "#%% md\n"
    }
   },
   "source": [
    "**Task 3.** Calculate value of the logistic model<br/>\n",
    "$$y = \\frac{1}{1 + e^{-x_0 \\theta_0 - \\ldots - x_9 \\theta_9 - \\theta_{10}}}$$\n",
    "for<br/>\n",
    "$x = [1.2, 2.3, 3.4, -0.7, 4.2, 2.7, -0.5, 1.4, -3.3, 0.2]$<br/>\n",
    "$\\theta = [2.7, 0.33, -2.12, -1.73, 2.9, -5.8, -0.9, 12.11, 3.43, -0.5, -1.65]$<br/>\n",
    "and print the result. Use only vector operations."
   ]
  },
  {
   "cell_type": "code",
   "execution_count": 4,
   "id": "falling-holder",
   "metadata": {
    "pycharm": {
     "name": "#%%\n"
    }
   },
   "outputs": [
    {
     "name": "stdout",
     "output_type": "stream",
     "text": [
      "0.24176998\n"
     ]
    }
   ],
   "source": [
    "# Write your code here\n",
    "x = np.array([1.2, 2.3, 3.4, -0.7, 4.2, 2.7, -0.5, 1.4, -3.3, 0.2, 1.0])\n",
    "theta = np.array([2.7, 0.33, -2.12, -1.73, 2.9, -5.8, -0.9, 12.11, 3.43, -0.5, -1.65])\n",
    "print(np.round(1/(1+np.e**np.sum(x*theta*-1)), 8))"
   ]
  },
  {
   "cell_type": "markdown",
   "id": "encouraging-clear",
   "metadata": {
    "pycharm": {
     "name": "#%% md\n"
    }
   },
   "source": [
    "**Task 4.** Calculate value of the multivariate linear regression model<br/>\n",
    "$$y = A x + B$$\n",
    "for<br/>\n",
    "$A = \\begin{bmatrix} 1 & 2 & 1 \\\\ 3 & 0 & 1 \\end{bmatrix}$<br/>\n",
    "$B = \\begin{bmatrix} 0.2 \\\\ 0.3 \\end{bmatrix}$<br/>\n",
    "$x = [1, 2, 3]^T$<br/>\n",
    "and print the result. Use only vector and matrix operations."
   ]
  },
  {
   "cell_type": "code",
   "execution_count": 5,
   "id": "casual-emergency",
   "metadata": {
    "pycharm": {
     "name": "#%%\n"
    }
   },
   "outputs": [
    {
     "data": {
      "text/plain": "array([[8.2],\n       [6.3]])"
     },
     "execution_count": 5,
     "metadata": {},
     "output_type": "execute_result"
    }
   ],
   "source": [
    "# Write your code here\n",
    "A = np.array([1,2,1,3,0,1]).reshape(2,3)\n",
    "B = np.array([0.2, 0.3]).reshape(2,1)\n",
    "x = np.array([1,2,3]).reshape(-1,1)\n",
    "np.matmul(A,x)+B"
   ]
  },
  {
   "cell_type": "markdown",
   "id": "latter-vector",
   "metadata": {
    "pycharm": {
     "name": "#%% md\n"
    }
   },
   "source": [
    "# Pandas"
   ]
  },
  {
   "cell_type": "markdown",
   "id": "contrary-vacuum",
   "metadata": {
    "pycharm": {
     "name": "#%% md\n"
    }
   },
   "source": [
    "## Load datasets\n",
    "\n",
    "- Steam (https://www.kaggle.com/tamber/steam-video-games)\n",
    "\n",
    "- MovieLens (https://grouplens.org/datasets/movielens/)"
   ]
  },
  {
   "cell_type": "code",
   "execution_count": 6,
   "id": "alert-friday",
   "metadata": {
    "pycharm": {
     "name": "#%%\n"
    }
   },
   "outputs": [],
   "source": [
    "steam_df = pd.read_csv(os.path.join(\"data\", \"steam\", \"steam-200k.csv\"), \n",
    "                       names=['user-id', 'game-title', 'behavior-name', 'value', 'zero'])\n",
    "\n",
    "ml_ratings_df = pd.read_csv(os.path.join(\"data\", \"movielens_small\", \"ratings.csv\"))\n",
    "ml_movies_df = pd.read_csv(os.path.join(\"data\", \"movielens_small\", \"movies.csv\"))"
   ]
  },
  {
   "cell_type": "markdown",
   "id": "alpha-portal",
   "metadata": {
    "pycharm": {
     "name": "#%% md\n"
    }
   },
   "source": [
    "## Merge both MovieLens DataFrames into one"
   ]
  },
  {
   "cell_type": "code",
   "execution_count": 7,
   "outputs": [
    {
     "data": {
      "text/plain": "     user-id                  game-title behavior-name  value  zero\n0  151603712  The Elder Scrolls V Skyrim      purchase    1.0     0\n1  151603712  The Elder Scrolls V Skyrim          play  273.0     0\n2  151603712                   Fallout 4      purchase    1.0     0\n3  151603712                   Fallout 4          play   87.0     0\n4  151603712                       Spore      purchase    1.0     0",
      "text/html": "<div>\n<style scoped>\n    .dataframe tbody tr th:only-of-type {\n        vertical-align: middle;\n    }\n\n    .dataframe tbody tr th {\n        vertical-align: top;\n    }\n\n    .dataframe thead th {\n        text-align: right;\n    }\n</style>\n<table border=\"1\" class=\"dataframe\">\n  <thead>\n    <tr style=\"text-align: right;\">\n      <th></th>\n      <th>user-id</th>\n      <th>game-title</th>\n      <th>behavior-name</th>\n      <th>value</th>\n      <th>zero</th>\n    </tr>\n  </thead>\n  <tbody>\n    <tr>\n      <th>0</th>\n      <td>151603712</td>\n      <td>The Elder Scrolls V Skyrim</td>\n      <td>purchase</td>\n      <td>1.0</td>\n      <td>0</td>\n    </tr>\n    <tr>\n      <th>1</th>\n      <td>151603712</td>\n      <td>The Elder Scrolls V Skyrim</td>\n      <td>play</td>\n      <td>273.0</td>\n      <td>0</td>\n    </tr>\n    <tr>\n      <th>2</th>\n      <td>151603712</td>\n      <td>Fallout 4</td>\n      <td>purchase</td>\n      <td>1.0</td>\n      <td>0</td>\n    </tr>\n    <tr>\n      <th>3</th>\n      <td>151603712</td>\n      <td>Fallout 4</td>\n      <td>play</td>\n      <td>87.0</td>\n      <td>0</td>\n    </tr>\n    <tr>\n      <th>4</th>\n      <td>151603712</td>\n      <td>Spore</td>\n      <td>purchase</td>\n      <td>1.0</td>\n      <td>0</td>\n    </tr>\n  </tbody>\n</table>\n</div>"
     },
     "execution_count": 7,
     "metadata": {},
     "output_type": "execute_result"
    }
   ],
   "source": [
    "steam_df.head()"
   ],
   "metadata": {
    "collapsed": false,
    "pycharm": {
     "name": "#%%\n"
    }
   }
  },
  {
   "cell_type": "code",
   "execution_count": 8,
   "id": "affecting-disclosure",
   "metadata": {
    "pycharm": {
     "name": "#%%\n"
    }
   },
   "outputs": [
    {
     "data": {
      "text/plain": "   userId  movieId  rating   timestamp             title  \\\n0       1        1     4.0   964982703  Toy Story (1995)   \n1       5        1     4.0   847434962  Toy Story (1995)   \n2       7        1     4.5  1106635946  Toy Story (1995)   \n3      15        1     2.5  1510577970  Toy Story (1995)   \n4      17        1     4.5  1305696483  Toy Story (1995)   \n5      18        1     3.5  1455209816  Toy Story (1995)   \n6      19        1     4.0   965705637  Toy Story (1995)   \n7      21        1     3.5  1407618878  Toy Story (1995)   \n8      27        1     3.0   962685262  Toy Story (1995)   \n9      31        1     5.0   850466616  Toy Story (1995)   \n\n                                        genres  \n0  Adventure|Animation|Children|Comedy|Fantasy  \n1  Adventure|Animation|Children|Comedy|Fantasy  \n2  Adventure|Animation|Children|Comedy|Fantasy  \n3  Adventure|Animation|Children|Comedy|Fantasy  \n4  Adventure|Animation|Children|Comedy|Fantasy  \n5  Adventure|Animation|Children|Comedy|Fantasy  \n6  Adventure|Animation|Children|Comedy|Fantasy  \n7  Adventure|Animation|Children|Comedy|Fantasy  \n8  Adventure|Animation|Children|Comedy|Fantasy  \n9  Adventure|Animation|Children|Comedy|Fantasy  ",
      "text/html": "<div>\n<style scoped>\n    .dataframe tbody tr th:only-of-type {\n        vertical-align: middle;\n    }\n\n    .dataframe tbody tr th {\n        vertical-align: top;\n    }\n\n    .dataframe thead th {\n        text-align: right;\n    }\n</style>\n<table border=\"1\" class=\"dataframe\">\n  <thead>\n    <tr style=\"text-align: right;\">\n      <th></th>\n      <th>userId</th>\n      <th>movieId</th>\n      <th>rating</th>\n      <th>timestamp</th>\n      <th>title</th>\n      <th>genres</th>\n    </tr>\n  </thead>\n  <tbody>\n    <tr>\n      <th>0</th>\n      <td>1</td>\n      <td>1</td>\n      <td>4.0</td>\n      <td>964982703</td>\n      <td>Toy Story (1995)</td>\n      <td>Adventure|Animation|Children|Comedy|Fantasy</td>\n    </tr>\n    <tr>\n      <th>1</th>\n      <td>5</td>\n      <td>1</td>\n      <td>4.0</td>\n      <td>847434962</td>\n      <td>Toy Story (1995)</td>\n      <td>Adventure|Animation|Children|Comedy|Fantasy</td>\n    </tr>\n    <tr>\n      <th>2</th>\n      <td>7</td>\n      <td>1</td>\n      <td>4.5</td>\n      <td>1106635946</td>\n      <td>Toy Story (1995)</td>\n      <td>Adventure|Animation|Children|Comedy|Fantasy</td>\n    </tr>\n    <tr>\n      <th>3</th>\n      <td>15</td>\n      <td>1</td>\n      <td>2.5</td>\n      <td>1510577970</td>\n      <td>Toy Story (1995)</td>\n      <td>Adventure|Animation|Children|Comedy|Fantasy</td>\n    </tr>\n    <tr>\n      <th>4</th>\n      <td>17</td>\n      <td>1</td>\n      <td>4.5</td>\n      <td>1305696483</td>\n      <td>Toy Story (1995)</td>\n      <td>Adventure|Animation|Children|Comedy|Fantasy</td>\n    </tr>\n    <tr>\n      <th>5</th>\n      <td>18</td>\n      <td>1</td>\n      <td>3.5</td>\n      <td>1455209816</td>\n      <td>Toy Story (1995)</td>\n      <td>Adventure|Animation|Children|Comedy|Fantasy</td>\n    </tr>\n    <tr>\n      <th>6</th>\n      <td>19</td>\n      <td>1</td>\n      <td>4.0</td>\n      <td>965705637</td>\n      <td>Toy Story (1995)</td>\n      <td>Adventure|Animation|Children|Comedy|Fantasy</td>\n    </tr>\n    <tr>\n      <th>7</th>\n      <td>21</td>\n      <td>1</td>\n      <td>3.5</td>\n      <td>1407618878</td>\n      <td>Toy Story (1995)</td>\n      <td>Adventure|Animation|Children|Comedy|Fantasy</td>\n    </tr>\n    <tr>\n      <th>8</th>\n      <td>27</td>\n      <td>1</td>\n      <td>3.0</td>\n      <td>962685262</td>\n      <td>Toy Story (1995)</td>\n      <td>Adventure|Animation|Children|Comedy|Fantasy</td>\n    </tr>\n    <tr>\n      <th>9</th>\n      <td>31</td>\n      <td>1</td>\n      <td>5.0</td>\n      <td>850466616</td>\n      <td>Toy Story (1995)</td>\n      <td>Adventure|Animation|Children|Comedy|Fantasy</td>\n    </tr>\n  </tbody>\n</table>\n</div>"
     },
     "execution_count": 8,
     "metadata": {},
     "output_type": "execute_result"
    }
   ],
   "source": [
    "ml_df = pd.merge(ml_ratings_df, ml_movies_df, on='movieId')\n",
    "ml_df.head(10)"
   ]
  },
  {
   "cell_type": "markdown",
   "id": "objective-associate",
   "metadata": {
    "pycharm": {
     "name": "#%% md\n"
    }
   },
   "source": [
    "## Pandas tasks - Steam dataset"
   ]
  },
  {
   "cell_type": "markdown",
   "id": "floppy-american",
   "metadata": {
    "pycharm": {
     "name": "#%% md\n"
    }
   },
   "source": [
    "**Task 5.** How many people made a purchase in the Steam dataset? Remember that a person could buy many games, but you need to count every person once."
   ]
  },
  {
   "cell_type": "code",
   "execution_count": 9,
   "id": "decimal-grass",
   "metadata": {
    "pycharm": {
     "name": "#%%\n"
    }
   },
   "outputs": [
    {
     "name": "stdout",
     "output_type": "stream",
     "text": [
      "12393\n"
     ]
    }
   ],
   "source": [
    "# Write your code here\n",
    "print(len(steam_df[(steam_df[\"behavior-name\"] == \"purchase\")].groupby(\"user-id\")))"
   ]
  },
  {
   "cell_type": "markdown",
   "id": "protected-glossary",
   "metadata": {
    "pycharm": {
     "name": "#%% md\n"
    }
   },
   "source": [
    "**Task 6.** How many people made a purchase of \"The Elder Scrolls V Skyrim\"?"
   ]
  },
  {
   "cell_type": "code",
   "execution_count": 10,
   "id": "distant-overview",
   "metadata": {
    "pycharm": {
     "name": "#%%\n"
    }
   },
   "outputs": [
    {
     "name": "stdout",
     "output_type": "stream",
     "text": [
      "717\n"
     ]
    }
   ],
   "source": [
    "# Write your code here\n",
    "print(len(steam_df[(steam_df[\"behavior-name\"] == \"purchase\")& (steam_df[\"game-title\"] == \"The Elder Scrolls V Skyrim\")].groupby(\"user-id\")))"
   ]
  },
  {
   "cell_type": "markdown",
   "id": "vocational-weekly",
   "metadata": {
    "pycharm": {
     "name": "#%% md\n"
    }
   },
   "source": [
    "**Task 7.** How many purchases people made on average?"
   ]
  },
  {
   "cell_type": "code",
   "execution_count": 11,
   "id": "reflected-cathedral",
   "metadata": {
    "pycharm": {
     "name": "#%%\n"
    }
   },
   "outputs": [
    {
     "name": "stdout",
     "output_type": "stream",
     "text": [
      "10.45\n"
     ]
    }
   ],
   "source": [
    "# Write your code here\n",
    "print(np.round(steam_df[(steam_df[\"behavior-name\"] == \"purchase\")].groupby(\"user-id\")[\"zero\"].count().mean(), 2))"
   ]
  },
  {
   "cell_type": "markdown",
   "id": "signed-transaction",
   "metadata": {
    "pycharm": {
     "name": "#%% md\n"
    }
   },
   "source": [
    "**Task 8.** Who bought the most games?"
   ]
  },
  {
   "cell_type": "code",
   "execution_count": 12,
   "id": "handmade-revolution",
   "metadata": {
    "pycharm": {
     "name": "#%%\n"
    }
   },
   "outputs": [
    {
     "name": "stdout",
     "output_type": "stream",
     "text": [
      "62990992\n"
     ]
    }
   ],
   "source": [
    "# Write your code here\n",
    "print(steam_df[(steam_df[\"behavior-name\"] == \"purchase\")].groupby(\"user-id\")[\"zero\"].count().sort_values(ascending=False).reset_index().iloc[0][\"user-id\"])\n"
   ]
  },
  {
   "cell_type": "markdown",
   "id": "piano-bobby",
   "metadata": {
    "pycharm": {
     "name": "#%% md\n"
    }
   },
   "source": [
    "**Task 9.** How many hours on average people played in \"The Elder Scrolls V Skyrim\"?"
   ]
  },
  {
   "cell_type": "code",
   "execution_count": 13,
   "id": "hydraulic-observation",
   "metadata": {
    "pycharm": {
     "name": "#%%\n"
    }
   },
   "outputs": [
    {
     "name": "stdout",
     "output_type": "stream",
     "text": [
      "104.71\n"
     ]
    }
   ],
   "source": [
    "# Write your code here\n",
    "print(np.round(steam_df[(steam_df[\"behavior-name\"] == \"play\") & (steam_df[\"game-title\"] == \"The Elder Scrolls V Skyrim\")].groupby(\"user-id\")[\"value\"].sum().mean(), 2))"
   ]
  },
  {
   "cell_type": "markdown",
   "id": "stuffed-creativity",
   "metadata": {
    "pycharm": {
     "name": "#%% md\n"
    }
   },
   "source": [
    "**Task 10.** Which games were played the most (in terms of the number of hours played)? Display a DataFrame with the first 10 titles and respective numbers of hours."
   ]
  },
  {
   "cell_type": "code",
   "execution_count": 14,
   "id": "challenging-truck",
   "metadata": {
    "pycharm": {
     "name": "#%%\n"
    }
   },
   "outputs": [
    {
     "name": "stdout",
     "output_type": "stream",
     "text": [
      "                                    game-title     value\n",
      "0                                       Dota 2  981684.6\n",
      "1              Counter-Strike Global Offensive  322771.6\n",
      "2                              Team Fortress 2  173673.3\n",
      "3                               Counter-Strike  134261.1\n",
      "4                   Sid Meier's Civilization V   99821.3\n",
      "5                        Counter-Strike Source   96075.5\n",
      "6                   The Elder Scrolls V Skyrim   70889.3\n",
      "7                                  Garry's Mod   49725.3\n",
      "8  Call of Duty Modern Warfare 2 - Multiplayer   42009.9\n",
      "9                                Left 4 Dead 2   33596.7\n"
     ]
    }
   ],
   "source": [
    "# Write your code here\n",
    "print(steam_df[(steam_df[\"behavior-name\"] == \"play\")].groupby(\"game-title\").sum().reset_index().sort_values(\"value\", ascending=False).reset_index()[[\"game-title\", \"value\"]].iloc[:10])"
   ]
  },
  {
   "cell_type": "markdown",
   "id": "crude-petroleum",
   "metadata": {
    "pycharm": {
     "name": "#%% md\n"
    }
   },
   "source": [
    "**Task 11.** Which games are the most consistently played (in terms of the average number of hours played)? Print a DataFrame with the first 10 titles and respective numbers of hours."
   ]
  },
  {
   "cell_type": "code",
   "execution_count": 15,
   "id": "surgical-lawsuit",
   "metadata": {
    "pycharm": {
     "name": "#%%\n"
    }
   },
   "outputs": [
    {
     "name": "stdout",
     "output_type": "stream",
     "text": [
      "                          game-title        value\n",
      "0            Eastside Hockey Manager  1295.000000\n",
      "1  Baldur's Gate II Enhanced Edition   475.255556\n",
      "2                    FIFA Manager 09   411.000000\n",
      "3                          Perpetuum   400.975000\n",
      "4              Football Manager 2014   391.984615\n",
      "5              Football Manager 2012   390.453165\n",
      "6              Football Manager 2010   375.048571\n",
      "7              Football Manager 2011   365.703226\n",
      "8                  Freaking Meatbags   331.000000\n",
      "9        Out of the Park Baseball 16   330.400000\n"
     ]
    }
   ],
   "source": [
    "# Write your code here\n",
    "print(steam_df[(steam_df[\"behavior-name\"] == \"play\")].groupby(\"game-title\").mean().reset_index().sort_values(\"value\", ascending=False).reset_index()[[\"game-title\", \"value\"]].iloc[:10])"
   ]
  },
  {
   "cell_type": "markdown",
   "id": "monetary-toyota",
   "metadata": {
    "pycharm": {
     "name": "#%% md\n"
    }
   },
   "source": [
    "**Task 12\\*\\*.** Fix the above for the fact that 0 hours played is not listed, but only a purchase is recorded in such a case."
   ]
  },
  {
   "cell_type": "code",
   "execution_count": 16,
   "id": "protective-report",
   "metadata": {
    "pycharm": {
     "name": "#%%\n"
    }
   },
   "outputs": [
    {
     "data": {
      "text/plain": "                    game-title        value\n0      Eastside Hockey Manager  1295.000000\n1              FIFA Manager 09   411.000000\n2                    Perpetuum   400.975000\n3        Football Manager 2012   385.572500\n4        Football Manager 2014   382.185000\n5        Football Manager 2010   345.439474\n6        Football Manager 2011   333.435294\n7  Out of the Park Baseball 16   330.400000\n8        Football Manager 2013   310.659615\n9        Football Manager 2015   307.381013",
      "text/html": "<div>\n<style scoped>\n    .dataframe tbody tr th:only-of-type {\n        vertical-align: middle;\n    }\n\n    .dataframe tbody tr th {\n        vertical-align: top;\n    }\n\n    .dataframe thead th {\n        text-align: right;\n    }\n</style>\n<table border=\"1\" class=\"dataframe\">\n  <thead>\n    <tr style=\"text-align: right;\">\n      <th></th>\n      <th>game-title</th>\n      <th>value</th>\n    </tr>\n  </thead>\n  <tbody>\n    <tr>\n      <th>0</th>\n      <td>Eastside Hockey Manager</td>\n      <td>1295.000000</td>\n    </tr>\n    <tr>\n      <th>1</th>\n      <td>FIFA Manager 09</td>\n      <td>411.000000</td>\n    </tr>\n    <tr>\n      <th>2</th>\n      <td>Perpetuum</td>\n      <td>400.975000</td>\n    </tr>\n    <tr>\n      <th>3</th>\n      <td>Football Manager 2012</td>\n      <td>385.572500</td>\n    </tr>\n    <tr>\n      <th>4</th>\n      <td>Football Manager 2014</td>\n      <td>382.185000</td>\n    </tr>\n    <tr>\n      <th>5</th>\n      <td>Football Manager 2010</td>\n      <td>345.439474</td>\n    </tr>\n    <tr>\n      <th>6</th>\n      <td>Football Manager 2011</td>\n      <td>333.435294</td>\n    </tr>\n    <tr>\n      <th>7</th>\n      <td>Out of the Park Baseball 16</td>\n      <td>330.400000</td>\n    </tr>\n    <tr>\n      <th>8</th>\n      <td>Football Manager 2013</td>\n      <td>310.659615</td>\n    </tr>\n    <tr>\n      <th>9</th>\n      <td>Football Manager 2015</td>\n      <td>307.381013</td>\n    </tr>\n  </tbody>\n</table>\n</div>"
     },
     "execution_count": 16,
     "metadata": {},
     "output_type": "execute_result"
    }
   ],
   "source": [
    "# Write your code here\n",
    "copy = steam_df.copy()\n",
    "copy.loc[(steam_df[\"behavior-name\"] == \"purchase\"), [\"value\"]] = 0.0\n",
    "copy.groupby([\"user-id\", \"game-title\"]).sum().reset_index().groupby(\"game-title\").mean().reset_index().loc[:, [\"game-title\", \"value\"]].sort_values(\"value\", ascending=False).reset_index(drop=True).iloc[:10]"
   ]
  },
  {
   "cell_type": "markdown",
   "id": "ceramic-awareness",
   "metadata": {
    "pycharm": {
     "name": "#%% md\n"
    }
   },
   "source": [
    "**Task 13.** Apply the sigmoid function\n",
    "$$f(x) = \\frac{1}{1 + e^{-\\frac{1}{100}x}}$$\n",
    "to hours played and print a DataFrame with the first 10 rows from the entire Steam dataset after this change."
   ]
  },
  {
   "cell_type": "code",
   "execution_count": 17,
   "id": "optical-announcement",
   "metadata": {
    "pycharm": {
     "name": "#%%\n"
    }
   },
   "outputs": [
    {
     "name": "stdout",
     "output_type": "stream",
     "text": [
      "     user-id                  game-title behavior-name     value  zero\n",
      "0  151603712  The Elder Scrolls V Skyrim      purchase  1.000000     0\n",
      "1  151603712  The Elder Scrolls V Skyrim          play  0.938774     0\n",
      "2  151603712                   Fallout 4      purchase  1.000000     0\n",
      "3  151603712                   Fallout 4          play  0.704746     0\n",
      "4  151603712                       Spore      purchase  1.000000     0\n",
      "5  151603712                       Spore          play  0.537181     0\n",
      "6  151603712           Fallout New Vegas      purchase  1.000000     0\n",
      "7  151603712           Fallout New Vegas          play  0.530213     0\n",
      "8  151603712               Left 4 Dead 2      purchase  1.000000     0\n",
      "9  151603712               Left 4 Dead 2          play  0.522235     0\n"
     ]
    }
   ],
   "source": [
    "# Write your code here\n",
    "copy = steam_df.copy()\n",
    "copy.loc[copy[\"behavior-name\"] == \"play\", \"value\"] = copy[copy[\"behavior-name\"] == \"play\"].loc[:, \"value\"].apply(lambda x: 1/(1+np.exp(-x/100)))\n",
    "print(copy.head(10))"
   ]
  },
  {
   "cell_type": "markdown",
   "id": "actual-spotlight",
   "metadata": {
    "pycharm": {
     "name": "#%% md\n"
    }
   },
   "source": [
    "## Pandas tasks - MovieLens dataset"
   ]
  },
  {
   "cell_type": "markdown",
   "id": "inclusive-crash",
   "metadata": {
    "pycharm": {
     "name": "#%% md\n"
    }
   },
   "source": [
    "**Task 14\\*.** Calculate popularity (by the number of users who watched a movie) of all genres. Print a DataFrame with two columns: genre, n_users, where n_users contains the number of users who watched a given genre. Sort all genres in descending order."
   ]
  },
  {
   "cell_type": "code",
   "execution_count": 18,
   "outputs": [
    {
     "data": {
      "text/plain": "   userId  movieId  rating   timestamp             title  \\\n0       1        1     4.0   964982703  Toy Story (1995)   \n1       5        1     4.0   847434962  Toy Story (1995)   \n2       7        1     4.5  1106635946  Toy Story (1995)   \n3      15        1     2.5  1510577970  Toy Story (1995)   \n4      17        1     4.5  1305696483  Toy Story (1995)   \n\n                                        genres  \n0  Adventure|Animation|Children|Comedy|Fantasy  \n1  Adventure|Animation|Children|Comedy|Fantasy  \n2  Adventure|Animation|Children|Comedy|Fantasy  \n3  Adventure|Animation|Children|Comedy|Fantasy  \n4  Adventure|Animation|Children|Comedy|Fantasy  ",
      "text/html": "<div>\n<style scoped>\n    .dataframe tbody tr th:only-of-type {\n        vertical-align: middle;\n    }\n\n    .dataframe tbody tr th {\n        vertical-align: top;\n    }\n\n    .dataframe thead th {\n        text-align: right;\n    }\n</style>\n<table border=\"1\" class=\"dataframe\">\n  <thead>\n    <tr style=\"text-align: right;\">\n      <th></th>\n      <th>userId</th>\n      <th>movieId</th>\n      <th>rating</th>\n      <th>timestamp</th>\n      <th>title</th>\n      <th>genres</th>\n    </tr>\n  </thead>\n  <tbody>\n    <tr>\n      <th>0</th>\n      <td>1</td>\n      <td>1</td>\n      <td>4.0</td>\n      <td>964982703</td>\n      <td>Toy Story (1995)</td>\n      <td>Adventure|Animation|Children|Comedy|Fantasy</td>\n    </tr>\n    <tr>\n      <th>1</th>\n      <td>5</td>\n      <td>1</td>\n      <td>4.0</td>\n      <td>847434962</td>\n      <td>Toy Story (1995)</td>\n      <td>Adventure|Animation|Children|Comedy|Fantasy</td>\n    </tr>\n    <tr>\n      <th>2</th>\n      <td>7</td>\n      <td>1</td>\n      <td>4.5</td>\n      <td>1106635946</td>\n      <td>Toy Story (1995)</td>\n      <td>Adventure|Animation|Children|Comedy|Fantasy</td>\n    </tr>\n    <tr>\n      <th>3</th>\n      <td>15</td>\n      <td>1</td>\n      <td>2.5</td>\n      <td>1510577970</td>\n      <td>Toy Story (1995)</td>\n      <td>Adventure|Animation|Children|Comedy|Fantasy</td>\n    </tr>\n    <tr>\n      <th>4</th>\n      <td>17</td>\n      <td>1</td>\n      <td>4.5</td>\n      <td>1305696483</td>\n      <td>Toy Story (1995)</td>\n      <td>Adventure|Animation|Children|Comedy|Fantasy</td>\n    </tr>\n  </tbody>\n</table>\n</div>"
     },
     "execution_count": 18,
     "metadata": {},
     "output_type": "execute_result"
    }
   ],
   "source": [
    "ml_df.head()"
   ],
   "metadata": {
    "collapsed": false,
    "pycharm": {
     "name": "#%%\n"
    }
   }
  },
  {
   "cell_type": "code",
   "execution_count": 19,
   "id": "developmental-seven",
   "metadata": {
    "pycharm": {
     "name": "#%%\n"
    }
   },
   "outputs": [
    {
     "data": {
      "text/plain": "                 genre  n_users\n0                Drama    41928\n1               Comedy    39053\n2               Action    30635\n3             Thriller    26452\n4            Adventure    24161\n5              Romance    18124\n6               Sci-Fi    17243\n7                Crime    16681\n8              Fantasy    11834\n9             Children     9208\n10             Mystery     7674\n11              Horror     7291\n12           Animation     6988\n13                 War     4859\n14                IMAX     4145\n15             Musical     4138\n16             Western     1930\n17         Documentary     1219\n18           Film-Noir      870\n19  (no genres listed)       47",
      "text/html": "<div>\n<style scoped>\n    .dataframe tbody tr th:only-of-type {\n        vertical-align: middle;\n    }\n\n    .dataframe tbody tr th {\n        vertical-align: top;\n    }\n\n    .dataframe thead th {\n        text-align: right;\n    }\n</style>\n<table border=\"1\" class=\"dataframe\">\n  <thead>\n    <tr style=\"text-align: right;\">\n      <th></th>\n      <th>genre</th>\n      <th>n_users</th>\n    </tr>\n  </thead>\n  <tbody>\n    <tr>\n      <th>0</th>\n      <td>Drama</td>\n      <td>41928</td>\n    </tr>\n    <tr>\n      <th>1</th>\n      <td>Comedy</td>\n      <td>39053</td>\n    </tr>\n    <tr>\n      <th>2</th>\n      <td>Action</td>\n      <td>30635</td>\n    </tr>\n    <tr>\n      <th>3</th>\n      <td>Thriller</td>\n      <td>26452</td>\n    </tr>\n    <tr>\n      <th>4</th>\n      <td>Adventure</td>\n      <td>24161</td>\n    </tr>\n    <tr>\n      <th>5</th>\n      <td>Romance</td>\n      <td>18124</td>\n    </tr>\n    <tr>\n      <th>6</th>\n      <td>Sci-Fi</td>\n      <td>17243</td>\n    </tr>\n    <tr>\n      <th>7</th>\n      <td>Crime</td>\n      <td>16681</td>\n    </tr>\n    <tr>\n      <th>8</th>\n      <td>Fantasy</td>\n      <td>11834</td>\n    </tr>\n    <tr>\n      <th>9</th>\n      <td>Children</td>\n      <td>9208</td>\n    </tr>\n    <tr>\n      <th>10</th>\n      <td>Mystery</td>\n      <td>7674</td>\n    </tr>\n    <tr>\n      <th>11</th>\n      <td>Horror</td>\n      <td>7291</td>\n    </tr>\n    <tr>\n      <th>12</th>\n      <td>Animation</td>\n      <td>6988</td>\n    </tr>\n    <tr>\n      <th>13</th>\n      <td>War</td>\n      <td>4859</td>\n    </tr>\n    <tr>\n      <th>14</th>\n      <td>IMAX</td>\n      <td>4145</td>\n    </tr>\n    <tr>\n      <th>15</th>\n      <td>Musical</td>\n      <td>4138</td>\n    </tr>\n    <tr>\n      <th>16</th>\n      <td>Western</td>\n      <td>1930</td>\n    </tr>\n    <tr>\n      <th>17</th>\n      <td>Documentary</td>\n      <td>1219</td>\n    </tr>\n    <tr>\n      <th>18</th>\n      <td>Film-Noir</td>\n      <td>870</td>\n    </tr>\n    <tr>\n      <th>19</th>\n      <td>(no genres listed)</td>\n      <td>47</td>\n    </tr>\n  </tbody>\n</table>\n</div>"
     },
     "execution_count": 19,
     "metadata": {},
     "output_type": "execute_result"
    }
   ],
   "source": [
    "# Write your code here\n",
    "ml_df.genres.str.get_dummies(\"|\").sum().reset_index().rename(columns={\"index\": \"genre\", 0: \"n_users\"}).sort_values(by=\"n_users\", ascending=False, ignore_index=True)"
   ]
  },
  {
   "cell_type": "markdown",
   "id": "personalized-finland",
   "metadata": {
    "pycharm": {
     "name": "#%% md\n"
    }
   },
   "source": [
    "**Task 15\\*.** Calculate average rating for all genres. Print a DataFrame with two columns: genre, rating, where rating contains the average rating for a given genre. Sort all genres in descending order."
   ]
  },
  {
   "cell_type": "code",
   "execution_count": 20,
   "id": "inside-personal",
   "metadata": {
    "pycharm": {
     "name": "#%%\n"
    }
   },
   "outputs": [
    {
     "name": "stdout",
     "output_type": "stream",
     "text": [
      "                 genre    rating\n",
      "0            Film-Noir  3.920115\n",
      "1                  War  3.808294\n",
      "2          Documentary  3.797785\n",
      "3                Crime  3.658294\n",
      "4                Drama  3.656184\n",
      "5              Mystery  3.632460\n",
      "6            Animation  3.629937\n",
      "7                 IMAX  3.618335\n",
      "8              Western  3.583938\n",
      "9              Musical  3.563678\n",
      "10           Adventure  3.508609\n",
      "11             Romance  3.506511\n",
      "12            Thriller  3.493706\n",
      "13             Fantasy  3.491001\n",
      "14  (no genres listed)  3.489362\n",
      "15              Sci-Fi  3.455721\n",
      "16              Action  3.447984\n",
      "17            Children  3.412956\n",
      "18              Comedy  3.384721\n",
      "19              Horror  3.258195\n"
     ]
    }
   ],
   "source": [
    "# Write your code here\n",
    "print(ml_df.set_index(ml_df.columns.drop('genres',1).tolist()).genres.str.split('|',expand=True).stack().reset_index().rename(columns={0:'genre'}).loc[:, [\"genre\", \"rating\"]].groupby(\"genre\").mean().sort_values(by=\"rating\", ascending=False).reset_index())"
   ]
  },
  {
   "cell_type": "markdown",
   "id": "vertical-stick",
   "metadata": {
    "pycharm": {
     "name": "#%% md\n"
    }
   },
   "source": [
    "**Task 16.** Calculate each movie rating bias (deviation from the mean of all movies average rating). Print a DataFrame with the first 10 in the form: title, average rating, bias."
   ]
  },
  {
   "cell_type": "code",
   "execution_count": 21,
   "id": "greatest-screen",
   "metadata": {
    "pycharm": {
     "name": "#%%\n"
    }
   },
   "outputs": [
    {
     "name": "stdout",
     "output_type": "stream",
     "text": [
      "                                     title  average_rating      bias\n",
      "0                               '71 (2014)        4.000000  0.498443\n",
      "1  'Hellboy': The Seeds of Creation (2004)        4.000000  0.498443\n",
      "2                   'Round Midnight (1986)        3.500000 -0.001557\n",
      "3                      'Salem's Lot (2004)        5.000000  1.498443\n",
      "4                'Til There Was You (1997)        4.000000  0.498443\n",
      "5          'Tis the Season for Love (2015)        1.500000 -2.001557\n",
      "6                       'burbs, The (1989)        3.176471 -0.325086\n",
      "7                     'night Mother (1986)        3.000000 -0.501557\n",
      "8              (500) Days of Summer (2009)        3.666667  0.165110\n",
      "9           *batteries not included (1987)        3.285714 -0.215843\n"
     ]
    }
   ],
   "source": [
    "# Write your code here\n",
    "mean = ml_df['rating'].mean()\n",
    "ml_df_rating = ml_df.groupby(['title'])['rating'].mean().reset_index()\n",
    "ml_df_rating['bias'] = ml_df_rating['rating'].apply(lambda x: x - mean)\n",
    "ml_df_rating.rename(columns = {'rating' : 'average_rating'}, inplace = True)\n",
    "print(ml_df_rating.head(10))"
   ]
  },
  {
   "cell_type": "markdown",
   "id": "hawaiian-haiti",
   "metadata": {
    "pycharm": {
     "name": "#%% md\n"
    }
   },
   "source": [
    "**Task 17.** Calculate each user rating bias (deviation from the mean of all users average rating). Print a DataFrame with the first 10 in the form: user_id, average rating, bias."
   ]
  },
  {
   "cell_type": "code",
   "execution_count": 22,
   "id": "charitable-guyana",
   "metadata": {
    "pycharm": {
     "name": "#%%\n"
    }
   },
   "outputs": [
    {
     "name": "stdout",
     "output_type": "stream",
     "text": [
      "   userId  average_rating      bias\n",
      "0       1        4.366379  0.864822\n",
      "1       2        3.948276  0.446719\n",
      "2       3        2.435897 -1.065660\n",
      "3       4        3.555556  0.053999\n",
      "4       5        3.636364  0.134807\n",
      "5       6        3.493631 -0.007926\n",
      "6       7        3.230263 -0.271294\n",
      "7       8        3.574468  0.072911\n",
      "8       9        3.260870 -0.240687\n",
      "9      10        3.278571 -0.222986\n"
     ]
    }
   ],
   "source": [
    "# Write your code here\n",
    "mean = ml_df['rating'].mean()\n",
    "ml_df_rating = ml_df.groupby(['userId'])['rating'].mean().reset_index()\n",
    "ml_df_rating['bias'] = ml_df_rating['rating'].apply(lambda x: x - mean)\n",
    "ml_df_rating.rename(columns = {'rating' : 'average_rating'}, inplace = True)\n",
    "print(ml_df_rating.head(10))"
   ]
  },
  {
   "cell_type": "markdown",
   "id": "intimate-porcelain",
   "metadata": {
    "pycharm": {
     "name": "#%% md\n"
    }
   },
   "source": [
    "**Task 18.** Randomly choose 10 movies and 10 users and print their interaction matrix in the form of a DataFrame with user_id as index and movie titles as columns. You can iterate over the DataFrame in this task. Alternatively, try using the DataFrame pivot and reindex methods and compare the execution time. Initialize the numpy random number generator with seed=4321."
   ]
  },
  {
   "cell_type": "code",
   "execution_count": 23,
   "id": "brazilian-frost",
   "metadata": {
    "pycharm": {
     "name": "#%%\n"
    }
   },
   "outputs": [],
   "source": [
    "# Write your code here\n",
    "user_ids = ml_df['userId'].unique()\n",
    "movie_ids = ml_df['movieId'].unique()\n",
    "rng = np.random.RandomState(seed=4321)\n",
    "user_ids = sorted(list(rng.choice(user_ids, size=10)))\n",
    "movie_ids = sorted(list(rng.choice(movie_ids, size=10)))"
   ]
  },
  {
   "cell_type": "code",
   "execution_count": 24,
   "outputs": [
    {
     "name": "stdout",
     "output_type": "stream",
     "text": [
      "     Father of the Bride (1950)  Matrix, The (1999)  Howards End (1992)  \\\n",
      "11                          0.0                 0.0                 0.0   \n",
      "277                         0.0                 0.0                 0.0   \n",
      "286                         0.0                 1.0                 0.0   \n",
      "357                         0.0                 0.0                 0.0   \n",
      "414                         0.0                 1.0                 0.0   \n",
      "428                         0.0                 1.0                 0.0   \n",
      "470                         0.0                 0.0                 0.0   \n",
      "487                         0.0                 1.0                 0.0   \n",
      "543                         0.0                 1.0                 0.0   \n",
      "544                         0.0                 0.0                 0.0   \n",
      "\n",
      "     Thirteen Conversations About One Thing (a.k.a. 13 Conversations) (2001)  \\\n",
      "11                                                 0.0                         \n",
      "277                                                0.0                         \n",
      "286                                                0.0                         \n",
      "357                                                0.0                         \n",
      "414                                                1.0                         \n",
      "428                                                0.0                         \n",
      "470                                                0.0                         \n",
      "487                                                0.0                         \n",
      "543                                                0.0                         \n",
      "544                                                0.0                         \n",
      "\n",
      "     It Runs in the Family (2003)  I Love You to Death (1990)  \\\n",
      "11                            0.0                         0.0   \n",
      "277                           0.0                         0.0   \n",
      "286                           0.0                         0.0   \n",
      "357                           0.0                         0.0   \n",
      "414                           0.0                         0.0   \n",
      "428                           0.0                         0.0   \n",
      "470                           0.0                         0.0   \n",
      "487                           0.0                         0.0   \n",
      "543                           0.0                         0.0   \n",
      "544                           0.0                         0.0   \n",
      "\n",
      "     Bedazzled (1967)  I Don't Know How She Does It (2011)  \\\n",
      "11                0.0                                  0.0   \n",
      "277               0.0                                  0.0   \n",
      "286               0.0                                  0.0   \n",
      "357               0.0                                  0.0   \n",
      "414               0.0                                  0.0   \n",
      "428               0.0                                  0.0   \n",
      "470               0.0                                  0.0   \n",
      "487               0.0                                  0.0   \n",
      "543               0.0                                  0.0   \n",
      "544               0.0                                  0.0   \n",
      "\n",
      "     Wind Rises, The (Kaze tachinu) (2013)  Night Guards (2016)  \n",
      "11                                     0.0                  0.0  \n",
      "277                                    0.0                  0.0  \n",
      "286                                    0.0                  0.0  \n",
      "357                                    0.0                  0.0  \n",
      "414                                    0.0                  0.0  \n",
      "428                                    0.0                  0.0  \n",
      "470                                    0.0                  0.0  \n",
      "487                                    0.0                  0.0  \n",
      "543                                    0.0                  0.0  \n",
      "544                                    0.0                  0.0  \n"
     ]
    }
   ],
   "source": [
    "movie_titles = pd.DataFrame(np.array(movie_ids).reshape(-1, 1), columns=['movieId'])\n",
    "movie_titles = movie_titles.merge(ml_movies_df, on=['movieId'])\n",
    "chosen_df = ml_df.loc[ml_df['userId'].isin(user_ids) & ml_df['movieId'].isin(movie_ids)].copy()\n",
    "chosen_df['value'] = 1\n",
    "\n",
    "interactions_df = chosen_df.pivot(index='userId', columns='title', values='value')\n",
    "interactions_df = interactions_df.reindex(user_ids)\n",
    "interactions_df = interactions_df.reindex(movie_titles['title'].values, axis='columns')\n",
    "interactions_df = interactions_df.fillna(0)\n",
    "interactions_df = interactions_df.rename_axis(None).rename_axis(None, axis=1)\n",
    "print(interactions_df)"
   ],
   "metadata": {
    "collapsed": false,
    "pycharm": {
     "name": "#%%\n"
    }
   }
  },
  {
   "cell_type": "markdown",
   "id": "boolean-modem",
   "metadata": {
    "pycharm": {
     "name": "#%% md\n"
    }
   },
   "source": [
    "## Pandas + numpy tasks"
   ]
  },
  {
   "cell_type": "markdown",
   "id": "worldwide-disclaimer",
   "metadata": {
    "pycharm": {
     "name": "#%% md\n"
    }
   },
   "source": [
    "**Task 19.** Create the entire interaction matrix (2D numpy array) for the MovieLens dataset. Print the submatrix of the first 10 rows and 10 columns."
   ]
  },
  {
   "cell_type": "code",
   "execution_count": 25,
   "outputs": [],
   "source": [
    "user_ids = ml_df['userId'].unique()\n",
    "movie_ids = ml_df['movieId'].unique()"
   ],
   "metadata": {
    "collapsed": false,
    "pycharm": {
     "name": "#%%\n"
    }
   }
  },
  {
   "cell_type": "code",
   "execution_count": 26,
   "id": "marine-initial",
   "metadata": {
    "pycharm": {
     "name": "#%%\n"
    }
   },
   "outputs": [
    {
     "name": "stdout",
     "output_type": "stream",
     "text": [
      "title   Toy Story (1995)  Grumpier Old Men (1995)  Heat (1995)  \\\n",
      "userId                                                           \n",
      "1                    1.0                      1.0          1.0   \n",
      "5                    1.0                      0.0          0.0   \n",
      "7                    1.0                      0.0          0.0   \n",
      "15                   1.0                      0.0          0.0   \n",
      "17                   1.0                      0.0          0.0   \n",
      "...                  ...                      ...          ...   \n",
      "506                  0.0                      0.0          0.0   \n",
      "397                  0.0                      0.0          0.0   \n",
      "556                  0.0                      0.0          0.0   \n",
      "175                  0.0                      0.0          0.0   \n",
      "578                  0.0                      0.0          0.0   \n",
      "\n",
      "title   Seven (a.k.a. Se7en) (1995)  Usual Suspects, The (1995)  \\\n",
      "userId                                                            \n",
      "1                               1.0                         1.0   \n",
      "5                               0.0                         1.0   \n",
      "7                               0.0                         1.0   \n",
      "15                              1.0                         0.0   \n",
      "17                              1.0                         1.0   \n",
      "...                             ...                         ...   \n",
      "506                             0.0                         0.0   \n",
      "397                             0.0                         0.0   \n",
      "556                             0.0                         0.0   \n",
      "175                             0.0                         0.0   \n",
      "578                             0.0                         0.0   \n",
      "\n",
      "title   From Dusk Till Dawn (1996)  Bottle Rocket (1996)  Braveheart (1995)  \\\n",
      "userId                                                                        \n",
      "1                              1.0                   1.0                1.0   \n",
      "5                              0.0                   0.0                1.0   \n",
      "7                              0.0                   0.0                0.0   \n",
      "15                             0.0                   0.0                0.0   \n",
      "17                             0.0                   0.0                1.0   \n",
      "...                            ...                   ...                ...   \n",
      "506                            0.0                   0.0                0.0   \n",
      "397                            0.0                   0.0                0.0   \n",
      "556                            0.0                   0.0                0.0   \n",
      "175                            0.0                   0.0                0.0   \n",
      "578                            0.0                   0.0                0.0   \n",
      "\n",
      "title   Rob Roy (1995)  Canadian Bacon (1995)  ...  \\\n",
      "userId                                         ...   \n",
      "1                  1.0                    1.0  ...   \n",
      "5                  0.0                    0.0  ...   \n",
      "7                  0.0                    0.0  ...   \n",
      "15                 0.0                    0.0  ...   \n",
      "17                 0.0                    0.0  ...   \n",
      "...                ...                    ...  ...   \n",
      "506                0.0                    0.0  ...   \n",
      "397                0.0                    0.0  ...   \n",
      "556                0.0                    0.0  ...   \n",
      "175                0.0                    0.0  ...   \n",
      "578                0.0                    0.0  ...   \n",
      "\n",
      "title   Return of the One-Armed Swordsman (1969)  Hitchcock/Truffaut (2015)  \\\n",
      "userId                                                                        \n",
      "1                                            0.0                        0.0   \n",
      "5                                            0.0                        0.0   \n",
      "7                                            0.0                        0.0   \n",
      "15                                           0.0                        0.0   \n",
      "17                                           0.0                        0.0   \n",
      "...                                          ...                        ...   \n",
      "506                                          0.0                        0.0   \n",
      "397                                          0.0                        0.0   \n",
      "556                                          0.0                        0.0   \n",
      "175                                          0.0                        0.0   \n",
      "578                                          0.0                        0.0   \n",
      "\n",
      "title   He Never Died (2015)  Southbound (2016)  Gen-X Cops (1999)  \\\n",
      "userId                                                               \n",
      "1                        0.0                0.0                0.0   \n",
      "5                        0.0                0.0                0.0   \n",
      "7                        0.0                0.0                0.0   \n",
      "15                       0.0                0.0                0.0   \n",
      "17                       0.0                0.0                0.0   \n",
      "...                      ...                ...                ...   \n",
      "506                      0.0                0.0                0.0   \n",
      "397                      0.0                0.0                0.0   \n",
      "556                      0.0                0.0                0.0   \n",
      "175                      0.0                0.0                0.0   \n",
      "578                      0.0                0.0                0.0   \n",
      "\n",
      "title   Bloodmoon (1997)  Sympathy for the Underdog (1971)  Hazard (2005)  \\\n",
      "userId                                                                      \n",
      "1                    0.0                               0.0            0.0   \n",
      "5                    0.0                               0.0            0.0   \n",
      "7                    0.0                               0.0            0.0   \n",
      "15                   0.0                               0.0            0.0   \n",
      "17                   0.0                               0.0            0.0   \n",
      "...                  ...                               ...            ...   \n",
      "506                  0.0                               0.0            0.0   \n",
      "397                  0.0                               0.0            0.0   \n",
      "556                  0.0                               0.0            0.0   \n",
      "175                  0.0                               0.0            0.0   \n",
      "578                  0.0                               0.0            0.0   \n",
      "\n",
      "title   Blair Witch (2016)  31 (2016)  \n",
      "userId                                 \n",
      "1                      0.0        0.0  \n",
      "5                      0.0        0.0  \n",
      "7                      0.0        0.0  \n",
      "15                     0.0        0.0  \n",
      "17                     0.0        0.0  \n",
      "...                    ...        ...  \n",
      "506                    0.0        0.0  \n",
      "397                    0.0        0.0  \n",
      "556                    0.0        0.0  \n",
      "175                    0.0        0.0  \n",
      "578                    0.0        0.0  \n",
      "\n",
      "[610 rows x 9724 columns]\n"
     ]
    }
   ],
   "source": [
    "# Write your code here\n",
    "movie_titles = pd.DataFrame(np.array(movie_ids).reshape(-1, 1), columns=['movieId'])\n",
    "movie_titles = movie_titles.merge(ml_movies_df, on=['movieId'])\n",
    "chosen_df = ml_df.loc[ml_df['userId'].isin(user_ids) & ml_df['movieId'].isin(movie_ids)].copy()\n",
    "chosen_df['value'] = 1\n",
    "interactions_df = chosen_df.pivot_table(index='userId', columns='title', values='value', aggfunc=\"count\")\n",
    "interactions_df = interactions_df.reindex(user_ids)\n",
    "interactions_df = interactions_df.reindex(movie_titles['title'].values, axis='columns')\n",
    "interactions_df = interactions_df.fillna(0)\n",
    "print(interactions_df)\n",
    "interactions_df = np.asarray(interactions_df.rename_axis(None).rename_axis(None, axis=1))[:10,:10]\n",
    "# print(interactions_df)"
   ]
  },
  {
   "cell_type": "markdown",
   "id": "micro-vision",
   "metadata": {
    "pycharm": {
     "name": "#%% md\n"
    }
   },
   "source": [
    "**Task 20.** Calculate the matrix of size (n_users, n_users) where at position (i, j) there is the number of movies watched both by user i and user j. Use a single matrix multiplication to obtain the result. Print the submatrix of first 10 rows and 10 columns."
   ]
  },
  {
   "cell_type": "code",
   "execution_count": 147,
   "id": "swedish-lambda",
   "metadata": {
    "pycharm": {
     "name": "#%%\n"
    }
   },
   "outputs": [
    {
     "name": "stdout",
     "output_type": "stream",
     "text": [
      "[[  0.   0.   0.   0.   0.   0.   0.   0.   0.   0.]\n",
      " [  0. 232.   2.   7.  45.  13.  33.  26.  15.   5.]\n",
      " [  0.   2.  29.   0.   1.   1.   2.   3.   1.   0.]\n",
      " [  0.   7.   0.  39.   1.   1.   3.   0.   1.   0.]\n",
      " [  0.  45.   1.   1. 216.  12.  27.  22.   9.   1.]\n",
      " [  0.  13.   1.   1.  12.  44.  36.   9.  19.   0.]\n",
      " [  0.  33.   2.   3.  27.  36. 314.  14.  44.   2.]\n",
      " [  0.  26.   3.   0.  22.   9.  14. 152.   8.   6.]\n",
      " [  0.  15.   1.   1.   9.  19.  44.   8.  47.   0.]\n",
      " [  0.   5.   0.   0.   1.   0.   2.   6.   0.  46.]]\n"
     ]
    }
   ],
   "source": [
    "# Write your code here\n",
    "watched = ml_df.pivot_table(index='userId', columns='movieId', values='rating', fill_value=0.0)\n",
    "result = np.array(watched)\n",
    "result = np.vstack((np.zeros(result.shape[1]), result))\n",
    "result = np.hstack((np.zeros((result.shape[0],1)), result))\n",
    "result[result > 0.0] = 1.0\n",
    "result = np.matmul(result, result.T).astype(float)[:10,:10]\n",
    "print(result)"
   ]
  },
  {
   "cell_type": "code",
   "execution_count": 131,
   "outputs": [],
   "source": [
    "watched = ml_df.loc[:, [\"userId\", \"movieId\"]]"
   ],
   "metadata": {
    "collapsed": false,
    "pycharm": {
     "name": "#%%\n"
    }
   }
  },
  {
   "cell_type": "code",
   "execution_count": 141,
   "outputs": [],
   "source": [
    "movies_num = np.max(watched[\"movieId\"]) + 1"
   ],
   "metadata": {
    "collapsed": false,
    "pycharm": {
     "name": "#%%\n"
    }
   }
  },
  {
   "cell_type": "code",
   "execution_count": null,
   "outputs": [],
   "source": [
    "np.array([])"
   ],
   "metadata": {
    "collapsed": false,
    "pycharm": {
     "name": "#%%\n"
    }
   }
  },
  {
   "cell_type": "markdown",
   "source": [
    "**Task 21.** Calculate the matrix of size (n_items, n_items) where at position (i, j) there is the number of users who watched both movie i and movie j. Use a single matrix multiplication to obtain the result. To prevent memory error use only the first 1000 items. Print the submatrix of first 10 rows and 10 columns."
   ],
   "metadata": {
    "collapsed": false,
    "pycharm": {
     "name": "#%% md\n"
    }
   }
  },
  {
   "cell_type": "code",
   "execution_count": 152,
   "outputs": [
    {
     "name": "stdout",
     "output_type": "stream",
     "text": [
      "[[  0.   0.   0.   0.   0.   0.   0.   0.   0.   0.]\n",
      " [  0. 215.  68.  32.   2.  32.  58.  32.   5.  12.]\n",
      " [  0.  68. 110.  26.   3.  22.  36.  18.   6.   3.]\n",
      " [  0.  32.  26.  52.   1.  19.  25.  19.   4.   9.]\n",
      " [  0.   2.   3.   1.   7.   3.   2.   6.   1.   0.]\n",
      " [  0.  32.  22.  19.   3.  49.  24.  23.   4.   9.]\n",
      " [  0.  58.  36.  25.   2.  24. 102.  22.   5.   9.]\n",
      " [  0.  32.  18.  19.   6.  23.  22.  54.   4.   5.]\n",
      " [  0.   5.   6.   4.   1.   4.   5.   4.   8.   0.]\n",
      " [  0.  12.   3.   9.   0.   9.   9.   5.   0.  16.]]\n"
     ]
    }
   ],
   "source": [
    "# Write your code here\n",
    "watched = ml_df.pivot_table(index='movieId', columns='userId', values='rating', fill_value=0.0)\n",
    "result = np.array(watched)[:1000,:]\n",
    "result = np.vstack((np.zeros(result.shape[1]), result))\n",
    "result = np.hstack((np.zeros((result.shape[0],1)), result))\n",
    "result[result > 0.0] = 1.0\n",
    "result = np.matmul(result, result.T).astype(float)[:10,:10]\n",
    "print(result)"
   ],
   "metadata": {
    "collapsed": false,
    "pycharm": {
     "name": "#%%\n"
    }
   }
  },
  {
   "cell_type": "code",
   "execution_count": null,
   "outputs": [],
   "source": [],
   "metadata": {
    "collapsed": false,
    "pycharm": {
     "name": "#%%\n"
    }
   }
  }
 ],
 "metadata": {
  "kernelspec": {
   "display_name": "Python 3",
   "language": "python",
   "name": "python3"
  },
  "language_info": {
   "codemirror_mode": {
    "name": "ipython",
    "version": 3
   },
   "file_extension": ".py",
   "mimetype": "text/x-python",
   "name": "python",
   "nbconvert_exporter": "python",
   "pygments_lexer": "ipython3",
   "version": "3.8.8"
  }
 },
 "nbformat": 4,
 "nbformat_minor": 5
}