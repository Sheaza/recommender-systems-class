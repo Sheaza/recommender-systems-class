{
 "cells": [
  {
   "cell_type": "code",
   "execution_count": 2,
   "id": "spread-happiness",
   "metadata": {
    "pycharm": {
     "name": "#%%\n"
    }
   },
   "outputs": [],
   "source": [
    "%matplotlib inline\n",
    "%load_ext autoreload\n",
    "%autoreload 2\n",
    "\n",
    "import numpy as np\n",
    "import pandas as pd\n",
    "import matplotlib.pyplot as plt\n",
    "import seaborn as sns\n",
    "from IPython.display import Markdown, display, HTML\n",
    "\n",
    "# Fix the dying kernel problem (only a problem in some installations - you can remove it, if it works without it)\n",
    "import os\n",
    "os.environ['KMP_DUPLICATE_LIB_OK'] = 'True'"
   ]
  },
  {
   "cell_type": "markdown",
   "id": "approximate-classic",
   "metadata": {
    "pycharm": {
     "name": "#%% md\n"
    }
   },
   "source": [
    "# Numpy tasks\n",
    "\n",
    "For a detailed reference check out: https://numpy.org/doc/stable/reference/arrays.indexing.html."
   ]
  },
  {
   "cell_type": "markdown",
   "id": "regular-niger",
   "metadata": {
    "pycharm": {
     "name": "#%% md\n"
    }
   },
   "source": [
    "**Task 1.** Calculate the sigmoid (logistic) function on every element of the following numpy array [0.3, 1.2, -1.4, 0.2, -0.1, 0.1, 0.8, -0.25] and print the last 5 elements. Use only vector operations."
   ]
  },
  {
   "cell_type": "code",
   "execution_count": 3,
   "id": "agreed-single",
   "metadata": {
    "pycharm": {
     "name": "#%%\n"
    }
   },
   "outputs": [
    {
     "name": "stdout",
     "output_type": "stream",
     "text": [
      "[0.549834   0.47502081 0.52497919 0.68997448 0.4378235 ]\n"
     ]
    }
   ],
   "source": [
    "# Write your code here\n",
    "x = np.array([0.3, 1.2, -1.4, 0.2, -0.1, 0.1, 0.8, -0.25])\n",
    "def sig(x):\n",
    " return 1/(1 + np.exp(-x))\n",
    "print(sig(x)[-5:])"
   ]
  },
  {
   "cell_type": "markdown",
   "id": "another-catch",
   "metadata": {
    "pycharm": {
     "name": "#%% md\n"
    }
   },
   "source": [
    "**Task 2.** Calculate the dot product of the following two vectors:<br/>\n",
    "$x = [3, 1, 4, 2, 6, 1, 4, 8]$<br/>\n",
    "$y = [5, 2, 3, 12, 2, 4, 17, 11]$<br/>\n",
    "a) by using element-wise mutliplication and np.sum,<br/>\n",
    "b) by using np.dot,<br/>\n",
    "b) by using np.matmul and transposition (y.reshape(-1, 1), the alternative y.T will not work because T does not work on 1D arrays)."
   ]
  },
  {
   "cell_type": "code",
   "execution_count": 4,
   "id": "forbidden-journalism",
   "metadata": {
    "pycharm": {
     "name": "#%%\n"
    }
   },
   "outputs": [
    {
     "name": "stdout",
     "output_type": "stream",
     "text": [
      "225\n",
      "225\n",
      "225\n"
     ]
    }
   ],
   "source": [
    "# Write your code here\n",
    "x = np.array([3, 1, 4, 2, 6, 1, 4, 8])\n",
    "y = np.array([5, 2, 3, 12, 2, 4, 17, 11])\n",
    "\n",
    "# 1\n",
    "print(np.sum(x*y))\n",
    "# 2\n",
    "print(np.dot(x,y))\n",
    "# 3\n",
    "print(np.matmul(x, y.reshape(-1,1))[0])"
   ]
  },
  {
   "cell_type": "markdown",
   "id": "acute-amber",
   "metadata": {
    "pycharm": {
     "name": "#%% md\n"
    }
   },
   "source": [
    "**Task 3.** Calculate value of the logistic model<br/>\n",
    "$$y = \\frac{1}{1 + e^{-x_0 \\theta_0 - \\ldots - x_9 \\theta_9 - \\theta_{10}}}$$\n",
    "for<br/>\n",
    "$x = [1.2, 2.3, 3.4, -0.7, 4.2, 2.7, -0.5, 1.4, -3.3, 0.2]$<br/>\n",
    "$\\theta = [2.7, 0.33, -2.12, -1.73, 2.9, -5.8, -0.9, 12.11, 3.43, -0.5, -1.65]$<br/>\n",
    "and print the result. Use only vector operations."
   ]
  },
  {
   "cell_type": "code",
   "execution_count": 5,
   "id": "falling-holder",
   "metadata": {
    "pycharm": {
     "name": "#%%\n"
    }
   },
   "outputs": [
    {
     "name": "stdout",
     "output_type": "stream",
     "text": [
      "0.24176998\n"
     ]
    }
   ],
   "source": [
    "# Write your code here\n",
    "x = np.array([1.2, 2.3, 3.4, -0.7, 4.2, 2.7, -0.5, 1.4, -3.3, 0.2, 1.0])\n",
    "theta = np.array([2.7, 0.33, -2.12, -1.73, 2.9, -5.8, -0.9, 12.11, 3.43, -0.5, -1.65])\n",
    "print(np.round(1/(1+np.e**np.sum(x*theta*-1)), 8))"
   ]
  },
  {
   "cell_type": "markdown",
   "id": "encouraging-clear",
   "metadata": {
    "pycharm": {
     "name": "#%% md\n"
    }
   },
   "source": [
    "**Task 4.** Calculate value of the multivariate linear regression model<br/>\n",
    "$$y = A x + B$$\n",
    "for<br/>\n",
    "$A = \\begin{bmatrix} 1 & 2 & 1 \\\\ 3 & 0 & 1 \\end{bmatrix}$<br/>\n",
    "$B = \\begin{bmatrix} 0.2 \\\\ 0.3 \\end{bmatrix}$<br/>\n",
    "$x = [1, 2, 3]^T$<br/>\n",
    "and print the result. Use only vector and matrix operations."
   ]
  },
  {
   "cell_type": "code",
   "execution_count": 6,
   "id": "casual-emergency",
   "metadata": {
    "pycharm": {
     "name": "#%%\n"
    }
   },
   "outputs": [
    {
     "data": {
      "text/plain": "array([[8.2],\n       [6.3]])"
     },
     "execution_count": 6,
     "metadata": {},
     "output_type": "execute_result"
    }
   ],
   "source": [
    "# Write your code here\n",
    "A = np.array([1,2,1,3,0,1]).reshape(2,3)\n",
    "B = np.array([0.2, 0.3]).reshape(2,1)\n",
    "x = np.array([1,2,3]).reshape(-1,1)\n",
    "np.matmul(A,x)+B"
   ]
  },
  {
   "cell_type": "markdown",
   "id": "latter-vector",
   "metadata": {
    "pycharm": {
     "name": "#%% md\n"
    }
   },
   "source": [
    "# Pandas"
   ]
  },
  {
   "cell_type": "markdown",
   "id": "contrary-vacuum",
   "metadata": {
    "pycharm": {
     "name": "#%% md\n"
    }
   },
   "source": [
    "## Load datasets\n",
    "\n",
    "- Steam (https://www.kaggle.com/tamber/steam-video-games)\n",
    "\n",
    "- MovieLens (https://grouplens.org/datasets/movielens/)"
   ]
  },
  {
   "cell_type": "code",
   "execution_count": 7,
   "id": "alert-friday",
   "metadata": {
    "pycharm": {
     "name": "#%%\n"
    }
   },
   "outputs": [],
   "source": [
    "steam_df = pd.read_csv(os.path.join(\"data\", \"steam\", \"steam-200k.csv\"), \n",
    "                       names=['user-id', 'game-title', 'behavior-name', 'value', 'zero'])\n",
    "\n",
    "ml_ratings_df = pd.read_csv(os.path.join(\"data\", \"movielens_small\", \"ratings.csv\"))\n",
    "ml_movies_df = pd.read_csv(os.path.join(\"data\", \"movielens_small\", \"movies.csv\"))"
   ]
  },
  {
   "cell_type": "markdown",
   "id": "alpha-portal",
   "metadata": {
    "pycharm": {
     "name": "#%% md\n"
    }
   },
   "source": [
    "## Merge both MovieLens DataFrames into one"
   ]
  },
  {
   "cell_type": "code",
   "execution_count": 8,
   "outputs": [
    {
     "data": {
      "text/plain": "     user-id                  game-title behavior-name  value  zero\n0  151603712  The Elder Scrolls V Skyrim      purchase    1.0     0\n1  151603712  The Elder Scrolls V Skyrim          play  273.0     0\n2  151603712                   Fallout 4      purchase    1.0     0\n3  151603712                   Fallout 4          play   87.0     0\n4  151603712                       Spore      purchase    1.0     0",
      "text/html": "<div>\n<style scoped>\n    .dataframe tbody tr th:only-of-type {\n        vertical-align: middle;\n    }\n\n    .dataframe tbody tr th {\n        vertical-align: top;\n    }\n\n    .dataframe thead th {\n        text-align: right;\n    }\n</style>\n<table border=\"1\" class=\"dataframe\">\n  <thead>\n    <tr style=\"text-align: right;\">\n      <th></th>\n      <th>user-id</th>\n      <th>game-title</th>\n      <th>behavior-name</th>\n      <th>value</th>\n      <th>zero</th>\n    </tr>\n  </thead>\n  <tbody>\n    <tr>\n      <th>0</th>\n      <td>151603712</td>\n      <td>The Elder Scrolls V Skyrim</td>\n      <td>purchase</td>\n      <td>1.0</td>\n      <td>0</td>\n    </tr>\n    <tr>\n      <th>1</th>\n      <td>151603712</td>\n      <td>The Elder Scrolls V Skyrim</td>\n      <td>play</td>\n      <td>273.0</td>\n      <td>0</td>\n    </tr>\n    <tr>\n      <th>2</th>\n      <td>151603712</td>\n      <td>Fallout 4</td>\n      <td>purchase</td>\n      <td>1.0</td>\n      <td>0</td>\n    </tr>\n    <tr>\n      <th>3</th>\n      <td>151603712</td>\n      <td>Fallout 4</td>\n      <td>play</td>\n      <td>87.0</td>\n      <td>0</td>\n    </tr>\n    <tr>\n      <th>4</th>\n      <td>151603712</td>\n      <td>Spore</td>\n      <td>purchase</td>\n      <td>1.0</td>\n      <td>0</td>\n    </tr>\n  </tbody>\n</table>\n</div>"
     },
     "execution_count": 8,
     "metadata": {},
     "output_type": "execute_result"
    }
   ],
   "source": [
    "steam_df.head()"
   ],
   "metadata": {
    "collapsed": false,
    "pycharm": {
     "name": "#%%\n"
    }
   }
  },
  {
   "cell_type": "code",
   "execution_count": 9,
   "id": "affecting-disclosure",
   "metadata": {
    "pycharm": {
     "name": "#%%\n"
    }
   },
   "outputs": [
    {
     "data": {
      "text/plain": "   userId  movieId  rating   timestamp             title  \\\n0       1        1     4.0   964982703  Toy Story (1995)   \n1       5        1     4.0   847434962  Toy Story (1995)   \n2       7        1     4.5  1106635946  Toy Story (1995)   \n3      15        1     2.5  1510577970  Toy Story (1995)   \n4      17        1     4.5  1305696483  Toy Story (1995)   \n5      18        1     3.5  1455209816  Toy Story (1995)   \n6      19        1     4.0   965705637  Toy Story (1995)   \n7      21        1     3.5  1407618878  Toy Story (1995)   \n8      27        1     3.0   962685262  Toy Story (1995)   \n9      31        1     5.0   850466616  Toy Story (1995)   \n\n                                        genres  \n0  Adventure|Animation|Children|Comedy|Fantasy  \n1  Adventure|Animation|Children|Comedy|Fantasy  \n2  Adventure|Animation|Children|Comedy|Fantasy  \n3  Adventure|Animation|Children|Comedy|Fantasy  \n4  Adventure|Animation|Children|Comedy|Fantasy  \n5  Adventure|Animation|Children|Comedy|Fantasy  \n6  Adventure|Animation|Children|Comedy|Fantasy  \n7  Adventure|Animation|Children|Comedy|Fantasy  \n8  Adventure|Animation|Children|Comedy|Fantasy  \n9  Adventure|Animation|Children|Comedy|Fantasy  ",
      "text/html": "<div>\n<style scoped>\n    .dataframe tbody tr th:only-of-type {\n        vertical-align: middle;\n    }\n\n    .dataframe tbody tr th {\n        vertical-align: top;\n    }\n\n    .dataframe thead th {\n        text-align: right;\n    }\n</style>\n<table border=\"1\" class=\"dataframe\">\n  <thead>\n    <tr style=\"text-align: right;\">\n      <th></th>\n      <th>userId</th>\n      <th>movieId</th>\n      <th>rating</th>\n      <th>timestamp</th>\n      <th>title</th>\n      <th>genres</th>\n    </tr>\n  </thead>\n  <tbody>\n    <tr>\n      <th>0</th>\n      <td>1</td>\n      <td>1</td>\n      <td>4.0</td>\n      <td>964982703</td>\n      <td>Toy Story (1995)</td>\n      <td>Adventure|Animation|Children|Comedy|Fantasy</td>\n    </tr>\n    <tr>\n      <th>1</th>\n      <td>5</td>\n      <td>1</td>\n      <td>4.0</td>\n      <td>847434962</td>\n      <td>Toy Story (1995)</td>\n      <td>Adventure|Animation|Children|Comedy|Fantasy</td>\n    </tr>\n    <tr>\n      <th>2</th>\n      <td>7</td>\n      <td>1</td>\n      <td>4.5</td>\n      <td>1106635946</td>\n      <td>Toy Story (1995)</td>\n      <td>Adventure|Animation|Children|Comedy|Fantasy</td>\n    </tr>\n    <tr>\n      <th>3</th>\n      <td>15</td>\n      <td>1</td>\n      <td>2.5</td>\n      <td>1510577970</td>\n      <td>Toy Story (1995)</td>\n      <td>Adventure|Animation|Children|Comedy|Fantasy</td>\n    </tr>\n    <tr>\n      <th>4</th>\n      <td>17</td>\n      <td>1</td>\n      <td>4.5</td>\n      <td>1305696483</td>\n      <td>Toy Story (1995)</td>\n      <td>Adventure|Animation|Children|Comedy|Fantasy</td>\n    </tr>\n    <tr>\n      <th>5</th>\n      <td>18</td>\n      <td>1</td>\n      <td>3.5</td>\n      <td>1455209816</td>\n      <td>Toy Story (1995)</td>\n      <td>Adventure|Animation|Children|Comedy|Fantasy</td>\n    </tr>\n    <tr>\n      <th>6</th>\n      <td>19</td>\n      <td>1</td>\n      <td>4.0</td>\n      <td>965705637</td>\n      <td>Toy Story (1995)</td>\n      <td>Adventure|Animation|Children|Comedy|Fantasy</td>\n    </tr>\n    <tr>\n      <th>7</th>\n      <td>21</td>\n      <td>1</td>\n      <td>3.5</td>\n      <td>1407618878</td>\n      <td>Toy Story (1995)</td>\n      <td>Adventure|Animation|Children|Comedy|Fantasy</td>\n    </tr>\n    <tr>\n      <th>8</th>\n      <td>27</td>\n      <td>1</td>\n      <td>3.0</td>\n      <td>962685262</td>\n      <td>Toy Story (1995)</td>\n      <td>Adventure|Animation|Children|Comedy|Fantasy</td>\n    </tr>\n    <tr>\n      <th>9</th>\n      <td>31</td>\n      <td>1</td>\n      <td>5.0</td>\n      <td>850466616</td>\n      <td>Toy Story (1995)</td>\n      <td>Adventure|Animation|Children|Comedy|Fantasy</td>\n    </tr>\n  </tbody>\n</table>\n</div>"
     },
     "execution_count": 9,
     "metadata": {},
     "output_type": "execute_result"
    }
   ],
   "source": [
    "ml_df = pd.merge(ml_ratings_df, ml_movies_df, on='movieId')\n",
    "ml_df.head(10)"
   ]
  },
  {
   "cell_type": "markdown",
   "id": "objective-associate",
   "metadata": {
    "pycharm": {
     "name": "#%% md\n"
    }
   },
   "source": [
    "## Pandas tasks - Steam dataset"
   ]
  },
  {
   "cell_type": "markdown",
   "id": "floppy-american",
   "metadata": {
    "pycharm": {
     "name": "#%% md\n"
    }
   },
   "source": [
    "**Task 5.** How many people made a purchase in the Steam dataset? Remember that a person could buy many games, but you need to count every person once."
   ]
  },
  {
   "cell_type": "code",
   "execution_count": 10,
   "id": "decimal-grass",
   "metadata": {
    "pycharm": {
     "name": "#%%\n"
    }
   },
   "outputs": [
    {
     "name": "stdout",
     "output_type": "stream",
     "text": [
      "12393\n"
     ]
    }
   ],
   "source": [
    "# Write your code here\n",
    "print(len(steam_df[(steam_df[\"behavior-name\"] == \"purchase\")].groupby(\"user-id\")))"
   ]
  },
  {
   "cell_type": "markdown",
   "id": "protected-glossary",
   "metadata": {
    "pycharm": {
     "name": "#%% md\n"
    }
   },
   "source": [
    "**Task 6.** How many people made a purchase of \"The Elder Scrolls V Skyrim\"?"
   ]
  },
  {
   "cell_type": "code",
   "execution_count": 11,
   "id": "distant-overview",
   "metadata": {
    "pycharm": {
     "name": "#%%\n"
    }
   },
   "outputs": [
    {
     "name": "stdout",
     "output_type": "stream",
     "text": [
      "717\n"
     ]
    }
   ],
   "source": [
    "# Write your code here\n",
    "print(len(steam_df[(steam_df[\"behavior-name\"] == \"purchase\")& (steam_df[\"game-title\"] == \"The Elder Scrolls V Skyrim\")].groupby(\"user-id\")))"
   ]
  },
  {
   "cell_type": "markdown",
   "id": "vocational-weekly",
   "metadata": {
    "pycharm": {
     "name": "#%% md\n"
    }
   },
   "source": [
    "**Task 7.** How many purchases people made on average?"
   ]
  },
  {
   "cell_type": "code",
   "execution_count": 12,
   "id": "reflected-cathedral",
   "metadata": {
    "pycharm": {
     "name": "#%%\n"
    }
   },
   "outputs": [
    {
     "name": "stdout",
     "output_type": "stream",
     "text": [
      "10.45\n"
     ]
    }
   ],
   "source": [
    "# Write your code here\n",
    "print(np.round(steam_df[(steam_df[\"behavior-name\"] == \"purchase\")].groupby(\"user-id\")[\"zero\"].count().mean(), 2))"
   ]
  },
  {
   "cell_type": "markdown",
   "id": "signed-transaction",
   "metadata": {
    "pycharm": {
     "name": "#%% md\n"
    }
   },
   "source": [
    "**Task 8.** Who bought the most games?"
   ]
  },
  {
   "cell_type": "code",
   "execution_count": 13,
   "id": "handmade-revolution",
   "metadata": {
    "pycharm": {
     "name": "#%%\n"
    }
   },
   "outputs": [
    {
     "name": "stdout",
     "output_type": "stream",
     "text": [
      "62990992\n"
     ]
    }
   ],
   "source": [
    "# Write your code here\n",
    "print(steam_df[(steam_df[\"behavior-name\"] == \"purchase\")].groupby(\"user-id\")[\"zero\"].count().sort_values(ascending=False).reset_index().iloc[0][\"user-id\"])\n"
   ]
  },
  {
   "cell_type": "markdown",
   "id": "piano-bobby",
   "metadata": {
    "pycharm": {
     "name": "#%% md\n"
    }
   },
   "source": [
    "**Task 9.** How many hours on average people played in \"The Elder Scrolls V Skyrim\"?"
   ]
  },
  {
   "cell_type": "code",
   "execution_count": 14,
   "id": "hydraulic-observation",
   "metadata": {
    "pycharm": {
     "name": "#%%\n"
    }
   },
   "outputs": [
    {
     "name": "stdout",
     "output_type": "stream",
     "text": [
      "104.71\n"
     ]
    }
   ],
   "source": [
    "# Write your code here\n",
    "print(np.round(steam_df[(steam_df[\"behavior-name\"] == \"play\") & (steam_df[\"game-title\"] == \"The Elder Scrolls V Skyrim\")].groupby(\"user-id\")[\"value\"].sum().mean(), 2))"
   ]
  },
  {
   "cell_type": "markdown",
   "id": "stuffed-creativity",
   "metadata": {
    "pycharm": {
     "name": "#%% md\n"
    }
   },
   "source": [
    "**Task 10.** Which games were played the most (in terms of the number of hours played)? Display a DataFrame with the first 10 titles and respective numbers of hours."
   ]
  },
  {
   "cell_type": "code",
   "execution_count": 15,
   "id": "challenging-truck",
   "metadata": {
    "pycharm": {
     "name": "#%%\n"
    }
   },
   "outputs": [
    {
     "name": "stdout",
     "output_type": "stream",
     "text": [
      "                                    game-title     value\n",
      "0                                       Dota 2  981684.6\n",
      "1              Counter-Strike Global Offensive  322771.6\n",
      "2                              Team Fortress 2  173673.3\n",
      "3                               Counter-Strike  134261.1\n",
      "4                   Sid Meier's Civilization V   99821.3\n",
      "5                        Counter-Strike Source   96075.5\n",
      "6                   The Elder Scrolls V Skyrim   70889.3\n",
      "7                                  Garry's Mod   49725.3\n",
      "8  Call of Duty Modern Warfare 2 - Multiplayer   42009.9\n",
      "9                                Left 4 Dead 2   33596.7\n"
     ]
    }
   ],
   "source": [
    "# Write your code here\n",
    "print(steam_df[(steam_df[\"behavior-name\"] == \"play\")].groupby(\"game-title\").sum().reset_index().sort_values(\"value\", ascending=False).reset_index()[[\"game-title\", \"value\"]].iloc[:10])"
   ]
  },
  {
   "cell_type": "markdown",
   "id": "crude-petroleum",
   "metadata": {
    "pycharm": {
     "name": "#%% md\n"
    }
   },
   "source": [
    "**Task 11.** Which games are the most consistently played (in terms of the average number of hours played)? Print a DataFrame with the first 10 titles and respective numbers of hours."
   ]
  },
  {
   "cell_type": "code",
   "execution_count": 16,
   "id": "surgical-lawsuit",
   "metadata": {
    "pycharm": {
     "name": "#%%\n"
    }
   },
   "outputs": [
    {
     "name": "stdout",
     "output_type": "stream",
     "text": [
      "                          game-title        value\n",
      "0            Eastside Hockey Manager  1295.000000\n",
      "1  Baldur's Gate II Enhanced Edition   475.255556\n",
      "2                    FIFA Manager 09   411.000000\n",
      "3                          Perpetuum   400.975000\n",
      "4              Football Manager 2014   391.984615\n",
      "5              Football Manager 2012   390.453165\n",
      "6              Football Manager 2010   375.048571\n",
      "7              Football Manager 2011   365.703226\n",
      "8                  Freaking Meatbags   331.000000\n",
      "9        Out of the Park Baseball 16   330.400000\n"
     ]
    }
   ],
   "source": [
    "# Write your code here\n",
    "print(steam_df[(steam_df[\"behavior-name\"] == \"play\")].groupby(\"game-title\").mean().reset_index().sort_values(\"value\", ascending=False).reset_index()[[\"game-title\", \"value\"]].iloc[:10])"
   ]
  },
  {
   "cell_type": "markdown",
   "id": "monetary-toyota",
   "metadata": {
    "pycharm": {
     "name": "#%% md\n"
    }
   },
   "source": [
    "**Task 12\\*\\*.** Fix the above for the fact that 0 hours played is not listed, but only a purchase is recorded in such a case."
   ]
  },
  {
   "cell_type": "code",
   "execution_count": 29,
   "id": "protective-report",
   "metadata": {
    "pycharm": {
     "name": "#%%\n"
    }
   },
   "outputs": [
    {
     "data": {
      "text/plain": "                    game-title        value\n0      Eastside Hockey Manager  1295.000000\n1              FIFA Manager 09   411.000000\n2                    Perpetuum   400.975000\n3        Football Manager 2012   385.572500\n4        Football Manager 2014   382.185000\n5        Football Manager 2010   345.439474\n6        Football Manager 2011   333.435294\n7  Out of the Park Baseball 16   330.400000\n8        Football Manager 2013   310.659615\n9        Football Manager 2015   307.381013",
      "text/html": "<div>\n<style scoped>\n    .dataframe tbody tr th:only-of-type {\n        vertical-align: middle;\n    }\n\n    .dataframe tbody tr th {\n        vertical-align: top;\n    }\n\n    .dataframe thead th {\n        text-align: right;\n    }\n</style>\n<table border=\"1\" class=\"dataframe\">\n  <thead>\n    <tr style=\"text-align: right;\">\n      <th></th>\n      <th>game-title</th>\n      <th>value</th>\n    </tr>\n  </thead>\n  <tbody>\n    <tr>\n      <th>0</th>\n      <td>Eastside Hockey Manager</td>\n      <td>1295.000000</td>\n    </tr>\n    <tr>\n      <th>1</th>\n      <td>FIFA Manager 09</td>\n      <td>411.000000</td>\n    </tr>\n    <tr>\n      <th>2</th>\n      <td>Perpetuum</td>\n      <td>400.975000</td>\n    </tr>\n    <tr>\n      <th>3</th>\n      <td>Football Manager 2012</td>\n      <td>385.572500</td>\n    </tr>\n    <tr>\n      <th>4</th>\n      <td>Football Manager 2014</td>\n      <td>382.185000</td>\n    </tr>\n    <tr>\n      <th>5</th>\n      <td>Football Manager 2010</td>\n      <td>345.439474</td>\n    </tr>\n    <tr>\n      <th>6</th>\n      <td>Football Manager 2011</td>\n      <td>333.435294</td>\n    </tr>\n    <tr>\n      <th>7</th>\n      <td>Out of the Park Baseball 16</td>\n      <td>330.400000</td>\n    </tr>\n    <tr>\n      <th>8</th>\n      <td>Football Manager 2013</td>\n      <td>310.659615</td>\n    </tr>\n    <tr>\n      <th>9</th>\n      <td>Football Manager 2015</td>\n      <td>307.381013</td>\n    </tr>\n  </tbody>\n</table>\n</div>"
     },
     "execution_count": 29,
     "metadata": {},
     "output_type": "execute_result"
    }
   ],
   "source": [
    "# Write your code here\n",
    "copy = steam_df.copy()\n",
    "copy.loc[(steam_df[\"behavior-name\"] == \"purchase\"), [\"value\"]] = 0.0\n",
    "copy.groupby([\"user-id\", \"game-title\"]).sum().reset_index().groupby(\"game-title\").mean().reset_index().loc[:, [\"game-title\", \"value\"]].sort_values(\"value\", ascending=False).reset_index(drop=True).iloc[:10]"
   ]
  },
  {
   "cell_type": "markdown",
   "id": "ceramic-awareness",
   "metadata": {
    "pycharm": {
     "name": "#%% md\n"
    }
   },
   "source": [
    "**Task 13.** Apply the sigmoid function\n",
    "$$f(x) = \\frac{1}{1 + e^{-\\frac{1}{100}x}}$$\n",
    "to hours played and print a DataFrame with the first 10 rows from the entire Steam dataset after this change."
   ]
  },
  {
   "cell_type": "code",
   "execution_count": 33,
   "id": "optical-announcement",
   "metadata": {
    "pycharm": {
     "name": "#%%\n"
    }
   },
   "outputs": [
    {
     "name": "stdout",
     "output_type": "stream",
     "text": [
      "     user-id                  game-title behavior-name     value  zero\n",
      "0  151603712  The Elder Scrolls V Skyrim      purchase  1.000000     0\n",
      "1  151603712  The Elder Scrolls V Skyrim          play  0.938774     0\n",
      "2  151603712                   Fallout 4      purchase  1.000000     0\n",
      "3  151603712                   Fallout 4          play  0.704746     0\n",
      "4  151603712                       Spore      purchase  1.000000     0\n",
      "5  151603712                       Spore          play  0.537181     0\n",
      "6  151603712           Fallout New Vegas      purchase  1.000000     0\n",
      "7  151603712           Fallout New Vegas          play  0.530213     0\n",
      "8  151603712               Left 4 Dead 2      purchase  1.000000     0\n",
      "9  151603712               Left 4 Dead 2          play  0.522235     0\n"
     ]
    }
   ],
   "source": [
    "# Write your code here\n",
    "copy = steam_df.copy()\n",
    "copy.loc[copy[\"behavior-name\"] == \"play\", \"value\"] = copy[copy[\"behavior-name\"] == \"play\"].loc[:, \"value\"].apply(lambda x: 1/(1+np.exp(-x/100)))\n",
    "print(copy.head(10))"
   ]
  },
  {
   "cell_type": "markdown",
   "id": "actual-spotlight",
   "metadata": {
    "pycharm": {
     "name": "#%% md\n"
    }
   },
   "source": [
    "## Pandas tasks - MovieLens dataset"
   ]
  },
  {
   "cell_type": "markdown",
   "id": "inclusive-crash",
   "metadata": {
    "pycharm": {
     "name": "#%% md\n"
    }
   },
   "source": [
    "**Task 14\\*.** Calculate popularity (by the number of users who watched a movie) of all genres. Print a DataFrame with two columns: genre, n_users, where n_users contains the number of users who watched a given genre. Sort all genres in descending order."
   ]
  },
  {
   "cell_type": "code",
   "execution_count": 46,
   "outputs": [
    {
     "data": {
      "text/plain": "   userId  movieId  rating   timestamp             title  \\\n0       1        1     4.0   964982703  Toy Story (1995)   \n1       5        1     4.0   847434962  Toy Story (1995)   \n2       7        1     4.5  1106635946  Toy Story (1995)   \n3      15        1     2.5  1510577970  Toy Story (1995)   \n4      17        1     4.5  1305696483  Toy Story (1995)   \n\n                                        genres  \n0  Adventure|Animation|Children|Comedy|Fantasy  \n1  Adventure|Animation|Children|Comedy|Fantasy  \n2  Adventure|Animation|Children|Comedy|Fantasy  \n3  Adventure|Animation|Children|Comedy|Fantasy  \n4  Adventure|Animation|Children|Comedy|Fantasy  ",
      "text/html": "<div>\n<style scoped>\n    .dataframe tbody tr th:only-of-type {\n        vertical-align: middle;\n    }\n\n    .dataframe tbody tr th {\n        vertical-align: top;\n    }\n\n    .dataframe thead th {\n        text-align: right;\n    }\n</style>\n<table border=\"1\" class=\"dataframe\">\n  <thead>\n    <tr style=\"text-align: right;\">\n      <th></th>\n      <th>userId</th>\n      <th>movieId</th>\n      <th>rating</th>\n      <th>timestamp</th>\n      <th>title</th>\n      <th>genres</th>\n    </tr>\n  </thead>\n  <tbody>\n    <tr>\n      <th>0</th>\n      <td>1</td>\n      <td>1</td>\n      <td>4.0</td>\n      <td>964982703</td>\n      <td>Toy Story (1995)</td>\n      <td>Adventure|Animation|Children|Comedy|Fantasy</td>\n    </tr>\n    <tr>\n      <th>1</th>\n      <td>5</td>\n      <td>1</td>\n      <td>4.0</td>\n      <td>847434962</td>\n      <td>Toy Story (1995)</td>\n      <td>Adventure|Animation|Children|Comedy|Fantasy</td>\n    </tr>\n    <tr>\n      <th>2</th>\n      <td>7</td>\n      <td>1</td>\n      <td>4.5</td>\n      <td>1106635946</td>\n      <td>Toy Story (1995)</td>\n      <td>Adventure|Animation|Children|Comedy|Fantasy</td>\n    </tr>\n    <tr>\n      <th>3</th>\n      <td>15</td>\n      <td>1</td>\n      <td>2.5</td>\n      <td>1510577970</td>\n      <td>Toy Story (1995)</td>\n      <td>Adventure|Animation|Children|Comedy|Fantasy</td>\n    </tr>\n    <tr>\n      <th>4</th>\n      <td>17</td>\n      <td>1</td>\n      <td>4.5</td>\n      <td>1305696483</td>\n      <td>Toy Story (1995)</td>\n      <td>Adventure|Animation|Children|Comedy|Fantasy</td>\n    </tr>\n  </tbody>\n</table>\n</div>"
     },
     "execution_count": 46,
     "metadata": {},
     "output_type": "execute_result"
    }
   ],
   "source": [
    "ml_df.head()"
   ],
   "metadata": {
    "collapsed": false,
    "pycharm": {
     "name": "#%%\n"
    }
   }
  },
  {
   "cell_type": "code",
   "execution_count": 67,
   "id": "developmental-seven",
   "metadata": {
    "pycharm": {
     "name": "#%%\n"
    }
   },
   "outputs": [
    {
     "data": {
      "text/plain": "                 genre  n_users\n0                Drama    41928\n1               Comedy    39053\n2               Action    30635\n3             Thriller    26452\n4            Adventure    24161\n5              Romance    18124\n6               Sci-Fi    17243\n7                Crime    16681\n8              Fantasy    11834\n9             Children     9208\n10             Mystery     7674\n11              Horror     7291\n12           Animation     6988\n13                 War     4859\n14                IMAX     4145\n15             Musical     4138\n16             Western     1930\n17         Documentary     1219\n18           Film-Noir      870\n19  (no genres listed)       47",
      "text/html": "<div>\n<style scoped>\n    .dataframe tbody tr th:only-of-type {\n        vertical-align: middle;\n    }\n\n    .dataframe tbody tr th {\n        vertical-align: top;\n    }\n\n    .dataframe thead th {\n        text-align: right;\n    }\n</style>\n<table border=\"1\" class=\"dataframe\">\n  <thead>\n    <tr style=\"text-align: right;\">\n      <th></th>\n      <th>genre</th>\n      <th>n_users</th>\n    </tr>\n  </thead>\n  <tbody>\n    <tr>\n      <th>0</th>\n      <td>Drama</td>\n      <td>41928</td>\n    </tr>\n    <tr>\n      <th>1</th>\n      <td>Comedy</td>\n      <td>39053</td>\n    </tr>\n    <tr>\n      <th>2</th>\n      <td>Action</td>\n      <td>30635</td>\n    </tr>\n    <tr>\n      <th>3</th>\n      <td>Thriller</td>\n      <td>26452</td>\n    </tr>\n    <tr>\n      <th>4</th>\n      <td>Adventure</td>\n      <td>24161</td>\n    </tr>\n    <tr>\n      <th>5</th>\n      <td>Romance</td>\n      <td>18124</td>\n    </tr>\n    <tr>\n      <th>6</th>\n      <td>Sci-Fi</td>\n      <td>17243</td>\n    </tr>\n    <tr>\n      <th>7</th>\n      <td>Crime</td>\n      <td>16681</td>\n    </tr>\n    <tr>\n      <th>8</th>\n      <td>Fantasy</td>\n      <td>11834</td>\n    </tr>\n    <tr>\n      <th>9</th>\n      <td>Children</td>\n      <td>9208</td>\n    </tr>\n    <tr>\n      <th>10</th>\n      <td>Mystery</td>\n      <td>7674</td>\n    </tr>\n    <tr>\n      <th>11</th>\n      <td>Horror</td>\n      <td>7291</td>\n    </tr>\n    <tr>\n      <th>12</th>\n      <td>Animation</td>\n      <td>6988</td>\n    </tr>\n    <tr>\n      <th>13</th>\n      <td>War</td>\n      <td>4859</td>\n    </tr>\n    <tr>\n      <th>14</th>\n      <td>IMAX</td>\n      <td>4145</td>\n    </tr>\n    <tr>\n      <th>15</th>\n      <td>Musical</td>\n      <td>4138</td>\n    </tr>\n    <tr>\n      <th>16</th>\n      <td>Western</td>\n      <td>1930</td>\n    </tr>\n    <tr>\n      <th>17</th>\n      <td>Documentary</td>\n      <td>1219</td>\n    </tr>\n    <tr>\n      <th>18</th>\n      <td>Film-Noir</td>\n      <td>870</td>\n    </tr>\n    <tr>\n      <th>19</th>\n      <td>(no genres listed)</td>\n      <td>47</td>\n    </tr>\n  </tbody>\n</table>\n</div>"
     },
     "execution_count": 67,
     "metadata": {},
     "output_type": "execute_result"
    }
   ],
   "source": [
    "# Write your code here\n",
    "ml_df.genres.str.get_dummies(\"|\").sum().reset_index().rename(columns={\"index\": \"genre\", 0: \"n_users\"}).sort_values(by=\"n_users\", ascending=False, ignore_index=True)"
   ]
  },
  {
   "cell_type": "markdown",
   "id": "personalized-finland",
   "metadata": {
    "pycharm": {
     "name": "#%% md\n"
    }
   },
   "source": [
    "**Task 15\\*.** Calculate average rating for all genres. Print a DataFrame with two columns: genre, rating, where rating contains the average rating for a given genre. Sort all genres in descending order."
   ]
  },
  {
   "cell_type": "code",
   "execution_count": 71,
   "id": "inside-personal",
   "metadata": {
    "pycharm": {
     "name": "#%%\n"
    }
   },
   "outputs": [
    {
     "name": "stdout",
     "output_type": "stream",
     "text": [
      "                 genre    rating\n",
      "0            Film-Noir  3.920115\n",
      "1                  War  3.808294\n",
      "2          Documentary  3.797785\n",
      "3                Crime  3.658294\n",
      "4                Drama  3.656184\n",
      "5              Mystery  3.632460\n",
      "6            Animation  3.629937\n",
      "7                 IMAX  3.618335\n",
      "8              Western  3.583938\n",
      "9              Musical  3.563678\n",
      "10           Adventure  3.508609\n",
      "11             Romance  3.506511\n",
      "12            Thriller  3.493706\n",
      "13             Fantasy  3.491001\n",
      "14  (no genres listed)  3.489362\n",
      "15              Sci-Fi  3.455721\n",
      "16              Action  3.447984\n",
      "17            Children  3.412956\n",
      "18              Comedy  3.384721\n",
      "19              Horror  3.258195\n"
     ]
    }
   ],
   "source": [
    "# Write your code here\n",
    "print(ml_df.set_index(ml_df.columns.drop('genres',1).tolist()).genres.str.split('|',expand=True).stack().reset_index().rename(columns={0:'genre'}).loc[:, [\"genre\", \"rating\"]].groupby(\"genre\").mean().sort_values(by=\"rating\", ascending=False).reset_index())"
   ]
  },
  {
   "cell_type": "markdown",
   "id": "vertical-stick",
   "metadata": {
    "pycharm": {
     "name": "#%% md\n"
    }
   },
   "source": [
    "**Task 16.** Calculate each movie rating bias (deviation from the mean of all movies average rating). Print a DataFrame with the first 10 in the form: title, average rating, bias."
   ]
  },
  {
   "cell_type": "code",
   "execution_count": 88,
   "id": "greatest-screen",
   "metadata": {
    "pycharm": {
     "name": "#%%\n"
    }
   },
   "outputs": [
    {
     "name": "stdout",
     "output_type": "stream",
     "text": [
      "                                     title  average_rating      bias\n",
      "0                               '71 (2014)        4.000000  0.498443\n",
      "1  'Hellboy': The Seeds of Creation (2004)        4.000000  0.498443\n",
      "2                   'Round Midnight (1986)        3.500000 -0.001557\n",
      "3                      'Salem's Lot (2004)        5.000000  1.498443\n",
      "4                'Til There Was You (1997)        4.000000  0.498443\n",
      "5          'Tis the Season for Love (2015)        1.500000 -2.001557\n",
      "6                       'burbs, The (1989)        3.176471 -0.325086\n",
      "7                     'night Mother (1986)        3.000000 -0.501557\n",
      "8              (500) Days of Summer (2009)        3.666667  0.165110\n",
      "9           *batteries not included (1987)        3.285714 -0.215843\n"
     ]
    }
   ],
   "source": [
    "# Write your code here\n",
    "mean = ml_df['rating'].mean()\n",
    "ml_df_rating = ml_df.groupby(['title'])['rating'].mean().reset_index()\n",
    "ml_df_rating['bias'] = ml_df_rating['rating'].apply(lambda x: x - mean)\n",
    "ml_df_rating.rename(columns = {'rating' : 'average_rating'}, inplace = True)\n",
    "print(ml_df_rating.head(10))"
   ]
  },
  {
   "cell_type": "markdown",
   "id": "hawaiian-haiti",
   "metadata": {
    "pycharm": {
     "name": "#%% md\n"
    }
   },
   "source": [
    "**Task 17.** Calculate each user rating bias (deviation from the mean of all users average rating). Print a DataFrame with the first 10 in the form: user_id, average rating, bias."
   ]
  },
  {
   "cell_type": "code",
   "execution_count": 89,
   "id": "charitable-guyana",
   "metadata": {
    "pycharm": {
     "name": "#%%\n"
    }
   },
   "outputs": [
    {
     "name": "stdout",
     "output_type": "stream",
     "text": [
      "   userId  average_rating      bias\n",
      "0       1        4.366379  0.864822\n",
      "1       2        3.948276  0.446719\n",
      "2       3        2.435897 -1.065660\n",
      "3       4        3.555556  0.053999\n",
      "4       5        3.636364  0.134807\n",
      "5       6        3.493631 -0.007926\n",
      "6       7        3.230263 -0.271294\n",
      "7       8        3.574468  0.072911\n",
      "8       9        3.260870 -0.240687\n",
      "9      10        3.278571 -0.222986\n"
     ]
    }
   ],
   "source": [
    "# Write your code here\n",
    "mean = ml_df['rating'].mean()\n",
    "ml_df_rating = ml_df.groupby(['userId'])['rating'].mean().reset_index()\n",
    "ml_df_rating['bias'] = ml_df_rating['rating'].apply(lambda x: x - mean)\n",
    "ml_df_rating.rename(columns = {'rating' : 'average_rating'}, inplace = True)\n",
    "print(ml_df_rating.head(10))"
   ]
  },
  {
   "cell_type": "markdown",
   "id": "intimate-porcelain",
   "metadata": {
    "pycharm": {
     "name": "#%% md\n"
    }
   },
   "source": [
    "**Task 18.** Randomly choose 10 movies and 10 users and print their interaction matrix in the form of a DataFrame with user_id as index and movie titles as columns. You can iterate over the DataFrame in this task. Alternatively, try using the DataFrame pivot and reindex methods and compare the execution time. Initialize the numpy random number generator with seed=4321."
   ]
  },
  {
   "cell_type": "code",
   "execution_count": 199,
   "id": "brazilian-frost",
   "metadata": {
    "pycharm": {
     "name": "#%%\n"
    }
   },
   "outputs": [],
   "source": [
    "# Write your code here\n",
    "user_ids = ml_df['userId'].unique()\n",
    "movie_ids = ml_df['movieId'].unique()\n",
    "rng = np.random.RandomState(seed=4321)\n",
    "user_ids = sorted(list(rng.choice(user_ids, size=10)))\n",
    "movie_ids = sorted(list(rng.choice(movie_ids, size=10)))"
   ]
  },
  {
   "cell_type": "code",
   "execution_count": 439,
   "outputs": [],
   "source": [
    "movies = ml_df[(ml_df[\"movieId\"].isin(movie_ids))][[\"userId\", \"title\"]]"
   ],
   "metadata": {
    "collapsed": false,
    "pycharm": {
     "name": "#%%\n"
    }
   }
  },
  {
   "cell_type": "code",
   "execution_count": 484,
   "outputs": [],
   "source": [
    "test = pd.get_dummies(ml_df[\"title\"])"
   ],
   "metadata": {
    "collapsed": false,
    "pycharm": {
     "name": "#%%\n"
    }
   }
  },
  {
   "cell_type": "code",
   "execution_count": 485,
   "outputs": [
    {
     "data": {
      "text/plain": "       '71 (2014)  'Hellboy': The Seeds of Creation (2004)  \\\n12642           0                                        0   \n12643           0                                        0   \n12644           0                                        0   \n12645           0                                        0   \n12646           0                                        0   \n...           ...                                      ...   \n12915           0                                        0   \n12916           0                                        0   \n12917           0                                        0   \n12918           0                                        0   \n12919           0                                        0   \n\n       'Round Midnight (1986)  'Salem's Lot (2004)  'Til There Was You (1997)  \\\n12642                       0                    0                          0   \n12643                       0                    0                          0   \n12644                       0                    0                          0   \n12645                       0                    0                          0   \n12646                       0                    0                          0   \n...                       ...                  ...                        ...   \n12915                       0                    0                          0   \n12916                       0                    0                          0   \n12917                       0                    0                          0   \n12918                       0                    0                          0   \n12919                       0                    0                          0   \n\n       'Tis the Season for Love (2015)  'burbs, The (1989)  \\\n12642                                0                   0   \n12643                                0                   0   \n12644                                0                   0   \n12645                                0                   0   \n12646                                0                   0   \n...                                ...                 ...   \n12915                                0                   0   \n12916                                0                   0   \n12917                                0                   0   \n12918                                0                   0   \n12919                                0                   0   \n\n       'night Mother (1986)  (500) Days of Summer (2009)  \\\n12642                     0                            0   \n12643                     0                            0   \n12644                     0                            0   \n12645                     0                            0   \n12646                     0                            0   \n...                     ...                          ...   \n12915                     0                            0   \n12916                     0                            0   \n12917                     0                            0   \n12918                     0                            0   \n12919                     0                            0   \n\n       *batteries not included (1987)  ...  Zulu (2013)  [REC] (2007)  \\\n12642                               0  ...            0             0   \n12643                               0  ...            0             0   \n12644                               0  ...            0             0   \n12645                               0  ...            0             0   \n12646                               0  ...            0             0   \n...                               ...  ...          ...           ...   \n12915                               0  ...            0             0   \n12916                               0  ...            0             0   \n12917                               0  ...            0             0   \n12918                               0  ...            0             0   \n12919                               0  ...            0             0   \n\n       [REC]² (2009)  [REC]³ 3 Génesis (2012)  \\\n12642              0                        0   \n12643              0                        0   \n12644              0                        0   \n12645              0                        0   \n12646              0                        0   \n...              ...                      ...   \n12915              0                        0   \n12916              0                        0   \n12917              0                        0   \n12918              0                        0   \n12919              0                        0   \n\n       anohana: The Flower We Saw That Day - The Movie (2013)  \\\n12642                                                  0        \n12643                                                  0        \n12644                                                  0        \n12645                                                  0        \n12646                                                  0        \n...                                                  ...        \n12915                                                  0        \n12916                                                  0        \n12917                                                  0        \n12918                                                  0        \n12919                                                  0        \n\n       eXistenZ (1999)  xXx (2002)  xXx: State of the Union (2005)  \\\n12642                0           0                               0   \n12643                0           0                               0   \n12644                0           0                               0   \n12645                0           0                               0   \n12646                0           0                               0   \n...                ...         ...                             ...   \n12915                0           0                               0   \n12916                0           0                               0   \n12917                0           0                               0   \n12918                0           0                               0   \n12919                0           0                               0   \n\n       ¡Three Amigos! (1986)  À nous la liberté (Freedom for Us) (1931)  \n12642                      0                                          0  \n12643                      0                                          0  \n12644                      0                                          0  \n12645                      0                                          0  \n12646                      0                                          0  \n...                      ...                                        ...  \n12915                      0                                          0  \n12916                      0                                          0  \n12917                      0                                          0  \n12918                      0                                          0  \n12919                      0                                          0  \n\n[278 rows x 9719 columns]",
      "text/html": "<div>\n<style scoped>\n    .dataframe tbody tr th:only-of-type {\n        vertical-align: middle;\n    }\n\n    .dataframe tbody tr th {\n        vertical-align: top;\n    }\n\n    .dataframe thead th {\n        text-align: right;\n    }\n</style>\n<table border=\"1\" class=\"dataframe\">\n  <thead>\n    <tr style=\"text-align: right;\">\n      <th></th>\n      <th>'71 (2014)</th>\n      <th>'Hellboy': The Seeds of Creation (2004)</th>\n      <th>'Round Midnight (1986)</th>\n      <th>'Salem's Lot (2004)</th>\n      <th>'Til There Was You (1997)</th>\n      <th>'Tis the Season for Love (2015)</th>\n      <th>'burbs, The (1989)</th>\n      <th>'night Mother (1986)</th>\n      <th>(500) Days of Summer (2009)</th>\n      <th>*batteries not included (1987)</th>\n      <th>...</th>\n      <th>Zulu (2013)</th>\n      <th>[REC] (2007)</th>\n      <th>[REC]² (2009)</th>\n      <th>[REC]³ 3 Génesis (2012)</th>\n      <th>anohana: The Flower We Saw That Day - The Movie (2013)</th>\n      <th>eXistenZ (1999)</th>\n      <th>xXx (2002)</th>\n      <th>xXx: State of the Union (2005)</th>\n      <th>¡Three Amigos! (1986)</th>\n      <th>À nous la liberté (Freedom for Us) (1931)</th>\n    </tr>\n  </thead>\n  <tbody>\n    <tr>\n      <th>12642</th>\n      <td>0</td>\n      <td>0</td>\n      <td>0</td>\n      <td>0</td>\n      <td>0</td>\n      <td>0</td>\n      <td>0</td>\n      <td>0</td>\n      <td>0</td>\n      <td>0</td>\n      <td>...</td>\n      <td>0</td>\n      <td>0</td>\n      <td>0</td>\n      <td>0</td>\n      <td>0</td>\n      <td>0</td>\n      <td>0</td>\n      <td>0</td>\n      <td>0</td>\n      <td>0</td>\n    </tr>\n    <tr>\n      <th>12643</th>\n      <td>0</td>\n      <td>0</td>\n      <td>0</td>\n      <td>0</td>\n      <td>0</td>\n      <td>0</td>\n      <td>0</td>\n      <td>0</td>\n      <td>0</td>\n      <td>0</td>\n      <td>...</td>\n      <td>0</td>\n      <td>0</td>\n      <td>0</td>\n      <td>0</td>\n      <td>0</td>\n      <td>0</td>\n      <td>0</td>\n      <td>0</td>\n      <td>0</td>\n      <td>0</td>\n    </tr>\n    <tr>\n      <th>12644</th>\n      <td>0</td>\n      <td>0</td>\n      <td>0</td>\n      <td>0</td>\n      <td>0</td>\n      <td>0</td>\n      <td>0</td>\n      <td>0</td>\n      <td>0</td>\n      <td>0</td>\n      <td>...</td>\n      <td>0</td>\n      <td>0</td>\n      <td>0</td>\n      <td>0</td>\n      <td>0</td>\n      <td>0</td>\n      <td>0</td>\n      <td>0</td>\n      <td>0</td>\n      <td>0</td>\n    </tr>\n    <tr>\n      <th>12645</th>\n      <td>0</td>\n      <td>0</td>\n      <td>0</td>\n      <td>0</td>\n      <td>0</td>\n      <td>0</td>\n      <td>0</td>\n      <td>0</td>\n      <td>0</td>\n      <td>0</td>\n      <td>...</td>\n      <td>0</td>\n      <td>0</td>\n      <td>0</td>\n      <td>0</td>\n      <td>0</td>\n      <td>0</td>\n      <td>0</td>\n      <td>0</td>\n      <td>0</td>\n      <td>0</td>\n    </tr>\n    <tr>\n      <th>12646</th>\n      <td>0</td>\n      <td>0</td>\n      <td>0</td>\n      <td>0</td>\n      <td>0</td>\n      <td>0</td>\n      <td>0</td>\n      <td>0</td>\n      <td>0</td>\n      <td>0</td>\n      <td>...</td>\n      <td>0</td>\n      <td>0</td>\n      <td>0</td>\n      <td>0</td>\n      <td>0</td>\n      <td>0</td>\n      <td>0</td>\n      <td>0</td>\n      <td>0</td>\n      <td>0</td>\n    </tr>\n    <tr>\n      <th>...</th>\n      <td>...</td>\n      <td>...</td>\n      <td>...</td>\n      <td>...</td>\n      <td>...</td>\n      <td>...</td>\n      <td>...</td>\n      <td>...</td>\n      <td>...</td>\n      <td>...</td>\n      <td>...</td>\n      <td>...</td>\n      <td>...</td>\n      <td>...</td>\n      <td>...</td>\n      <td>...</td>\n      <td>...</td>\n      <td>...</td>\n      <td>...</td>\n      <td>...</td>\n      <td>...</td>\n    </tr>\n    <tr>\n      <th>12915</th>\n      <td>0</td>\n      <td>0</td>\n      <td>0</td>\n      <td>0</td>\n      <td>0</td>\n      <td>0</td>\n      <td>0</td>\n      <td>0</td>\n      <td>0</td>\n      <td>0</td>\n      <td>...</td>\n      <td>0</td>\n      <td>0</td>\n      <td>0</td>\n      <td>0</td>\n      <td>0</td>\n      <td>0</td>\n      <td>0</td>\n      <td>0</td>\n      <td>0</td>\n      <td>0</td>\n    </tr>\n    <tr>\n      <th>12916</th>\n      <td>0</td>\n      <td>0</td>\n      <td>0</td>\n      <td>0</td>\n      <td>0</td>\n      <td>0</td>\n      <td>0</td>\n      <td>0</td>\n      <td>0</td>\n      <td>0</td>\n      <td>...</td>\n      <td>0</td>\n      <td>0</td>\n      <td>0</td>\n      <td>0</td>\n      <td>0</td>\n      <td>0</td>\n      <td>0</td>\n      <td>0</td>\n      <td>0</td>\n      <td>0</td>\n    </tr>\n    <tr>\n      <th>12917</th>\n      <td>0</td>\n      <td>0</td>\n      <td>0</td>\n      <td>0</td>\n      <td>0</td>\n      <td>0</td>\n      <td>0</td>\n      <td>0</td>\n      <td>0</td>\n      <td>0</td>\n      <td>...</td>\n      <td>0</td>\n      <td>0</td>\n      <td>0</td>\n      <td>0</td>\n      <td>0</td>\n      <td>0</td>\n      <td>0</td>\n      <td>0</td>\n      <td>0</td>\n      <td>0</td>\n    </tr>\n    <tr>\n      <th>12918</th>\n      <td>0</td>\n      <td>0</td>\n      <td>0</td>\n      <td>0</td>\n      <td>0</td>\n      <td>0</td>\n      <td>0</td>\n      <td>0</td>\n      <td>0</td>\n      <td>0</td>\n      <td>...</td>\n      <td>0</td>\n      <td>0</td>\n      <td>0</td>\n      <td>0</td>\n      <td>0</td>\n      <td>0</td>\n      <td>0</td>\n      <td>0</td>\n      <td>0</td>\n      <td>0</td>\n    </tr>\n    <tr>\n      <th>12919</th>\n      <td>0</td>\n      <td>0</td>\n      <td>0</td>\n      <td>0</td>\n      <td>0</td>\n      <td>0</td>\n      <td>0</td>\n      <td>0</td>\n      <td>0</td>\n      <td>0</td>\n      <td>...</td>\n      <td>0</td>\n      <td>0</td>\n      <td>0</td>\n      <td>0</td>\n      <td>0</td>\n      <td>0</td>\n      <td>0</td>\n      <td>0</td>\n      <td>0</td>\n      <td>0</td>\n    </tr>\n  </tbody>\n</table>\n<p>278 rows × 9719 columns</p>\n</div>"
     },
     "execution_count": 485,
     "metadata": {},
     "output_type": "execute_result"
    }
   ],
   "source": [
    "test[test[\"Matrix, The (1999)\"] == 1]"
   ],
   "metadata": {
    "collapsed": false,
    "pycharm": {
     "name": "#%%\n"
    }
   }
  },
  {
   "cell_type": "code",
   "execution_count": 486,
   "outputs": [],
   "source": [
    "merged = ml_df.join(test.reindex(columns=movies[\"title\"].unique())).drop(columns=[\"movieId\", \"rating\", \"timestamp\", \"title\", \"genres\", \"average rating\", \"bias\"])"
   ],
   "metadata": {
    "collapsed": false,
    "pycharm": {
     "name": "#%%\n"
    }
   }
  },
  {
   "cell_type": "code",
   "execution_count": 487,
   "outputs": [
    {
     "data": {
      "text/plain": "        Matrix, The (1999)  Howards End (1992)  Father of the Bride (1950)  \\\n0                        0                   0                           0   \n1                        0                   0                           0   \n2                        0                   0                           0   \n3                        0                   0                           0   \n4                        0                   0                           0   \n...                    ...                 ...                         ...   \n100831                   0                   0                           0   \n100832                   0                   0                           0   \n100833                   0                   0                           0   \n100834                   0                   0                           0   \n100835                   0                   0                           0   \n\n        Wind Rises, The (Kaze tachinu) (2013)  \\\n0                                           0   \n1                                           0   \n2                                           0   \n3                                           0   \n4                                           0   \n...                                       ...   \n100831                                      0   \n100832                                      0   \n100833                                      0   \n100834                                      0   \n100835                                      0   \n\n        Thirteen Conversations About One Thing (a.k.a. 13 Conversations) (2001)  \\\n0                                                       0                         \n1                                                       0                         \n2                                                       0                         \n3                                                       0                         \n4                                                       0                         \n...                                                   ...                         \n100831                                                  0                         \n100832                                                  0                         \n100833                                                  0                         \n100834                                                  0                         \n100835                                                  0                         \n\n        Night Guards (2016)  It Runs in the Family (2003)  Bedazzled (1967)  \\\n0                         0                             0                 0   \n1                         0                             0                 0   \n2                         0                             0                 0   \n3                         0                             0                 0   \n4                         0                             0                 0   \n...                     ...                           ...               ...   \n100831                    0                             0                 0   \n100832                    0                             0                 0   \n100833                    0                             0                 0   \n100834                    0                             0                 0   \n100835                    0                             0                 0   \n\n        I Don't Know How She Does It (2011)  I Love You to Death (1990)  \n0                                         0                           0  \n1                                         0                           0  \n2                                         0                           0  \n3                                         0                           0  \n4                                         0                           0  \n...                                     ...                         ...  \n100831                                    0                           0  \n100832                                    0                           0  \n100833                                    0                           0  \n100834                                    0                           0  \n100835                                    0                           0  \n\n[100836 rows x 10 columns]",
      "text/html": "<div>\n<style scoped>\n    .dataframe tbody tr th:only-of-type {\n        vertical-align: middle;\n    }\n\n    .dataframe tbody tr th {\n        vertical-align: top;\n    }\n\n    .dataframe thead th {\n        text-align: right;\n    }\n</style>\n<table border=\"1\" class=\"dataframe\">\n  <thead>\n    <tr style=\"text-align: right;\">\n      <th></th>\n      <th>Matrix, The (1999)</th>\n      <th>Howards End (1992)</th>\n      <th>Father of the Bride (1950)</th>\n      <th>Wind Rises, The (Kaze tachinu) (2013)</th>\n      <th>Thirteen Conversations About One Thing (a.k.a. 13 Conversations) (2001)</th>\n      <th>Night Guards (2016)</th>\n      <th>It Runs in the Family (2003)</th>\n      <th>Bedazzled (1967)</th>\n      <th>I Don't Know How She Does It (2011)</th>\n      <th>I Love You to Death (1990)</th>\n    </tr>\n  </thead>\n  <tbody>\n    <tr>\n      <th>0</th>\n      <td>0</td>\n      <td>0</td>\n      <td>0</td>\n      <td>0</td>\n      <td>0</td>\n      <td>0</td>\n      <td>0</td>\n      <td>0</td>\n      <td>0</td>\n      <td>0</td>\n    </tr>\n    <tr>\n      <th>1</th>\n      <td>0</td>\n      <td>0</td>\n      <td>0</td>\n      <td>0</td>\n      <td>0</td>\n      <td>0</td>\n      <td>0</td>\n      <td>0</td>\n      <td>0</td>\n      <td>0</td>\n    </tr>\n    <tr>\n      <th>2</th>\n      <td>0</td>\n      <td>0</td>\n      <td>0</td>\n      <td>0</td>\n      <td>0</td>\n      <td>0</td>\n      <td>0</td>\n      <td>0</td>\n      <td>0</td>\n      <td>0</td>\n    </tr>\n    <tr>\n      <th>3</th>\n      <td>0</td>\n      <td>0</td>\n      <td>0</td>\n      <td>0</td>\n      <td>0</td>\n      <td>0</td>\n      <td>0</td>\n      <td>0</td>\n      <td>0</td>\n      <td>0</td>\n    </tr>\n    <tr>\n      <th>4</th>\n      <td>0</td>\n      <td>0</td>\n      <td>0</td>\n      <td>0</td>\n      <td>0</td>\n      <td>0</td>\n      <td>0</td>\n      <td>0</td>\n      <td>0</td>\n      <td>0</td>\n    </tr>\n    <tr>\n      <th>...</th>\n      <td>...</td>\n      <td>...</td>\n      <td>...</td>\n      <td>...</td>\n      <td>...</td>\n      <td>...</td>\n      <td>...</td>\n      <td>...</td>\n      <td>...</td>\n      <td>...</td>\n    </tr>\n    <tr>\n      <th>100831</th>\n      <td>0</td>\n      <td>0</td>\n      <td>0</td>\n      <td>0</td>\n      <td>0</td>\n      <td>0</td>\n      <td>0</td>\n      <td>0</td>\n      <td>0</td>\n      <td>0</td>\n    </tr>\n    <tr>\n      <th>100832</th>\n      <td>0</td>\n      <td>0</td>\n      <td>0</td>\n      <td>0</td>\n      <td>0</td>\n      <td>0</td>\n      <td>0</td>\n      <td>0</td>\n      <td>0</td>\n      <td>0</td>\n    </tr>\n    <tr>\n      <th>100833</th>\n      <td>0</td>\n      <td>0</td>\n      <td>0</td>\n      <td>0</td>\n      <td>0</td>\n      <td>0</td>\n      <td>0</td>\n      <td>0</td>\n      <td>0</td>\n      <td>0</td>\n    </tr>\n    <tr>\n      <th>100834</th>\n      <td>0</td>\n      <td>0</td>\n      <td>0</td>\n      <td>0</td>\n      <td>0</td>\n      <td>0</td>\n      <td>0</td>\n      <td>0</td>\n      <td>0</td>\n      <td>0</td>\n    </tr>\n    <tr>\n      <th>100835</th>\n      <td>0</td>\n      <td>0</td>\n      <td>0</td>\n      <td>0</td>\n      <td>0</td>\n      <td>0</td>\n      <td>0</td>\n      <td>0</td>\n      <td>0</td>\n      <td>0</td>\n    </tr>\n  </tbody>\n</table>\n<p>100836 rows × 10 columns</p>\n</div>"
     },
     "execution_count": 487,
     "metadata": {},
     "output_type": "execute_result"
    }
   ],
   "source": [
    "merged.iloc[:, 1:]"
   ],
   "metadata": {
    "collapsed": false,
    "pycharm": {
     "name": "#%%\n"
    }
   }
  },
  {
   "cell_type": "code",
   "execution_count": 488,
   "outputs": [
    {
     "data": {
      "text/plain": "        Matrix, The (1999)  Howards End (1992)  Father of the Bride (1950)  \\\nuserId                                                                       \n11                       0                   0                           0   \n277                      0                   0                           0   \n286                      1                   0                           0   \n357                      0                   0                           0   \n414                      1                   0                           0   \n428                      1                   0                           0   \n470                      0                   0                           0   \n487                      1                   0                           0   \n543                      1                   0                           0   \n544                      0                   0                           0   \n\n        Wind Rises, The (Kaze tachinu) (2013)  \\\nuserId                                          \n11                                          0   \n277                                         0   \n286                                         0   \n357                                         0   \n414                                         0   \n428                                         0   \n470                                         0   \n487                                         0   \n543                                         0   \n544                                         0   \n\n        Thirteen Conversations About One Thing (a.k.a. 13 Conversations) (2001)  \\\nuserId                                                                            \n11                                                      0                         \n277                                                     0                         \n286                                                     0                         \n357                                                     0                         \n414                                                     1                         \n428                                                     0                         \n470                                                     0                         \n487                                                     0                         \n543                                                     0                         \n544                                                     0                         \n\n        Night Guards (2016)  It Runs in the Family (2003)  Bedazzled (1967)  \\\nuserId                                                                        \n11                        0                             0                 0   \n277                       0                             0                 0   \n286                       0                             0                 0   \n357                       0                             0                 0   \n414                       0                             0                 0   \n428                       0                             0                 0   \n470                       0                             0                 0   \n487                       0                             0                 0   \n543                       0                             0                 0   \n544                       0                             0                 0   \n\n        I Don't Know How She Does It (2011)  I Love You to Death (1990)  \nuserId                                                                   \n11                                        0                           0  \n277                                       0                           0  \n286                                       0                           0  \n357                                       0                           0  \n414                                       0                           0  \n428                                       0                           0  \n470                                       0                           0  \n487                                       0                           0  \n543                                       0                           0  \n544                                       0                           0  ",
      "text/html": "<div>\n<style scoped>\n    .dataframe tbody tr th:only-of-type {\n        vertical-align: middle;\n    }\n\n    .dataframe tbody tr th {\n        vertical-align: top;\n    }\n\n    .dataframe thead th {\n        text-align: right;\n    }\n</style>\n<table border=\"1\" class=\"dataframe\">\n  <thead>\n    <tr style=\"text-align: right;\">\n      <th></th>\n      <th>Matrix, The (1999)</th>\n      <th>Howards End (1992)</th>\n      <th>Father of the Bride (1950)</th>\n      <th>Wind Rises, The (Kaze tachinu) (2013)</th>\n      <th>Thirteen Conversations About One Thing (a.k.a. 13 Conversations) (2001)</th>\n      <th>Night Guards (2016)</th>\n      <th>It Runs in the Family (2003)</th>\n      <th>Bedazzled (1967)</th>\n      <th>I Don't Know How She Does It (2011)</th>\n      <th>I Love You to Death (1990)</th>\n    </tr>\n    <tr>\n      <th>userId</th>\n      <th></th>\n      <th></th>\n      <th></th>\n      <th></th>\n      <th></th>\n      <th></th>\n      <th></th>\n      <th></th>\n      <th></th>\n      <th></th>\n    </tr>\n  </thead>\n  <tbody>\n    <tr>\n      <th>11</th>\n      <td>0</td>\n      <td>0</td>\n      <td>0</td>\n      <td>0</td>\n      <td>0</td>\n      <td>0</td>\n      <td>0</td>\n      <td>0</td>\n      <td>0</td>\n      <td>0</td>\n    </tr>\n    <tr>\n      <th>277</th>\n      <td>0</td>\n      <td>0</td>\n      <td>0</td>\n      <td>0</td>\n      <td>0</td>\n      <td>0</td>\n      <td>0</td>\n      <td>0</td>\n      <td>0</td>\n      <td>0</td>\n    </tr>\n    <tr>\n      <th>286</th>\n      <td>1</td>\n      <td>0</td>\n      <td>0</td>\n      <td>0</td>\n      <td>0</td>\n      <td>0</td>\n      <td>0</td>\n      <td>0</td>\n      <td>0</td>\n      <td>0</td>\n    </tr>\n    <tr>\n      <th>357</th>\n      <td>0</td>\n      <td>0</td>\n      <td>0</td>\n      <td>0</td>\n      <td>0</td>\n      <td>0</td>\n      <td>0</td>\n      <td>0</td>\n      <td>0</td>\n      <td>0</td>\n    </tr>\n    <tr>\n      <th>414</th>\n      <td>1</td>\n      <td>0</td>\n      <td>0</td>\n      <td>0</td>\n      <td>1</td>\n      <td>0</td>\n      <td>0</td>\n      <td>0</td>\n      <td>0</td>\n      <td>0</td>\n    </tr>\n    <tr>\n      <th>428</th>\n      <td>1</td>\n      <td>0</td>\n      <td>0</td>\n      <td>0</td>\n      <td>0</td>\n      <td>0</td>\n      <td>0</td>\n      <td>0</td>\n      <td>0</td>\n      <td>0</td>\n    </tr>\n    <tr>\n      <th>470</th>\n      <td>0</td>\n      <td>0</td>\n      <td>0</td>\n      <td>0</td>\n      <td>0</td>\n      <td>0</td>\n      <td>0</td>\n      <td>0</td>\n      <td>0</td>\n      <td>0</td>\n    </tr>\n    <tr>\n      <th>487</th>\n      <td>1</td>\n      <td>0</td>\n      <td>0</td>\n      <td>0</td>\n      <td>0</td>\n      <td>0</td>\n      <td>0</td>\n      <td>0</td>\n      <td>0</td>\n      <td>0</td>\n    </tr>\n    <tr>\n      <th>543</th>\n      <td>1</td>\n      <td>0</td>\n      <td>0</td>\n      <td>0</td>\n      <td>0</td>\n      <td>0</td>\n      <td>0</td>\n      <td>0</td>\n      <td>0</td>\n      <td>0</td>\n    </tr>\n    <tr>\n      <th>544</th>\n      <td>0</td>\n      <td>0</td>\n      <td>0</td>\n      <td>0</td>\n      <td>0</td>\n      <td>0</td>\n      <td>0</td>\n      <td>0</td>\n      <td>0</td>\n      <td>0</td>\n    </tr>\n  </tbody>\n</table>\n</div>"
     },
     "execution_count": 488,
     "metadata": {},
     "output_type": "execute_result"
    }
   ],
   "source": [
    "merged[merged[\"userId\"].isin(user_ids)].groupby(\"userId\").sum()"
   ],
   "metadata": {
    "collapsed": false,
    "pycharm": {
     "name": "#%%\n"
    }
   }
  },
  {
   "cell_type": "markdown",
   "id": "boolean-modem",
   "metadata": {
    "pycharm": {
     "name": "#%% md\n"
    }
   },
   "source": [
    "## Pandas + numpy tasks"
   ]
  },
  {
   "cell_type": "markdown",
   "id": "worldwide-disclaimer",
   "metadata": {
    "pycharm": {
     "name": "#%% md\n"
    }
   },
   "source": [
    "**Task 19.** Create the entire interaction matrix (2D numpy array) for the MovieLens dataset. Print the submatrix of the first 10 rows and 10 columns."
   ]
  },
  {
   "cell_type": "code",
   "execution_count": null,
   "id": "marine-initial",
   "metadata": {
    "pycharm": {
     "name": "#%%\n"
    }
   },
   "outputs": [],
   "source": [
    "# Write your code here\n"
   ]
  },
  {
   "cell_type": "markdown",
   "id": "micro-vision",
   "metadata": {
    "pycharm": {
     "name": "#%% md\n"
    }
   },
   "source": [
    "**Task 20.** Calculate the matrix of size (n_users, n_users) where at position (i, j) there is the number of movies watched both by user i and user j. Use a single matrix multiplication to obtain the result. Print the submatrix of first 10 rows and 10 columns."
   ]
  },
  {
   "cell_type": "code",
   "execution_count": null,
   "id": "swedish-lambda",
   "metadata": {
    "pycharm": {
     "name": "#%%\n"
    }
   },
   "outputs": [],
   "source": [
    "# Write your code here\n"
   ]
  },
  {
   "cell_type": "markdown",
   "id": "shaped-advance",
   "metadata": {
    "pycharm": {
     "name": "#%% md\n"
    }
   },
   "source": [
    "**Task 21.** Calculate the matrix of size (n_items, n_items) where at position (i, j) there is the number of users who watched both movie i and movie j. Use a single matrix multiplication to obtain the result. To prevent memory error use only the first 1000 items. Print the submatrix of first 10 rows and 10 columns."
   ]
  },
  {
   "cell_type": "code",
   "execution_count": null,
   "id": "quality-bubble",
   "metadata": {
    "pycharm": {
     "name": "#%%\n"
    }
   },
   "outputs": [],
   "source": [
    "# Write your code here\n"
   ]
  }
 ],
 "metadata": {
  "kernelspec": {
   "display_name": "Python 3",
   "language": "python",
   "name": "python3"
  },
  "language_info": {
   "codemirror_mode": {
    "name": "ipython",
    "version": 3
   },
   "file_extension": ".py",
   "mimetype": "text/x-python",
   "name": "python",
   "nbconvert_exporter": "python",
   "pygments_lexer": "ipython3",
   "version": "3.8.8"
  }
 },
 "nbformat": 4,
 "nbformat_minor": 5
}